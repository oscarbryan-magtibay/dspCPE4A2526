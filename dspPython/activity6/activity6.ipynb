{
 "cells": [
  {
   "cell_type": "code",
   "execution_count": 13,
   "id": "05792791",
   "metadata": {},
   "outputs": [
    {
     "name": "stdout",
     "output_type": "stream",
     "text": [
      "Modulation product is: [2, 12, 30, 56, 90, 132, 182, 240, 306]\n"
     ]
    }
   ],
   "source": [
    "xn = [2, 4, 6, 8, 10, 12, 14, 16, 18,]\n",
    "yn = [1, 3, 5, 7, 9, 11, 13, 15, 17,]\n",
    "wn = []\n",
    "\n",
    "def modulationProduct(xn, yn):\n",
    "    for n in range(len(xn)):\n",
    "     w = xn[n] * yn[n]\n",
    "     wn.append(w)\n",
    "    return wn\n",
    "wn = modulationProduct(xn, yn)\n",
    "print(\"Modulation product is:\", wn)"
   ]
  },
  {
   "cell_type": "code",
   "execution_count": 14,
   "id": "1491f163",
   "metadata": {},
   "outputs": [
    {
     "name": "stdout",
     "output_type": "stream",
     "text": [
      "Addition Product: [81, 23, 15, 47, 69]\n"
     ]
    }
   ],
   "source": [
    "xn = [1, 3, 5, 7, 9]\n",
    "yn = [80, 20, 10, 40, 60]\n",
    "\n",
    "def addition(x, y):\n",
    "    return [x[i] + y[i] for i in range(len(x))]\n",
    "\n",
    "wn = addition(xn, yn)\n",
    "print(\"Addition Product:\", wn)"
   ]
  },
  {
   "cell_type": "code",
   "execution_count": 15,
   "id": "02b9f6ac",
   "metadata": {},
   "outputs": [
    {
     "name": "stdout",
     "output_type": "stream",
     "text": [
      "Scalar product is: [80, 30, 20, 50, 40, 70, 50]\n"
     ]
    }
   ],
   "source": [
    "xn = [8, 3, 2, 5, 4, 7, 5,]\n",
    "a = 10\n",
    "wn = []\n",
    "\n",
    "def scalarProduct(a, xn):\n",
    "    for w in xn:\n",
    "        w = a * w\n",
    "        wn.append(w)\n",
    "    return wn\n",
    "        \n",
    "wn = scalarProduct(a, xn)\n",
    "print(\"Scalar product is:\", wn)"
   ]
  },
  {
   "cell_type": "code",
   "execution_count": 16,
   "id": "43a59b1d",
   "metadata": {},
   "outputs": [
    {
     "name": "stdout",
     "output_type": "stream",
     "text": [
      "The time shift product is: [0, 0, 5, 10, 15, 20, 25, 30]\n"
     ]
    }
   ],
   "source": [
    "xn = [5, 10, 15, 20, 25, 30,]\n",
    "a = 2   \n",
    "def timeShift(xn, a):\n",
    "    wn = []\n",
    "    for n in range(a):\n",
    "        wn.append(0)\n",
    "    for n in xn:\n",
    "        wn.append(n)\n",
    "    return wn\n",
    "wn = timeShift(xn, a)\n",
    "print(\"The time shift product is:\", wn)"
   ]
  }
 ],
 "metadata": {
  "kernelspec": {
   "display_name": "Python 3",
   "language": "python",
   "name": "python3"
  },
  "language_info": {
   "codemirror_mode": {
    "name": "ipython",
    "version": 3
   },
   "file_extension": ".py",
   "mimetype": "text/x-python",
   "name": "python",
   "nbconvert_exporter": "python",
   "pygments_lexer": "ipython3",
   "version": "3.13.1"
  }
 },
 "nbformat": 4,
 "nbformat_minor": 5
}

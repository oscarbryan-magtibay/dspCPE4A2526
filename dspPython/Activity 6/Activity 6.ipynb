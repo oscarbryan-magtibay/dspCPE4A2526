{
 "cells": [
  {
   "cell_type": "code",
   "execution_count": 8,
   "metadata": {},
   "outputs": [
    {
     "name": "stdout",
     "output_type": "stream",
     "text": [
      "\n",
      "--- Input ---\n",
      "x(n): [1, 2, 3, 4, 5]  Origin element position: 2\n",
      "y(n): [1, 2, 3]  Origin element position: 1\n",
      "\n",
      "--- Result ---\n",
      "n-axis: [-2, -1, 0, 1, 2]\n",
      "x aligned: [1, 2, 3, 4, 5]\n",
      "y aligned: [0, 1, 2, 3, 0]\n",
      "w(n) = x(n)+y(n): [1, 3, 5, 7, 5]\n"
     ]
    }
   ],
   "source": [
    "# Addition\n",
    "\n",
    "xn = list(map(int, input(\"Enter elements of x(n) separated by space: \").split()))\n",
    "ox = int(input(\"Enter origin element position of x(n): \"))\n",
    "\n",
    "yn = list(map(int, input(\"Enter elements of y(n) separated by space: \").split()))\n",
    "oy = int(input(\"Enter origin element position of y(n): \"))\n",
    "\n",
    "n_min = min(-ox, -oy)\n",
    "n_max = max(len(xn)-ox-1, len(yn)-oy-1)\n",
    "n = list(range(n_min, n_max+1))_\n",
    "\n",
    "x_aligned = [0]*(len(n))\n",
    "y_aligned = [0]*(len(n))\n",
    "\n",
    "for i, val in enumerate(xn):\n",
    "    idx = i - ox - n_min\n",
    "    x_aligned[idx] = val\n",
    "\n",
    "for i, val in enumerate(yn):\n",
    "    idx = i - oy - n_min\n",
    "    y_aligned[idx] = val\n",
    "\n",
    "wn = [x_aligned[i] + y_aligned[i] for i in range(len(n))]\n",
    "\n",
    "print(\"\\n--- Input ---\")\n",
    "print(\"x(n):\", xn, \" Origin element position:\", ox)\n",
    "print(\"y(n):\", yn, \" Origin element position:\", oy)\n",
    "\n",
    "print(\"\\n--- Result ---\")\n",
    "print(\"n-axis:\", n)\n",
    "print(\"x aligned:\", x_aligned)\n",
    "print(\"y aligned:\", y_aligned)\n",
    "print(\"w(n) = x(n)+y(n):\", wn)"
   ]
  },
  {
   "cell_type": "code",
   "execution_count": 9,
   "metadata": {},
   "outputs": [
    {
     "name": "stdout",
     "output_type": "stream",
     "text": [
      "\n",
      "--- Input ---\n",
      "x(n): [1, 2, 3, 4]  Origin element position: 2\n",
      "y(n): [1, 2, 3]  Origin element position: 3\n",
      "\n",
      "--- Result ---\n",
      "n-axis: [-3, -2, -1, 0, 1]\n",
      "x aligned: [0, 1, 2, 3, 4]\n",
      "y aligned: [1, 2, 3, 0, 0]\n",
      "w(n) = x(n)*y(n): [0, 2, 6, 0, 0]\n"
     ]
    }
   ],
   "source": [
    "# Modulation\n",
    "\n",
    "xn = list(map(int, input(\"Enter elements of x(n) separated by space: \").split()))\n",
    "ox = int(input(\"Enter origin element position of x(n): \"))\n",
    "\n",
    "yn = list(map(int, input(\"Enter elements of y(n) separated by space: \").split()))\n",
    "oy = int(input(\"Enter origin element position of y(n): \"))\n",
    "\n",
    "n_min = min(-ox, -oy)\n",
    "n_max = max(len(xn)-ox-1, len(yn)-oy-1)\n",
    "n = list(range(n_min, n_max+1))\n",
    "\n",
    "x_aligned = [0]*(len(n))\n",
    "y_aligned = [0]*(len(n))\n",
    "\n",
    "for i, val in enumerate(xn):\n",
    "    idx = i - ox - n_min\n",
    "    x_aligned[idx] = val\n",
    "\n",
    "for i, val in enumerate(yn):\n",
    "    idx = i - oy - n_min\n",
    "    y_aligned[idx] = val\n",
    "\n",
    "wn = [x_aligned[i] * y_aligned[i] for i in range(len(n))]\n",
    "\n",
    "print(\"\\n--- Input ---\")\n",
    "print(\"x(n):\", xn, \" Origin element position:\", ox)\n",
    "print(\"y(n):\", yn, \" Origin element position:\", oy)\n",
    "\n",
    "print(\"\\n--- Result ---\")\n",
    "print(\"n-axis:\", n)\n",
    "print(\"x aligned:\", x_aligned)\n",
    "print(\"y aligned:\", y_aligned)\n",
    "print(\"w(n) = x(n)*y(n):\", wn)\n"
   ]
  },
  {
   "cell_type": "code",
   "execution_count": 11,
   "metadata": {},
   "outputs": [
    {
     "name": "stdout",
     "output_type": "stream",
     "text": [
      "\n",
      "--- Input ---\n",
      "x(n): [1, 2, 3, 4]\n",
      "Origin element position: 3\n",
      "Scalar A: 2\n",
      "\n",
      "--- Result ---\n",
      "y(n) = A * x(n): [2, 4, 6, 8]\n",
      "Origin element position: 3\n"
     ]
    }
   ],
   "source": [
    "# Scalar Multiplication\n",
    "\n",
    "xn = list(map(int, input(\"Enter elements of x(n) separated by space: \").split()))\n",
    "A = int(input(\"Enter scalar value A: \"))\n",
    "ox = int(input(\"Enter origin element position of x(n): \"))\n",
    "\n",
    "def scalarProduct(A, xn):\n",
    "    wn = []\n",
    "    for w in xn:\n",
    "        wn.append(A * w)\n",
    "    return wn\n",
    "\n",
    "wn = scalarProduct(A, xn)\n",
    "\n",
    "print(\"\\n--- Input ---\")\n",
    "print(\"x(n):\", xn)\n",
    "print(\"Origin element position:\", ox)\n",
    "print(\"Scalar A:\", A)\n",
    "\n",
    "print(\"\\n--- Result ---\")\n",
    "print(\"y(n) = A * x(n):\", wn)\n",
    "print(\"Origin element position:\", ox)\n"
   ]
  },
  {
   "cell_type": "code",
   "execution_count": null,
   "metadata": {},
   "outputs": [
    {
     "name": "stdout",
     "output_type": "stream",
     "text": [
      "\n",
      "--- Results ---\n",
      "x(n) = [-6, -4, -2, 0, 2, 4, 6]\n",
      "Origin index = 3\n",
      "N (shift) = 2\n",
      "w(-1) = z(-3) = -6\n"
     ]
    }
   ],
   "source": [
    "# Time Shifting\n",
    "\n",
    "def time_shift(xn, origin, N, n):\n",
    "    shifted_index = (n - N) + origin\n",
    "    \n",
    "    if 0 <= shifted_index < len(xn):\n",
    "        return xn[shifted_index]\n",
    "    else:\n",
    "        return 0 \n",
    "\n",
    "\n",
    "xn = list(map(int, input(\"Enter the samples of x(n) separated by space: \").split()))\n",
    "origin = int(input(\"Enter the origin index of x(n) (0-based index): \"))\n",
    "N = int(input(\"Enter the shift value N: \"))\n",
    "n = int(input(\"Enter the value of n to compute z(n): \"))\n",
    "result = time_shift(xn, origin, N, n)\n",
    "\n",
    "print(\"\\n--- Results ---\")\n",
    "print(f\"x(n) = {xn}\")\n",
    "print(f\"Origin index = {origin}\")\n",
    "print(f\"N (shift) = {N}\")\n",
    "print(f\"w({n}) = z({n - N}) = {result}\")\n"
   ]
  }
 ],
 "metadata": {
  "kernelspec": {
   "display_name": "Python 3",
   "language": "python",
   "name": "python3"
  },
  "language_info": {
   "codemirror_mode": {
    "name": "ipython",
    "version": 3
   },
   "file_extension": ".py",
   "mimetype": "text/x-python",
   "name": "python",
   "nbconvert_exporter": "python",
   "pygments_lexer": "ipython3",
   "version": "3.13.1"
  }
 },
 "nbformat": 4,
 "nbformat_minor": 2
}

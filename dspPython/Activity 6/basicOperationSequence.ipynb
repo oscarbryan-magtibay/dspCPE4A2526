{
 "cells": [
  {
   "cell_type": "code",
   "execution_count": null,
   "id": "49852079",
   "metadata": {},
   "outputs": [
    {
     "name": "stdout",
     "output_type": "stream",
     "text": [
      "Positions : [-1, 0, 1, 2, 3, 4, 5]\n",
      "Aligned xn: [3.2, 41.0, 36.0, -9.5, 0.0, 0.0, 0.0]\n",
      "Aligned yn: [0.0, 1.7, -0.5, 0.0, 0.0, 8.0, 1.0]\n",
      "Product   : [0.0, 69.7, -18.0, -0.0, 0.0, 0.0, 0.0]\n"
     ]
    }
   ],
   "source": [
    "# Modulation Program (with decimal support)\n",
    "\n",
    "def OriginForxn(originValueOne, xn, originValueTwo, yn):\n",
    "\n",
    "     # check kung nandoon yung origin value sa list\n",
    "    try:\n",
    "        originIndexOne = xn.index(originValueOne)\n",
    "    except ValueError:\n",
    "        raise ValueError(f\"{originValueOne} not found in xn\")\n",
    "    try:\n",
    "        originIndexTwo = yn.index(originValueTwo)\n",
    "    except ValueError:\n",
    "        raise ValueError(f\"{originValueTwo} not found in yn\")\n",
    "\n",
    "    # Calculate relative positions\n",
    "    x_positions = [i - originIndexOne for i in range(len(xn))]\n",
    "    y_positions = [i - originIndexTwo for i in range(len(yn))]\n",
    "\n",
    "    # Map positions to values\n",
    "    x_map = {pos: val for pos, val in zip(x_positions, xn)}\n",
    "    y_map = {pos: val for pos, val in zip(y_positions, yn)}\n",
    "\n",
    "    # Determine full range\n",
    "    min_pos = min(min(x_positions), min(y_positions))\n",
    "    max_pos = max(max(x_positions), max(y_positions))\n",
    "\n",
    "    # Align and multiply\n",
    "    aligned_x, aligned_y, product = [], [], []\n",
    "    positions = list(range(min_pos, max_pos + 1))\n",
    "    for p in positions:\n",
    "        xv = x_map.get(p, 0.0)\n",
    "        yv = y_map.get(p, 0.0)\n",
    "        aligned_x.append(xv)\n",
    "        aligned_y.append(yv)\n",
    "        product.append(xv * yv)\n",
    "\n",
    "    # Display result\n",
    "    print(\"Positions :\", positions)\n",
    "    print(\"Aligned xn:\", aligned_x)\n",
    "    print(\"Aligned yn:\", aligned_y)\n",
    "    print(\"Product   :\", product)\n",
    "\n",
    "    return positions, aligned_x, aligned_y, product\n",
    "\n",
    "\n",
    "# --- MAIN PROGRAM ---\n",
    "originValueOne = float(input(\"Enter the origin value for xn: \"))\n",
    "xn = list(map(float, input(\"Enter values for xn (separated by spaces): \").split()))\n",
    "\n",
    "originValueTwo = float(input(\"Enter the origin value for yn: \"))\n",
    "yn = list(map(float, input(\"Enter values for yn (separated by spaces): \").split()))\n",
    "\n",
    "# Function call\n",
    "positions, ax, ay, prod = OriginForxn(originValueOne, xn, originValueTwo, yn)\n"
   ]
  },
  {
   "cell_type": "code",
   "execution_count": null,
   "id": "ea134bf1",
   "metadata": {},
   "outputs": [
    {
     "name": "stdout",
     "output_type": "stream",
     "text": [
      "Positions : [-1, 0, 1, 2, 3, 4]\n",
      "Aligned xn: [3.2, 41.0, 36.0, -9.5, 0.0, 0.0]\n",
      "Aligned yn: [0.0, 1.7, -0.5, 0.0, 0.8, 1.0]\n",
      "Product   : [3.2, 42.7, 35.5, -9.5, 0.8, 1.0]\n"
     ]
    }
   ],
   "source": [
    "# Addition\n",
    "\n",
    "def OriginForxn(originValueOne, xn, originValueTwo, yn):\n",
    "\n",
    "    # check kung nandoon yung origin value sa list\n",
    "    try:\n",
    "        originIndexOne = xn.index(originValueOne)\n",
    "    except ValueError:\n",
    "        raise ValueError(f\"{originValueOne} not found in xn\")\n",
    "    try:\n",
    "        originIndexTwo = yn.index(originValueTwo)\n",
    "    except ValueError:\n",
    "        raise ValueError(f\"{originValueTwo} not found in yn\")\n",
    "\n",
    "    # Calculate relative positions\n",
    "    x_positions = [i - originIndexOne for i in range(len(xn))]\n",
    "    y_positions = [i - originIndexTwo for i in range(len(yn))]\n",
    "\n",
    "    # Map positions to values\n",
    "    x_map = {pos: val for pos, val in zip(x_positions, xn)}\n",
    "    y_map = {pos: val for pos, val in zip(y_positions, yn)}\n",
    "\n",
    "    # Determine full range\n",
    "    min_pos = min(min(x_positions), min(y_positions))\n",
    "    max_pos = max(max(x_positions), max(y_positions))\n",
    "\n",
    "    # Align and Add\n",
    "    aligned_x, aligned_y, product = [], [], []\n",
    "    positions = list(range(min_pos, max_pos + 1))\n",
    "    for p in positions:\n",
    "        xv = x_map.get(p, 0.0)\n",
    "        yv = y_map.get(p, 0.0)\n",
    "        aligned_x.append(xv)\n",
    "        aligned_y.append(yv)\n",
    "        product.append(xv + yv)\n",
    "\n",
    "    # Display result\n",
    "    print(\"Positions :\", positions)\n",
    "    print(\"Aligned xn:\", aligned_x)\n",
    "    print(\"Aligned yn:\", aligned_y)\n",
    "    print(\"Product   :\", product)\n",
    "\n",
    "    return positions, aligned_x, aligned_y, product\n",
    "\n",
    "\n",
    "# --- MAIN PROGRAM ---\n",
    "originValueOne = float(input(\"Enter the origin value for xn: \"))\n",
    "xn = list(map(float, input(\"Enter values for xn (separated by spaces): \").split()))\n",
    "\n",
    "originValueTwo = float(input(\"Enter the origin value for yn: \"))\n",
    "yn = list(map(float, input(\"Enter values for yn (separated by spaces): \").split()))\n",
    "\n",
    "# Function call\n",
    "positions, ax, ay, prod = OriginForxn(originValueOne, xn, originValueTwo, yn)\n",
    "\n",
    "\n",
    "\n"
   ]
  },
  {
   "cell_type": "code",
   "execution_count": null,
   "id": "fd1a6474",
   "metadata": {},
   "outputs": [
    {
     "name": "stdout",
     "output_type": "stream",
     "text": [
      "The scalar Product is:  [1, 2, 3, 4, 5]\n"
     ]
    }
   ],
   "source": [
    "# kukunin yung user input for A \n",
    "A = int(input(\"Enter the scalar value A: \"))\n",
    "# eto namn ay para sa xn \n",
    "xn = list(map(int, input(\"Enter values for xn (separated by spaces): \").split()))\n",
    "# need mo i declare kase eto yung pag lalagyan ng result\n",
    "wn = []\n",
    "\n",
    "def scalarMutiplication(A,xn):\n",
    "    for w in xn:\n",
    "        w = A*w\n",
    "        wn.append(w)\n",
    "    return wn\n",
    "\n",
    "wn = scalarMutiplication(A,xn)\n",
    "print(\"The scalar Product is: \",wn)"
   ]
  },
  {
   "cell_type": "code",
   "execution_count": 36,
   "id": "1747b83c",
   "metadata": {},
   "outputs": [
    {
     "name": "stdout",
     "output_type": "stream",
     "text": [
      "Original Sequence: [-6, -4, -2, 0, 2, 4, 6]\n",
      "Shift Value: 2\n",
      "Time Shifted Result: [0, 0, -6, -4, -2, 0, 2, 4, 6]\n"
     ]
    }
   ],
   "source": [
    "# Time Shifting\n",
    "\n",
    "def time_shift(seq, shift, origin_index):\n",
    "    if shift > 0:\n",
    "        new_seq = [0] * shift + seq\n",
    "    else:\n",
    "        new_seq = seq[abs(shift):]\n",
    "    return new_seq\n",
    "\n",
    "\n",
    "# kukunin yung user input for sequence values\n",
    "seq_input = input(\"Enter sequence values (comma separated): \")\n",
    "xn = [int(x) for x in seq_input.split(\",\")]\n",
    "\n",
    "# ito namn ay para sa origin index\n",
    "originX = int(input(\"Enter origin index (integer): \"))\n",
    "\n",
    "# eto naman ay para sa shift value\n",
    "n_shift = int(input(\"Enter shift value (positive=right, negative=left): \"))\n",
    "\n",
    "\n",
    "print(f\"Original Sequence: {xn}\")\n",
    "print(f\"Shift Value: {n_shift}\")\n",
    "print(f\"Time Shifted Result: {shifted_xn}\")\n",
    "\n",
    "\n",
    "\n",
    "\n",
    "\n"
   ]
  }
 ],
 "metadata": {
  "kernelspec": {
   "display_name": "Python 3",
   "language": "python",
   "name": "python3"
  },
  "language_info": {
   "codemirror_mode": {
    "name": "ipython",
    "version": 3
   },
   "file_extension": ".py",
   "mimetype": "text/x-python",
   "name": "python",
   "nbconvert_exporter": "python",
   "pygments_lexer": "ipython3",
   "version": "3.9.23"
  }
 },
 "nbformat": 4,
 "nbformat_minor": 5
}

{
 "cells": [
  {
   "cell_type": "code",
   "execution_count": 11,
   "metadata": {},
   "outputs": [
    {
     "name": "stderr",
     "output_type": "stream",
     "text": [
      "\n",
      "[notice] A new release of pip is available: 23.2.1 -> 25.2\n",
      "[notice] To update, run: python.exe -m pip install --upgrade pip\n"
     ]
    },
    {
     "name": "stdout",
     "output_type": "stream",
     "text": [
      "Requirement already satisfied: scikit-learn in c:\\users\\administrator\\appdata\\local\\programs\\python\\python312\\lib\\site-packages (1.7.1)\n",
      "Requirement already satisfied: numpy>=1.22.0 in c:\\users\\administrator\\appdata\\local\\programs\\python\\python312\\lib\\site-packages (from scikit-learn) (2.2.6)\n",
      "Requirement already satisfied: scipy>=1.8.0 in c:\\users\\administrator\\appdata\\local\\programs\\python\\python312\\lib\\site-packages (from scikit-learn) (1.16.1)\n",
      "Requirement already satisfied: joblib>=1.2.0 in c:\\users\\administrator\\appdata\\local\\programs\\python\\python312\\lib\\site-packages (from scikit-learn) (1.5.1)\n",
      "Requirement already satisfied: threadpoolctl>=3.1.0 in c:\\users\\administrator\\appdata\\local\\programs\\python\\python312\\lib\\site-packages (from scikit-learn) (3.6.0)\n",
      "Note: you may need to restart the kernel to use updated packages.\n"
     ]
    }
   ],
   "source": [
    "%pip install scikit-learn\n",
    "\n",
    "import cv2\n",
    "import numpy as np\n",
    "import tkinter as tk\n",
    "from tkinter import filedialog\n",
    "from PIL import Image, ImageTk\n",
    "import matplotlib.pyplot as plt"
   ]
  },
  {
   "cell_type": "code",
   "execution_count": 12,
   "metadata": {},
   "outputs": [],
   "source": [
    "def detect_coins(image):\n",
    "    gray = cv2.GaussianBlur(cv2.cvtColor(image, cv2.COLOR_BGR2GRAY), (9, 9), 2)\n",
    "    circles = cv2.HoughCircles(gray, cv2.HOUGH_GRADIENT, 1.2, 100,\n",
    "                               param1=100, param2=70, minRadius=40, maxRadius=120)\n",
    "\n",
    "    annotated, total, counts = image.copy(), 0, {1: 0, 5: 0, 10: 0, 20: 0}\n",
    "    if circles is None: return annotated, counts, total\n",
    "\n",
    "    for x, y, r in np.uint16(np.around(circles[0])):\n",
    "        roi = image[y-r:y+r, x-r:x+r]\n",
    "        hsv = cv2.cvtColor(roi, cv2.COLOR_BGR2HSV)\n",
    "        gold = cv2.inRange(hsv, (10, 40, 50), (40, 255, 255))\n",
    "        gold_ratio = np.mean(gold > 0)\n",
    "\n",
    "        if gold_ratio > 0.02: val = 20\n",
    "        elif r < 55: val = 1\n",
    "        elif r < 70: val = 5\n",
    "        else: val = 10\n",
    "\n",
    "        counts[val] += 1\n",
    "        total += val\n",
    "\n",
    "        cv2.circle(annotated, (x, y), r, (0, 255, 0), 2)\n",
    "        cv2.putText(annotated, f\" PHP {val}\", (x-25, y), cv2.FONT_HERSHEY_TRIPLEX, 0.7, (0,0,255), 2)\n",
    "\n",
    "    return annotated, counts, total\n"
   ]
  },
  {
   "cell_type": "code",
   "execution_count": 13,
   "metadata": {},
   "outputs": [],
   "source": [
    "def detect_bills(image):\n",
    "    hsv, annotated = cv2.cvtColor(image, cv2.COLOR_BGR2HSV), image.copy()\n",
    "    total, counts = 0, {20:0, 50:0, 100:0, 200:0, 500:0, 1000:0}\n",
    "\n",
    "    bill_colors = {\n",
    "        20: ([5, 100, 100],   [20, 255, 255]),   # orange\n",
    "        50: ([160, 100, 100], [179, 255, 255]),  # red\n",
    "        100: ([125, 80, 80],  [150, 255, 255]),  # violet\n",
    "        200: ([40, 80, 80],   [80, 255, 255]),   # green\n",
    "        500: ([20, 80, 80],   [35, 255, 255]),   # yellow\n",
    "        1000:([90, 80, 80],   [120, 255, 255])   # blue\n",
    "    }\n",
    "\n",
    "    for val, (low, high) in bill_colors.items():\n",
    "        mask = cv2.inRange(hsv, np.array(low), np.array(high))\n",
    "        if cv2.countNonZero(mask) > 5000:   # basic threshold\n",
    "            counts[val] += 1\n",
    "            total += val\n",
    "            cv2.putText(annotated, f\"PHP {val}\", (50, 50+30*list(bill_colors).index(val)),\n",
    "                        cv2.FONT_HERSHEY_TRIPLEX, 1, (0,0,255), 2)\n",
    "\n",
    "    return annotated, counts, total\n"
   ]
  },
  {
   "cell_type": "code",
   "execution_count": 14,
   "metadata": {},
   "outputs": [],
   "source": [
    "def detect_money(image):\n",
    "    coins_img, coin_counts, coin_total = detect_coins(image)\n",
    "    bills_img, bill_counts, bill_total = detect_bills(coins_img)\n",
    "\n",
    "    total = coin_total + bill_total\n",
    "    counts = {**coin_counts, **bill_counts}\n",
    "\n",
    "    cv2.putText(bills_img, f\"TOTAL: {total}\", (30, 60),\n",
    "                cv2.FONT_HERSHEY_SIMPLEX, 1.5, (255,255,255), 3)\n",
    "\n",
    "    return bills_img, counts, total\n",
    "\n"
   ]
  },
  {
   "cell_type": "code",
   "execution_count": 15,
   "metadata": {},
   "outputs": [],
   "source": [
    "class Activity4:\n",
    "    def __init__(self, root, cam_index=0):\n",
    "        self.root, self.cam_index = root, cam_index\n",
    "        self.cap, self.frame, self.running = None, None, False\n",
    "\n",
    "        self.video_label = tk.Label(root); self.video_label.pack()\n",
    "        tk.Button(root, text=\"Start\", command=self.start).pack(side=\"left\", padx=5)\n",
    "        tk.Button(root, text=\"Stop\", command=self.stop).pack(side=\"left\", padx=5)\n",
    "        tk.Button(root, text=\"Snapshot\", command=self.snapshot).pack(side=\"left\", padx=5)\n",
    "\n",
    "    def start(self):\n",
    "        if self.running: return\n",
    "        self.cap = cv2.VideoCapture(self.cam_index)\n",
    "        if not self.cap.isOpened(): print(\"No camera\"); return\n",
    "        self.running = True; self.update()\n",
    "\n",
    "    def stop(self):\n",
    "        if self.cap: self.cap.release()\n",
    "        self.running = False\n",
    "\n",
    "    def snapshot(self):\n",
    "        if self.frame is not None:\n",
    "            cv2.imwrite(\"snapshot.png\", cv2.cvtColor(self.frame, cv2.COLOR_BGR2RGB))\n",
    "            print(\"Saved snapshot\")\n",
    "\n",
    "    def update(self):\n",
    "        if self.running and self.cap:\n",
    "            ret, frame = self.cap.read()\n",
    "            if ret:\n",
    "                img, _, _ = detect_money(frame)\n",
    "                self.frame = img\n",
    "                imgtk = ImageTk.PhotoImage(Image.fromarray(cv2.cvtColor(img, cv2.COLOR_BGR2RGB)))\n",
    "                self.video_label.config(image=imgtk); self.video_label.imgtk = imgtk\n",
    "        self.root.after(30, self.update)\n"
   ]
  },
  {
   "cell_type": "code",
   "execution_count": 17,
   "metadata": {},
   "outputs": [],
   "source": [
    "root = tk.Tk()\n",
    "app = Activity4(root)\n",
    "root.mainloop()"
   ]
  }
 ],
 "metadata": {
  "kernelspec": {
   "display_name": "Python 3",
   "language": "python",
   "name": "python3"
  },
  "language_info": {
   "codemirror_mode": {
    "name": "ipython",
    "version": 3
   },
   "file_extension": ".py",
   "mimetype": "text/x-python",
   "name": "python",
   "nbconvert_exporter": "python",
   "pygments_lexer": "ipython3",
   "version": "3.12.0"
  }
 },
 "nbformat": 4,
 "nbformat_minor": 2
}

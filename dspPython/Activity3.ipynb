{
 "cells": [
  {
   "cell_type": "code",
   "execution_count": 35,
   "metadata": {},
   "outputs": [
    {
     "name": "stdout",
     "output_type": "stream",
     "text": [
      "Found existing installation: opencv-python-headless 4.12.0.88\n",
      "Uninstalling opencv-python-headless-4.12.0.88:\n",
      "  Successfully uninstalled opencv-python-headless-4.12.0.88\n",
      "Note: you may need to restart the kernel to use updated packages.\n"
     ]
    },
    {
     "name": "stderr",
     "output_type": "stream",
     "text": [
      "WARNING: Failed to remove contents in a temporary directory 'C:\\Users\\Administrator\\AppData\\Local\\Packages\\PythonSoftwareFoundation.Python.3.12_qbz5n2kfra8p0\\LocalCache\\local-packages\\Python312\\site-packages\\~v2'.\n",
      "You can safely remove it manually.\n"
     ]
    }
   ],
   "source": [
    "pip uninstall opencv-python-headless -y\n"
   ]
  },
  {
   "cell_type": "code",
   "execution_count": 36,
   "metadata": {},
   "outputs": [
    {
     "name": "stdout",
     "output_type": "stream",
     "text": [
      "Defaulting to user installation because normal site-packages is not writeable\n",
      "Collecting opencv-python\n",
      "  Downloading opencv_python-4.12.0.88-cp37-abi3-win_amd64.whl.metadata (19 kB)\n",
      "Requirement already satisfied: numpy<2.3.0,>=2 in c:\\users\\administrator\\appdata\\local\\packages\\pythonsoftwarefoundation.python.3.12_qbz5n2kfra8p0\\localcache\\local-packages\\python312\\site-packages (from opencv-python) (2.2.6)\n",
      "Downloading opencv_python-4.12.0.88-cp37-abi3-win_amd64.whl (39.0 MB)\n",
      "   ---------------------------------------- 0.0/39.0 MB ? eta -:--:--\n",
      "   ---------------------------------------- 0.3/39.0 MB ? eta -:--:--\n",
      "   - -------------------------------------- 1.3/39.0 MB 5.2 MB/s eta 0:00:08\n",
      "   ---------- ----------------------------- 10.0/39.0 MB 22.1 MB/s eta 0:00:02\n",
      "   --------------- ------------------------ 14.7/39.0 MB 24.3 MB/s eta 0:00:02\n",
      "   --------------- ------------------------ 15.2/39.0 MB 18.7 MB/s eta 0:00:02\n",
      "   ---------------- ----------------------- 16.0/39.0 MB 14.8 MB/s eta 0:00:02\n",
      "   ----------------- ---------------------- 16.8/39.0 MB 13.0 MB/s eta 0:00:02\n",
      "   ------------------ --------------------- 18.4/39.0 MB 12.3 MB/s eta 0:00:02\n",
      "   ---------------------- ----------------- 21.8/39.0 MB 12.4 MB/s eta 0:00:02\n",
      "   -------------------------------------- - 37.5/39.0 MB 19.1 MB/s eta 0:00:01\n",
      "   ---------------------------------------- 39.0/39.0 MB 18.0 MB/s eta 0:00:00\n",
      "Installing collected packages: opencv-python\n",
      "Successfully installed opencv-python-4.12.0.88\n",
      "Note: you may need to restart the kernel to use updated packages.\n"
     ]
    },
    {
     "name": "stderr",
     "output_type": "stream",
     "text": [
      "\n",
      "[notice] A new release of pip is available: 25.0.1 -> 25.2\n",
      "[notice] To update, run: C:\\Users\\Administrator\\AppData\\Local\\Microsoft\\WindowsApps\\PythonSoftwareFoundation.Python.3.12_qbz5n2kfra8p0\\python.exe -m pip install --upgrade pip\n"
     ]
    }
   ],
   "source": [
    "pip install opencv-python\n"
   ]
  },
  {
   "cell_type": "code",
   "execution_count": 4,
   "metadata": {},
   "outputs": [
    {
     "name": "stdout",
     "output_type": "stream",
     "text": [
      "Defaulting to user installation because normal site-packages is not writeable\n",
      "Requirement already satisfied: opencv-python-headless in c:\\users\\administrator\\appdata\\local\\packages\\pythonsoftwarefoundation.python.3.12_qbz5n2kfra8p0\\localcache\\local-packages\\python312\\site-packages (4.12.0.88)\n",
      "Requirement already satisfied: numpy<2.3.0,>=2 in c:\\users\\administrator\\appdata\\local\\packages\\pythonsoftwarefoundation.python.3.12_qbz5n2kfra8p0\\localcache\\local-packages\\python312\\site-packages (from opencv-python-headless) (2.2.6)\n",
      "Note: you may need to restart the kernel to use updated packages.\n"
     ]
    },
    {
     "name": "stderr",
     "output_type": "stream",
     "text": [
      "\n",
      "[notice] A new release of pip is available: 25.0.1 -> 25.2\n",
      "[notice] To update, run: C:\\Users\\Administrator\\AppData\\Local\\Microsoft\\WindowsApps\\PythonSoftwareFoundation.Python.3.12_qbz5n2kfra8p0\\python.exe -m pip install --upgrade pip\n"
     ]
    }
   ],
   "source": [
    "%pip install opencv-python-headless"
   ]
  },
  {
   "cell_type": "code",
   "execution_count": 21,
   "metadata": {},
   "outputs": [
    {
     "name": "stdout",
     "output_type": "stream",
     "text": [
      "Defaulting to user installation because normal site-packages is not writeable\n",
      "Collecting matplotlib\n",
      "  Downloading matplotlib-3.10.5-cp312-cp312-win_amd64.whl.metadata (11 kB)\n",
      "Collecting contourpy>=1.0.1 (from matplotlib)\n",
      "  Downloading contourpy-1.3.3-cp312-cp312-win_amd64.whl.metadata (5.5 kB)\n",
      "Collecting cycler>=0.10 (from matplotlib)\n",
      "  Downloading cycler-0.12.1-py3-none-any.whl.metadata (3.8 kB)\n",
      "Collecting fonttools>=4.22.0 (from matplotlib)\n",
      "  Downloading fonttools-4.59.1-cp312-cp312-win_amd64.whl.metadata (111 kB)\n",
      "Collecting kiwisolver>=1.3.1 (from matplotlib)\n",
      "  Downloading kiwisolver-1.4.9-cp312-cp312-win_amd64.whl.metadata (6.4 kB)\n",
      "Requirement already satisfied: numpy>=1.23 in c:\\users\\administrator\\appdata\\local\\packages\\pythonsoftwarefoundation.python.3.12_qbz5n2kfra8p0\\localcache\\local-packages\\python312\\site-packages (from matplotlib) (2.2.6)\n",
      "Requirement already satisfied: packaging>=20.0 in c:\\users\\administrator\\appdata\\local\\packages\\pythonsoftwarefoundation.python.3.12_qbz5n2kfra8p0\\localcache\\local-packages\\python312\\site-packages (from matplotlib) (24.2)\n",
      "Requirement already satisfied: pillow>=8 in c:\\users\\administrator\\appdata\\local\\packages\\pythonsoftwarefoundation.python.3.12_qbz5n2kfra8p0\\localcache\\local-packages\\python312\\site-packages (from matplotlib) (11.2.1)\n",
      "Collecting pyparsing>=2.3.1 (from matplotlib)\n",
      "  Downloading pyparsing-3.2.3-py3-none-any.whl.metadata (5.0 kB)\n",
      "Requirement already satisfied: python-dateutil>=2.7 in c:\\users\\administrator\\appdata\\local\\packages\\pythonsoftwarefoundation.python.3.12_qbz5n2kfra8p0\\localcache\\local-packages\\python312\\site-packages (from matplotlib) (2.9.0.post0)\n",
      "Requirement already satisfied: six>=1.5 in c:\\users\\administrator\\appdata\\local\\packages\\pythonsoftwarefoundation.python.3.12_qbz5n2kfra8p0\\localcache\\local-packages\\python312\\site-packages (from python-dateutil>=2.7->matplotlib) (1.17.0)\n",
      "Downloading matplotlib-3.10.5-cp312-cp312-win_amd64.whl (8.1 MB)\n",
      "   ---------------------------------------- 0.0/8.1 MB ? eta -:--:--\n",
      "   -- ------------------------------------- 0.5/8.1 MB 3.4 MB/s eta 0:00:03\n",
      "   ------------------------- -------------- 5.2/8.1 MB 15.2 MB/s eta 0:00:01\n",
      "   ---------------------------------------- 8.1/8.1 MB 16.7 MB/s eta 0:00:00\n",
      "Downloading contourpy-1.3.3-cp312-cp312-win_amd64.whl (226 kB)\n",
      "Downloading cycler-0.12.1-py3-none-any.whl (8.3 kB)\n",
      "Downloading fonttools-4.59.1-cp312-cp312-win_amd64.whl (2.3 MB)\n",
      "   ---------------------------------------- 0.0/2.3 MB ? eta -:--:--\n",
      "   -------------------------------- ------- 1.8/2.3 MB 20.2 MB/s eta 0:00:01\n",
      "   ---------------------------------------- 2.3/2.3 MB 5.3 MB/s eta 0:00:00\n",
      "Downloading kiwisolver-1.4.9-cp312-cp312-win_amd64.whl (73 kB)\n",
      "Downloading pyparsing-3.2.3-py3-none-any.whl (111 kB)\n",
      "Installing collected packages: pyparsing, kiwisolver, fonttools, cycler, contourpy, matplotlib\n",
      "Successfully installed contourpy-1.3.3 cycler-0.12.1 fonttools-4.59.1 kiwisolver-1.4.9 matplotlib-3.10.5 pyparsing-3.2.3\n",
      "Note: you may need to restart the kernel to use updated packages.\n"
     ]
    },
    {
     "name": "stderr",
     "output_type": "stream",
     "text": [
      "\n",
      "[notice] A new release of pip is available: 25.0.1 -> 25.2\n",
      "[notice] To update, run: C:\\Users\\Administrator\\AppData\\Local\\Microsoft\\WindowsApps\\PythonSoftwareFoundation.Python.3.12_qbz5n2kfra8p0\\python.exe -m pip install --upgrade pip\n"
     ]
    }
   ],
   "source": [
    "pip install matplotlib"
   ]
  },
  {
   "cell_type": "code",
   "execution_count": null,
   "metadata": {},
   "outputs": [],
   "source": []
  },
  {
   "cell_type": "code",
   "execution_count": 80,
   "metadata": {},
   "outputs": [],
   "source": [
    "def detect_coins(image):\n",
    "    gray = cv2.cvtColor(image, cv2.COLOR_BGR2GRAY)\n",
    "    gray = cv2.GaussianBlur(gray, (5, 5), 0)\n",
    "\n",
    "    circles = cv2.HoughCircles(\n",
    "        gray,\n",
    "        cv2.HOUGH_GRADIENT,\n",
    "        dp=1.2,\n",
    "        minDist=50,\n",
    "        param1=50,\n",
    "        param2=30,\n",
    "        minRadius=50,\n",
    "        maxRadius=100\n",
    "    )\n",
    "\n",
    "    annotated = image.copy()\n",
    "    total = 0\n",
    "    counts = {1:0, 5:0, 10:0, 20:0}\n",
    "\n",
    "    if circles is not None:\n",
    "        circles = np.uint16(np.around(circles[0, :]))\n",
    "        detected = []\n",
    "\n",
    "        for (x, y, r) in circles:\n",
    "            if any(np.hypot(x - dx, y - dy) < 0.8 * r for dx, dy, dr in detected):\n",
    "                continue\n",
    "            detected.append((x, y, r))\n",
    "\n",
    "            x1, y1 = max(0, x-r), max(0, y-r)\n",
    "            x2, y2 = min(image.shape[1], x+r), min(image.shape[0], y+r)\n",
    "            coin_roi = image[y1:y2, x1:x2]\n",
    "\n",
    "            val = None\n",
    "            hsv = cv2.cvtColor(coin_roi, cv2.COLOR_BGR2HSV)\n",
    "            lower_gold = np.array([15, 50, 50])\n",
    "            upper_gold = np.array([35, 255, 255])\n",
    "            mask_gold = cv2.inRange(hsv, lower_gold, upper_gold)\n",
    "            gold_ratio = np.sum(mask_gold > 0) / (coin_roi.shape[0] * coin_roi.shape[1])\n",
    "\n",
    "            if gold_ratio > 0.03:\n",
    "                val = 20\n",
    "            else:\n",
    "                if r < 40:\n",
    "                    val = 1\n",
    "                elif r < 60:\n",
    "                    val = 5\n",
    "                else:\n",
    "                    val = 10\n",
    "\n",
    "            counts[val] += 1\n",
    "            total += val\n",
    "            cv2.circle(annotated, (x, y), r, (0, 255, 0), 2)\n",
    "            cv2.putText(annotated, f\"PHP {val}\", (x-20, y), cv2.FONT_HERSHEY_TRIPLEX, 0.6, (0,0,255), 2)\n",
    "\n",
    "    cv2.putText(annotated, f\"Total: PHP {total}\", (20, 40), cv2.FONT_HERSHEY_TRIPLEX, 1, (255,255,255), 2)\n",
    "    return annotated, counts, total\n"
   ]
  },
  {
   "cell_type": "code",
   "execution_count": 87,
   "metadata": {},
   "outputs": [],
   "source": [
    "def detect_coins(image):\n",
    "    gray = cv2.cvtColor(image, cv2.COLOR_BGR2GRAY)\n",
    "    gray = cv2.GaussianBlur(gray, (7, 7), 1.5)\n",
    "\n",
    "    circles = cv2.HoughCircles(\n",
    "        gray, \n",
    "        cv2.HOUGH_GRADIENT, \n",
    "        dp=1.2, \n",
    "        minDist=50, \n",
    "        param1=100, \n",
    "        param2=50, \n",
    "        minRadius=30, \n",
    "        maxRadius=120\n",
    "    )\n",
    "\n",
    "    annotated = image.copy()\n",
    "    total = 0\n",
    "    counts = {1:0, 5:0, 10:0, 20:0}\n",
    "\n",
    "    if circles is not None:\n",
    "        circles = np.uint16(np.around(circles[0, :]))\n",
    "        circles = sorted(circles, key=lambda c: c[2], reverse=True)\n",
    "        detected = []\n",
    "\n",
    "        for (x, y, r) in circles:\n",
    "            if any(np.hypot(x - dx, y - dy) < 0.8 * r for dx, dy, dr in detected):\n",
    "                continue\n",
    "            detected.append((x, y, r))\n",
    "\n",
    "            x1, y1 = max(0, x-r), max(0, y-r)\n",
    "            x2, y2 = min(image.shape[1], x+r), min(image.shape[0], y+r)\n",
    "            if x1 >= x2 or y1 >= y2:\n",
    "                continue\n",
    "\n",
    "            coin_roi = image[y1:y2, x1:x2]\n",
    "\n",
    "            val = None\n",
    "            if coin_roi.size == 0:\n",
    "                continue\n",
    "\n",
    "            hsv = cv2.cvtColor(coin_roi, cv2.COLOR_BGR2HSV)\n",
    "            lower_gold = np.array([15, 80, 80])\n",
    "            upper_gold = np.array([35, 255, 255])\n",
    "            mask_gold = cv2.inRange(hsv, lower_gold, upper_gold)\n",
    "            gold_ratio = np.sum(mask_gold > 0) / (coin_roi.shape[0] * coin_roi.shape[1])\n",
    "\n",
    "            if gold_ratio > 0.05:\n",
    "                val = 20\n",
    "            else:\n",
    "                if r < 55:\n",
    "                    val = 1\n",
    "                elif r < 70:\n",
    "                    val = 5\n",
    "                else:\n",
    "                    val = 10\n",
    "\n",
    "            counts[val] += 1\n",
    "            total += val\n",
    "\n",
    "            cv2.circle(annotated, (x, y), r, (0, 255, 0), 3)\n",
    "            cv2.putText(annotated, f\"PHP {val}\", (x-30, y), cv2.FONT_HERSHEY_TRIPLEX, 0.8, (0, 0, 255), 2)\n",
    "\n",
    "    cv2.putText(annotated, f\"Total: PHP {total}\", (20, 40), cv2.FONT_HERSHEY_TRIPLEX, 1.2, (255, 255, 255), 3)\n",
    "    return annotated, counts, total\n"
   ]
  },
  {
   "cell_type": "code",
   "execution_count": 93,
   "metadata": {},
   "outputs": [],
   "source": [
    "import tkinter as tk\n",
    "import cv2\n",
    "from PIL import Image, ImageTk\n",
    "import numpy as np\n",
    "\n",
    "class Activity3:\n",
    "    def __init__(self, root):\n",
    "        self.root = root\n",
    "        self.root.title(\"Philippine Peso Coin Detector\")\n",
    "\n",
    "        self.video_label = tk.Label(root)\n",
    "        self.video_label.pack()\n",
    "\n",
    "        self.start_btn = tk.Button(root, text=\"Start Camera\", command=self.start_camera)\n",
    "        self.start_btn.pack(side=tk.LEFT, padx=5, pady=5)\n",
    "\n",
    "        self.stop_btn = tk.Button(root, text=\"Stop Camera\", command=self.stop_camera)\n",
    "        self.stop_btn.pack(side=tk.LEFT, padx=5, pady=5)\n",
    "\n",
    "        self.snapshot_btn = tk.Button(root, text=\"Save Snapshot\", command=self.save_snapshot)\n",
    "        self.snapshot_btn.pack(side=tk.LEFT, padx=5, pady=5)\n",
    "\n",
    "        self.cap = None\n",
    "        self.frame = None\n",
    "        self.running = False \n",
    "\n",
    "    def start_camera(self):\n",
    "        if not self.running:\n",
    "            self.cap = cv2.VideoCapture(0)\n",
    "            self.cap.set(cv2.CAP_PROP_FRAME_WIDTH, 640)\n",
    "            self.cap.set(cv2.CAP_PROP_FRAME_HEIGHT, 480)\n",
    "            self.cap.set(cv2.CAP_PROP_FPS, 30)\n",
    "            self.running = True\n",
    "            self.update_frame()\n",
    "\n",
    "    def stop_camera(self):\n",
    "        if self.running:\n",
    "            self.running = False\n",
    "            if self.cap:\n",
    "                self.cap.release()\n",
    "\n",
    "    def save_snapshot(self):\n",
    "        if self.frame is not None:\n",
    "            cv2.imwrite(\"snapshot.png\", cv2.cvtColor(self.frame, cv2.COLOR_BGR2RGB))\n",
    "            print(\"Snapshot saved as snapshot.png\")\n",
    "\n",
    "    def update_frame(self):\n",
    "        if self.running:\n",
    "            ret, frame = self.cap.read()\n",
    "            if ret:\n",
    "                frame, counts, total = detect_coins(frame)\n",
    "                self.frame = frame\n",
    "                img = cv2.cvtColor(frame, cv2.COLOR_BGR2RGB)\n",
    "                img = Image.fromarray(img)\n",
    "                imgtk = ImageTk.PhotoImage(image=img)\n",
    "                self.video_label.imgtk = imgtk\n",
    "                self.video_label.configure(image=imgtk)\n",
    "            self.root.after(10, self.update_frame)\n"
   ]
  },
  {
   "cell_type": "code",
   "execution_count": 94,
   "metadata": {},
   "outputs": [],
   "source": [
    "root = tk.Tk()\n",
    "app = Activity3(root)\n",
    "root.mainloop()"
   ]
  }
 ],
 "metadata": {
  "kernelspec": {
   "display_name": "Python 3",
   "language": "python",
   "name": "python3"
  },
  "language_info": {
   "codemirror_mode": {
    "name": "ipython",
    "version": 3
   },
   "file_extension": ".py",
   "mimetype": "text/x-python",
   "name": "python",
   "nbconvert_exporter": "python",
   "pygments_lexer": "ipython3",
   "version": "3.12.0"
  }
 },
 "nbformat": 4,
 "nbformat_minor": 2
}

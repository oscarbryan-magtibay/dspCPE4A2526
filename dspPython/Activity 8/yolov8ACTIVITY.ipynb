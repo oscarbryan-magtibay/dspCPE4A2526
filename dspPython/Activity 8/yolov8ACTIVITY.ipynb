{
 "cells": [
  {
   "cell_type": "code",
   "execution_count": 30,
   "id": "a888dd72",
   "metadata": {},
   "outputs": [
    {
     "ename": "ModuleNotFoundError",
     "evalue": "No module named 'cv2'",
     "output_type": "error",
     "traceback": [
      "\u001b[0;31m---------------------------------------------------------------------------\u001b[0m",
      "\u001b[0;31mModuleNotFoundError\u001b[0m                       Traceback (most recent call last)",
      "Cell \u001b[0;32mIn[30], line 1\u001b[0m\n\u001b[0;32m----> 1\u001b[0m \u001b[38;5;28;01mimport\u001b[39;00m\u001b[38;5;250m \u001b[39m\u001b[38;5;21;01mcv2\u001b[39;00m\n\u001b[1;32m      2\u001b[0m \u001b[38;5;28;01mfrom\u001b[39;00m\u001b[38;5;250m \u001b[39m\u001b[38;5;21;01multralytics\u001b[39;00m\u001b[38;5;250m \u001b[39m\u001b[38;5;28;01mimport\u001b[39;00m YOLO\n\u001b[1;32m      3\u001b[0m \u001b[38;5;28;01mimport\u001b[39;00m\u001b[38;5;250m \u001b[39m\u001b[38;5;21;01mnumpy\u001b[39;00m\u001b[38;5;250m \u001b[39m\u001b[38;5;28;01mas\u001b[39;00m\u001b[38;5;250m \u001b[39m\u001b[38;5;21;01mnp\u001b[39;00m\n",
      "\u001b[0;31mModuleNotFoundError\u001b[0m: No module named 'cv2'"
     ]
    }
   ],
   "source": [
    "import cv2\n",
    "from ultralytics import YOLO\n",
    "import numpy as np\n",
    "import matplotlib.pyplot as plt"
   ]
  },
  {
   "cell_type": "code",
   "execution_count": 28,
   "id": "42b62f24",
   "metadata": {},
   "outputs": [
    {
     "name": "stdout",
     "output_type": "stream",
     "text": [
      "/usr/local/opt/python@3.10/bin/python3.10\n"
     ]
    }
   ],
   "source": [
    "import sys\n",
    "print(sys.executable)\n"
   ]
  },
  {
   "cell_type": "code",
   "execution_count": 51,
   "id": "c9491fd4",
   "metadata": {},
   "outputs": [
    {
     "name": "stdout",
     "output_type": "stream",
     "text": [
      "/usr/local/opt/python@3.10/bin/python3.10\n"
     ]
    },
    {
     "ename": "ModuleNotFoundError",
     "evalue": "No module named 'cv2'",
     "output_type": "error",
     "traceback": [
      "\u001b[0;31m---------------------------------------------------------------------------\u001b[0m",
      "\u001b[0;31mModuleNotFoundError\u001b[0m                       Traceback (most recent call last)",
      "Cell \u001b[0;32mIn[51], line 4\u001b[0m\n\u001b[1;32m      1\u001b[0m \u001b[38;5;28;01mimport\u001b[39;00m\u001b[38;5;250m \u001b[39m\u001b[38;5;21;01msys\u001b[39;00m\n\u001b[1;32m      2\u001b[0m \u001b[38;5;28mprint\u001b[39m(sys\u001b[38;5;241m.\u001b[39mexecutable)\n\u001b[0;32m----> 4\u001b[0m \u001b[38;5;28;01mimport\u001b[39;00m\u001b[38;5;250m \u001b[39m\u001b[38;5;21;01mcv2\u001b[39;00m\n\u001b[1;32m      5\u001b[0m \u001b[38;5;28mprint\u001b[39m(\u001b[38;5;124m\"\u001b[39m\u001b[38;5;124mOpenCV version:\u001b[39m\u001b[38;5;124m\"\u001b[39m, cv2\u001b[38;5;241m.\u001b[39m__version__)\n",
      "\u001b[0;31mModuleNotFoundError\u001b[0m: No module named 'cv2'"
     ]
    }
   ],
   "source": [
    "import sys\n",
    "print(sys.executable)\n",
    "\n",
    "import cv2\n",
    "print(\"OpenCV version:\", cv2.__version__)\n"
   ]
  },
  {
   "cell_type": "code",
   "execution_count": null,
   "id": "bbbd3980",
   "metadata": {},
   "outputs": [],
   "source": [
    "model = YOLO('yolov8s.pt')"
   ]
  },
  {
   "cell_type": "code",
   "execution_count": null,
   "id": "8abb032a",
   "metadata": {},
   "outputs": [],
   "source": [
    "\n",
    "import cv2\n",
    "from ultralytics import YOLO\n",
    "import numpy as np\n",
    "from PIL import Image, ImageDraw, ImageFont\n",
    "from IPython.display import display, clear_output\n",
    "import time\n",
    "\n",
    "# Load your trained model\n",
    "model = YOLO('best.pt')  # Make sure your model file is in the same directory\n",
    "\n",
    "# Initialize webcam\n",
    "def init_webcam():\n",
    "    cap = cv2.VideoCapture(0)\n",
    "    if not cap.isOpened():\n",
    "        # Try different camera indices if 0 doesn't work\n",
    "        cap = cv2.VideoCapture(1)\n",
    "        if not cap.isOpened():\n",
    "            print(\"Error: Could not open webcam\")\n",
    "            return None\n",
    "    return cap\n",
    "\n",
    "# Function to process frame and detect ESP32\n",
    "def detect_objects(frame):\n",
    "    # Convert BGR to RGB\n",
    "    rgb_frame = cv2.cvtColor(frame, cv2.COLOR_BGR2RGB)\n",
    "    \n",
    "    # Run detection\n",
    "    results = model(rgb_frame, conf=0.5)\n",
    "    \n",
    "    # Process results\n",
    "    detected_frame = rgb_frame.copy()\n",
    "    pil_image = Image.fromarray(detected_frame)\n",
    "    draw = ImageDraw.Draw(pil_image)\n",
    "    \n",
    "    for result in results:\n",
    "        if result.boxes is not None:\n",
    "            boxes = result.boxes.xyxy.cpu().numpy()  # Bounding boxes\n",
    "            confidences = result.boxes.conf.cpu().numpy()  # Confidence scores\n",
    "            classes = result.boxes.cls.cpu().numpy()  # Class IDs\n",
    "            \n",
    "            for i, box in enumerate(boxes):\n",
    "                x1, y1, x2, y2 = map(int, box)\n",
    "                confidence = confidences[i]\n",
    "                class_id = int(classes[i])\n",
    "                \n",
    "                # Draw bounding box\n",
    "                draw.rectangle([x1, y1, x2, y2], outline=\"green\", width=2)\n",
    "                \n",
    "                # Draw label\n",
    "                label = f\"ESP32: {confidence:.2f}\"\n",
    "                draw.text((x1, y1 - 20), label, fill=\"green\")\n",
    "    \n",
    "    return pil_image\n",
    "\n",
    "# Main function for real-time detection\n",
    "def run_realtime_detection():\n",
    "    cap = init_webcam()\n",
    "    if cap is None:\n",
    "        return\n",
    "    \n",
    "    print(\"Starting real-time ESP32 detection...\")\n",
    "    print(\"Press the stop button in Jupyter to terminate\")\n",
    "    \n",
    "    try:\n",
    "        while True:\n",
    "            ret, frame = cap.read()\n",
    "            if not ret:\n",
    "                print(\"Failed to grab frame\")\n",
    "                break\n",
    "            \n",
    "            # Detect objects\n",
    "            detected_image = detect_objects(frame)\n",
    "            \n",
    "            # Display in Jupyter\n",
    "            clear_output(wait=True)\n",
    "            display(detected_image)\n",
    "            \n",
    "            # Add a small delay to control frame rate\n",
    "            time.sleep(0.1)\n",
    "            \n",
    "    except KeyboardInterrupt:\n",
    "        print(\"Stopping detection...\")\n",
    "    \n",
    "    finally:\n",
    "        cap.release()\n",
    "        print(\"Webcam released\")\n",
    "\n",
    "# Run the detection\n",
    "run_realtime_detection()"
   ]
  },
  {
   "cell_type": "code",
   "execution_count": null,
   "id": "6b0e359e",
   "metadata": {},
   "outputs": [],
   "source": [
    "image_path = 'https://ultralytics.com/images/bus.jpg'\n",
    "results = model(image_path, conf=0.5)\n",
    "results[0].show()\n"
   ]
  },
  {
   "cell_type": "code",
   "execution_count": null,
   "id": "b119067b",
   "metadata": {},
   "outputs": [],
   "source": []
  }
 ],
 "metadata": {
  "kernelspec": {
   "display_name": "Python 3",
   "language": "python",
   "name": "python3"
  },
  "language_info": {
   "codemirror_mode": {
    "name": "ipython",
    "version": 3
   },
   "file_extension": ".py",
   "mimetype": "text/x-python",
   "name": "python",
   "nbconvert_exporter": "python",
   "pygments_lexer": "ipython3",
   "version": "3.10.18"
  }
 },
 "nbformat": 4,
 "nbformat_minor": 5
}

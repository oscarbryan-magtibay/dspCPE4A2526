{
 "cells": [
  {
   "cell_type": "code",
   "execution_count": 19,
   "id": "604bb2b0",
   "metadata": {},
   "outputs": [
    {
     "name": "stdout",
     "output_type": "stream",
     "text": [
      "Answer: [3, 7, 14, 23, 30, 42, 54]\n"
     ]
    }
   ],
   "source": [
    "#For ADDITION\n",
    "xn = [1, 3, 8, 15, 20, 30, 40]\n",
    "yn = [2, 4, 6, 8, 10, 12, 14,]\n",
    "wn = []\n",
    "\n",
    "def additionProduct(xn, yn):\n",
    "    for n in range(len(xn)):\n",
    "        w = xn[n] + yn[n]\n",
    "        wn.append(w)\n",
    "    return wn\n",
    "wn = additionProduct(xn, yn)\n",
    "print(\"Answer:\", wn)"
   ]
  },
  {
   "cell_type": "code",
   "execution_count": 18,
   "id": "d19a1816",
   "metadata": {},
   "outputs": [
    {
     "name": "stdout",
     "output_type": "stream",
     "text": [
      "Answer: [2, 12, 48, 120, 200, 360, 560]\n"
     ]
    }
   ],
   "source": [
    "#For MODULATION\n",
    "xn = [1, 3, 8, 15, 20, 30, 40]\n",
    "yn = [2, 4, 6, 8, 10, 12, 14,]\n",
    "wn = []\n",
    "\n",
    "def modulationProduct(xn, yn):\n",
    "    for n in range(len(xn)):\n",
    "        w = xn[n] * yn[n]\n",
    "        wn.append(w)\n",
    "    return wn\n",
    "wn = modulationProduct(xn, yn)\n",
    "print(\"Answer:\", wn)"
   ]
  },
  {
   "cell_type": "code",
   "execution_count": 21,
   "id": "df4cc4ac",
   "metadata": {},
   "outputs": [
    {
     "name": "stdout",
     "output_type": "stream",
     "text": [
      "Answer: [5, 15, 40, 75, 100, 150, 200]\n"
     ]
    }
   ],
   "source": [
    "#For SCALAR\n",
    "xn = [1, 3, 8, 15, 20, 30, 40]\n",
    "A = 5\n",
    "wn = []\n",
    "\n",
    "def scalarProduct(A, xn):\n",
    "    for w in xn:\n",
    "        w = A * w\n",
    "        wn.append(w)\n",
    "    return wn\n",
    "        \n",
    "wn = scalarProduct(A, xn)\n",
    "print(\"Answer:\", wn)"
   ]
  },
  {
   "cell_type": "code",
   "execution_count": 20,
   "id": "6a6dcf00",
   "metadata": {},
   "outputs": [
    {
     "name": "stdout",
     "output_type": "stream",
     "text": [
      "Answer: [5, 5, 5, 5, 5, 1, 3, 8, 15, 20, 30, 40]\n"
     ]
    }
   ],
   "source": [
    "# For TIME SHIFT\n",
    "xn = [1, 3, 8, 15, 20, 30, 40]\n",
    "a = 5  \n",
    "wn = []\n",
    "\n",
    "def timeShiftProduct(xn, a):\n",
    "    for n in range(a):\n",
    "        wn.append(5) \n",
    "    for w in xn:\n",
    "        wn.append(w)\n",
    "    return wn\n",
    "\n",
    "wn = timeShiftProduct(xn, a)\n",
    "print(\"Answer:\", wn)"
   ]
  }
 ],
 "metadata": {
  "kernelspec": {
   "display_name": "Python 3",
   "language": "python",
   "name": "python3"
  },
  "language_info": {
   "codemirror_mode": {
    "name": "ipython",
    "version": 3
   },
   "file_extension": ".py",
   "mimetype": "text/x-python",
   "name": "python",
   "nbconvert_exporter": "python",
   "pygments_lexer": "ipython3",
   "version": "3.13.1"
  }
 },
 "nbformat": 4,
 "nbformat_minor": 5
}

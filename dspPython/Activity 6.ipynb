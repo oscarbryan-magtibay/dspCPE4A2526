{
 "cells": [
  {
   "cell_type": "code",
   "execution_count": 23,
   "id": "2954556a",
   "metadata": {},
   "outputs": [
    {
     "name": "stdout",
     "output_type": "stream",
     "text": [
      "The modulation product is: [30, 198, 360, 1050, 308, 624, 1672]\n"
     ]
    }
   ],
   "source": [
    "#MODULATION\n",
    "\n",
    "xn = [3,6,8,21,7,12,22,23]\n",
    "yn = [10,33,45,50,44,52,76]\n",
    "\n",
    "def modulationProduct(xn, yn):\n",
    "    result = []\n",
    "    length = min(len(xn), len(yn)) \n",
    "    for i in range(length):\n",
    "     result.append(xn[i] * yn[i])  \n",
    "    return result\n",
    "wn = modulationProduct(xn, yn)\n",
    "print(\"The modulation product is:\", wn)\n"
   ]
  },
  {
   "cell_type": "code",
   "execution_count": 24,
   "id": "52330b98",
   "metadata": {},
   "outputs": [
    {
     "name": "stdout",
     "output_type": "stream",
     "text": [
      "The addition product is: [13, 39, 53, 71, 51, 64, 98]\n"
     ]
    }
   ],
   "source": [
    "# ADDITION\n",
    "\n",
    "xn = [3,6,8,21,7,12,22,23]\n",
    "yn = [10,33,45,50,44,52,76]\n",
    "\n",
    "def additionProduct(xn, yn):\n",
    "    result = []\n",
    "    length = min(len(xn), len(yn))  \n",
    "    for i in range(length):\n",
    "     result.append(xn[i] + yn[i])  \n",
    "    return result\n",
    "wn = additionProduct(xn, yn)\n",
    "print(\"The addition product is:\", wn)\n"
   ]
  },
  {
   "cell_type": "code",
   "execution_count": 25,
   "id": "237b4573",
   "metadata": {},
   "outputs": [
    {
     "name": "stdout",
     "output_type": "stream",
     "text": [
      "The scalar product is: [40, 56, 64, 88, 96, 104, 112, 120]\n"
     ]
    }
   ],
   "source": [
    "# SCALAR\n",
    "\n",
    "xn = [5,7,8,11,12,13,14,15]\n",
    "yn = 8   \n",
    "\n",
    "def scalarProduct(xn, yn):\n",
    "    result = []\n",
    "    length = len(xn) \n",
    "    for i in range(length):\n",
    "     result.append(xn[i] * yn)  \n",
    "    return result\n",
    "wn = scalarProduct(xn, yn)\n",
    "print(\"The scalar product is:\", wn)\n"
   ]
  },
  {
   "cell_type": "code",
   "execution_count": null,
   "id": "804968af",
   "metadata": {},
   "outputs": [
    {
     "name": "stdout",
     "output_type": "stream",
     "text": [
      "The time shift product is: [0, 0, 3, 6, 7, 8, 9, 12, 21, 30]\n"
     ]
    }
   ],
   "source": [
    "# TIMESHIFT\n",
    "\n",
    "xn = [3,6,7,8,9,12,21,30]  \n",
    "yn = 2 \n",
    "\n",
    "def time_shift(xn, yn):\n",
    "    shifted = [0] * yn + xn\n",
    "    return shifted\n",
    "wn = time_shift(xn, yn)\n",
    "\n",
    "print(\"The time shift product is:\",wn)\n"
   ]
  }
 ],
 "metadata": {
  "kernelspec": {
   "display_name": "Python 3",
   "language": "python",
   "name": "python3"
  },
  "language_info": {
   "codemirror_mode": {
    "name": "ipython",
    "version": 3
   },
   "file_extension": ".py",
   "mimetype": "text/x-python",
   "name": "python",
   "nbconvert_exporter": "python",
   "pygments_lexer": "ipython3",
   "version": "3.12.8"
  }
 },
 "nbformat": 4,
 "nbformat_minor": 5
}

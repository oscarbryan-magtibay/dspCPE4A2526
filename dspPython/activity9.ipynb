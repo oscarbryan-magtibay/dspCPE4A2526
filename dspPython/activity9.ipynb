{
 "cells": [
  {
   "cell_type": "code",
   "execution_count": null,
   "id": "2492080c",
   "metadata": {},
   "outputs": [],
   "source": [
    "pip install ultralytics"
   ]
  },
  {
   "cell_type": "code",
   "execution_count": 3,
   "id": "47051ff9",
   "metadata": {},
   "outputs": [],
   "source": [
    "import cv2\n",
    "from ultralytics import YOLO\n",
    "#import numpy as np\n",
    "import matplotlib.pyplot as plt\n"
   ]
  },
  {
   "cell_type": "code",
   "execution_count": 13,
   "id": "d794b52b",
   "metadata": {},
   "outputs": [],
   "source": [
    "model = YOLO(\"best1.pt\")"
   ]
  },
  {
   "cell_type": "code",
   "execution_count": 15,
   "id": "f911c83a",
   "metadata": {},
   "outputs": [
    {
     "name": "stdout",
     "output_type": "stream",
     "text": [
      "\n",
      "image 1/1 c:\\Users\\oscar\\OneDrive\\Documents\\myYolo\\10.jpg: 640x480 4 0s, 1 1, 2 3s, 1055.2ms\n",
      "Speed: 3.6ms preprocess, 1055.2ms inference, 1.4ms postprocess per image at shape (1, 3, 640, 480)\n"
     ]
    }
   ],
   "source": [
    "# Path to your test image (change this to your own image path)\n",
    "image_path = \"10.jpg\"\n",
    "\n",
    "# Run detection\n",
    "results = model(image_path, conf=0.05)  # confidence threshold 50%\n",
    "\n",
    "# results[0] contains detections for the first (and only) image\n",
    "results[0].show()   # OpenCV popup (if supported)"
   ]
  },
  {
   "cell_type": "code",
   "execution_count": 6,
   "id": "7a02660e",
   "metadata": {},
   "outputs": [
    {
     "name": "stdout",
     "output_type": "stream",
     "text": [
      "\n",
      "image 1/1 c:\\Users\\oscar\\OneDrive\\Documents\\myYolo\\test.jpg: 448x640 8 persons, 1 tie, 100.8ms\n",
      "Speed: 1.9ms preprocess, 100.8ms inference, 2.5ms postprocess per image at shape (1, 3, 448, 640)\n",
      "Detected 8 person(s).\n"
     ]
    }
   ],
   "source": [
    "# Path to your image\n",
    "image_path = \"test.jpg\"\n",
    "\n",
    "# Run detection\n",
    "results = model(image_path, conf=0.25)\n",
    "\n",
    "# Get detection results for first (and only) image\n",
    "boxes = results[0].boxes\n",
    "names = model.names  # class names (COCO dataset: 'person' is class 0)\n",
    "\n",
    "# Filter only \"person\" detections\n",
    "person_boxes = []\n",
    "for box in boxes:\n",
    "    cls = int(box.cls[0])\n",
    "    if names[cls] == \"person\":\n",
    "        person_boxes.append(box)\n",
    "\n",
    "print(f\"Detected {len(person_boxes)} person(s).\")\n"
   ]
  },
  {
   "cell_type": "code",
   "execution_count": 7,
   "id": "7f58faf4",
   "metadata": {},
   "outputs": [],
   "source": [
    "img = cv2.imread(image_path)\n",
    "\n",
    "# Draw only person detections\n",
    "for box in boxes:\n",
    "    cls = int(box.cls[0])\n",
    "    if names[cls] == \"person\":\n",
    "        x1, y1, x2, y2 = box.xyxy[0].cpu().numpy()\n",
    "        conf = float(box.conf[0])\n",
    "        label = f\"Person {conf:.2f}\"\n",
    "\n",
    "        cv2.rectangle(img, (int(x1), int(y1)), (int(x2), int(y2)), (0, 255, 0), 2)\n",
    "        cv2.putText(img, label, (int(x1), int(y1) - 10),\n",
    "                    cv2.FONT_HERSHEY_SIMPLEX, 0.7, (0, 255, 0), 2)\n",
    "\n",
    "# Show in OpenCV window\n",
    "cv2.imshow(\"Person Detection\", img)\n",
    "cv2.waitKey(0)\n",
    "cv2.destroyAllWindows()"
   ]
  },
  {
   "cell_type": "code",
   "execution_count": null,
   "id": "54987d05",
   "metadata": {},
   "outputs": [],
   "source": [
    "pip install  pytesseract"
   ]
  },
  {
   "cell_type": "code",
   "execution_count": null,
   "id": "0377cd29",
   "metadata": {},
   "outputs": [],
   "source": [
    "import cv2\n",
    "import pytesseract\n",
    "from matplotlib import pyplot as plt\n",
    "\n",
    "# --- OPTIONAL: If tesseract is not in PATH, set the path manually ---\n",
    "# For Windows, uncomment and adjust:\n",
    "# pytesseract.pytesseract.tesseract_cmd = r\"C:\\Program Files\\Tesseract-OCR\\tesseract.exe\"\n",
    "\n",
    "def ocr_image(image_path):\n",
    "    # Load the image\n",
    "    img = cv2.imread(image_path)\n",
    "\n",
    "    # Convert to grayscale\n",
    "    gray = cv2.cvtColor(img, cv2.COLOR_BGR2GRAY)\n",
    "\n",
    "    # Apply thresholding\n",
    "    _, thresh = cv2.threshold(gray, 150, 255, cv2.THRESH_BINARY)\n",
    "\n",
    "    # Morphological noise removal\n",
    "    kernel = cv2.getStructuringElement(cv2.MORPH_RECT, (1, 1))\n",
    "    cleaned = cv2.morphologyEx(thresh, cv2.MORPH_OPEN, kernel)\n",
    "\n",
    "    # OCR with Tesseract\n",
    "    text = pytesseract.image_to_string(cleaned)\n",
    "\n",
    "    # Show original and processed image inline (Jupyter)\n",
    "    fig, axs = plt.subplots(1, 2, figsize=(12, 6))\n",
    "    axs[0].imshow(cv2.cvtColor(img, cv2.COLOR_BGR2RGB))\n",
    "    axs[0].set_title(\"Original Image\")\n",
    "    axs[0].axis(\"off\")\n",
    "\n",
    "    axs[1].imshow(cleaned, cmap=\"gray\")\n",
    "    axs[1].set_title(\"Processed for OCR\")\n",
    "    axs[1].axis(\"off\")\n",
    "\n",
    "    plt.show()\n",
    "\n",
    "    return text\n",
    "\n",
    "\n",
    "# Example usage\n",
    "text_output = ocr_image(\"sample_text.png\")\n",
    "print(\"Extracted Text:\\n\", text_output)\n"
   ]
  }
 ],
 "metadata": {
  "kernelspec": {
   "display_name": "Python 3",
   "language": "python",
   "name": "python3"
  },
  "language_info": {
   "codemirror_mode": {
    "name": "ipython",
    "version": 3
   },
   "file_extension": ".py",
   "mimetype": "text/x-python",
   "name": "python",
   "nbconvert_exporter": "python",
   "pygments_lexer": "ipython3",
   "version": "3.12.8"
  }
 },
 "nbformat": 4,
 "nbformat_minor": 5
}

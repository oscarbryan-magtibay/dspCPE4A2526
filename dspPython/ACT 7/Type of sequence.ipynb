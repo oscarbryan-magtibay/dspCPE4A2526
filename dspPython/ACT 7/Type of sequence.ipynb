import numpy as np
import matplotlib.pyplot as plt

xn = [float(num) for num in input("Enter numbers separated by spaces: ").split()]

if len(xn) % 2 == 1:
    N = len(xn)
    n = np.arange(-(N//2), N//2 + 1)
    x = np.array(xn)

    x_rev = x[::-1]
    x_even = 0.5 * (x + x_rev)
    x_odd = 0.5 * (x - x_rev)

    print("Original sequence:", x)
    print("Time-reversed:    ", x_rev)
    print("Even component:   ", x_even)
    print("Odd component:    ", x_odd)

    def plot_stem(n, y, title, color, marker):
        plt.figure()
        plt.stem(n, y, linefmt=color+'-', markerfmt=color+marker, basefmt=" ")
        plt.axhline(0, color='gray', linestyle='--')
        plt.title(title)
        plt.xlabel("n")
        plt.ylabel("Amplitude")
        plt.grid(True)
        plt.show()

    plot_stem(n, x, "Original Sequence x[n]", 'k', 'o')
    plot_stem(n, x_rev, "Time-Reversed x[-n]", 'm', '^')
    plot_stem(n, x_even, "Even Component x_e[n]", 'b', 's')
    plot_stem(n, x_odd, "Odd Component x_o[n]", 'r', 'D')

else:
    print("Sequence length is even — can't find center (n=0).")

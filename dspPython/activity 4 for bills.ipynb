{
 "cells": [
  {
   "cell_type": "code",
   "execution_count": 3,
   "id": "849968d0",
   "metadata": {},
   "outputs": [
    {
     "name": "stdout",
     "output_type": "stream",
     "text": [
      "Simple Bill Counter\n",
      "Press 'q' to quit\n",
      "\n",
      "Done. Found 0 bills.\n"
     ]
    }
   ],
   "source": [
    "import cv2\n",
    "import numpy as np\n",
    "\n",
    "def simple_bill_counter():\n",
    "    cap = cv2.VideoCapture(0)\n",
    "\n",
    "    # Set camera resolution\n",
    "    cap.set(3, 1280)  # width\n",
    "    cap.set(4, 720)   # height\n",
    "\n",
    "    print(\"Simple Bill Counter\")\n",
    "    print(\"Press 'q' to quit\")\n",
    "\n",
    "    while True:\n",
    "        ret, frame = cap.read()\n",
    "        if not ret:\n",
    "            break\n",
    "\n",
    "        gray = cv2.cvtColor(frame, cv2.COLOR_BGR2GRAY)\n",
    "        blur = cv2.GaussianBlur(gray, (5, 5), 0)\n",
    "        edged = cv2.Canny(blur, 50, 150)  # Edge detection\n",
    "\n",
    "        # Find contours\n",
    "        contours, _ = cv2.findContours(edged, cv2.RETR_EXTERNAL, cv2.CHAIN_APPROX_SIMPLE)\n",
    "\n",
    "        total_bills = 0\n",
    "\n",
    "        for cnt in contours:\n",
    "            epsilon = 0.02 * cv2.arcLength(cnt, True)\n",
    "            approx = cv2.approxPolyDP(cnt, epsilon, True)\n",
    "\n",
    "            # Check if it's a rectangle (4 corners)\n",
    "            if len(approx) == 4 and cv2.contourArea(cnt) > 5000:\n",
    "                x, y, w, h = cv2.boundingRect(approx)\n",
    "                aspect_ratio = float(w) / h\n",
    "\n",
    "                # Dollar bills usually rectangular (about 2.6:1 ratio)\n",
    "                if 2.0 < aspect_ratio < 3.0:\n",
    "                    # Draw rectangle in pink\n",
    "                    cv2.drawContours(frame, [approx], -1, (255, 0, 255), 3)\n",
    "                    cv2.putText(frame, \"Bill\", (x, y - 10),\n",
    "                                cv2.FONT_HERSHEY_SIMPLEX, 0.7, (255, 255, 255), 2)\n",
    "                    total_bills += 1\n",
    "\n",
    "        # Show totals\n",
    "        cv2.putText(frame, f\"Total Bills: {total_bills}\", (10, 30),\n",
    "                    cv2.FONT_HERSHEY_SIMPLEX, 0.8, (255, 255, 255), 2)\n",
    "\n",
    "        cv2.imshow(\"Bill Counter\", frame)\n",
    "\n",
    "        if cv2.waitKey(1) & 0xFF == ord('q'):\n",
    "            break\n",
    "\n",
    "    cap.release()\n",
    "    cv2.destroyAllWindows()\n",
    "    print(f\"\\nDone. Found {total_bills} bills.\")\n",
    "\n",
    "# Run program\n",
    "if __name__ == \"__main__\":\n",
    "    simple_bill_counter()\n"
   ]
  }
 ],
 "metadata": {
  "kernelspec": {
   "display_name": "Python 3",
   "language": "python",
   "name": "python3"
  },
  "language_info": {
   "codemirror_mode": {
    "name": "ipython",
    "version": 3
   },
   "file_extension": ".py",
   "mimetype": "text/x-python",
   "name": "python",
   "nbconvert_exporter": "python",
   "pygments_lexer": "ipython3",
   "version": "3.12.8"
  }
 },
 "nbformat": 4,
 "nbformat_minor": 5
}

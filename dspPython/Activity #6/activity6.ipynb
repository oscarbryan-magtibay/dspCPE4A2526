{
 "cells": [
  {
   "cell_type": "code",
   "execution_count": 3,
   "id": "bac682c2",
   "metadata": {},
   "outputs": [],
   "source": [
    "Xn = [1, 3, 5, 7, 9, 8]\n",
    "Yn = [1, 2, 3, 4, 5, 6]"
   ]
  },
  {
   "cell_type": "code",
   "execution_count": 4,
   "id": "389c9538",
   "metadata": {},
   "outputs": [
    {
     "name": "stdout",
     "output_type": "stream",
     "text": [
      "Thus, your Zn for Modulation is:  [1, 6, 15, 28, 45, 48]\n"
     ]
    }
   ],
   "source": [
    "#Modulation\n",
    "\n",
    "Xn = [1, 3, 5, 7, 9, 8]\n",
    "Yn = [1, 2, 3, 4, 5, 6]\n",
    "\n",
    "def modulation(Xn, Yn):\n",
    "    Zn = []\n",
    "    for n in range(len(Xn)):\n",
    "        Zn.append(Xn[n] * Yn[n])\n",
    "    return Zn\n",
    "\n",
    "Zn = modulation(Xn, Yn)\n",
    "print(\"Thus, your Zn for Modulation is: \", Zn)"
   ]
  },
  {
   "cell_type": "code",
   "execution_count": 5,
   "id": "f1814cb3",
   "metadata": {},
   "outputs": [
    {
     "name": "stdout",
     "output_type": "stream",
     "text": [
      "Thus, your Zn for Addition is:  [2, 5, 8, 11, 14, 14]\n"
     ]
    }
   ],
   "source": [
    "#Addition\n",
    "\n",
    "Xn = [1, 3, 5, 7, 9, 8]\n",
    "Yn = [1, 2, 3, 4, 5, 6]\n",
    "\n",
    "def addition(Xn, Yn):\n",
    "    Zn = []\n",
    "    for n in range(len(Xn)):\n",
    "        Zn.append(Xn[n] + Yn[n])\n",
    "    return Zn\n",
    "\n",
    "Zn = addition(Xn, Yn)\n",
    "print(\"Thus, your Zn for Addition is: \", Zn)"
   ]
  },
  {
   "cell_type": "code",
   "execution_count": 20,
   "id": "458e9e3b",
   "metadata": {},
   "outputs": [
    {
     "name": "stdout",
     "output_type": "stream",
     "text": [
      "Thus, your Zn for Scalar is:  [5, 15, 25, 35, 45, 40]\n"
     ]
    }
   ],
   "source": [
    "#Scalar\n",
    "\n",
    "Xn = [1, 3, 5, 7, 9, 8]\n",
    "S = 5\n",
    "\n",
    "def scalar(Xn, S):\n",
    "    Zn = []\n",
    "    for n in range(len(Xn)):\n",
    "        Zn.append(Xn[n] * S)\n",
    "    return Zn\n",
    "\n",
    "Zn = scalar(Xn, S)\n",
    "print(\"Thus, your Zn for Scalar is: \", Zn)"
   ]
  },
  {
   "cell_type": "code",
   "execution_count": 6,
   "id": "8c524fec",
   "metadata": {},
   "outputs": [
    {
     "name": "stdout",
     "output_type": "stream",
     "text": [
      "Thus, your Zn for Time Shift is:  [0, 0, 0, 0, 0, 0, 1, 3, 5, 7, 9, 8]\n"
     ]
    }
   ],
   "source": [
    "#Time Shift\n",
    "\n",
    "Xn = [1, 3, 5, 7, 9, 8]\n",
    "T = 6\n",
    "\n",
    "def time_shift(Xn, T):\n",
    "    Zn = [0] * T + Xn\n",
    "    return Zn\n",
    "\n",
    "Zn = time_shift(Xn, T)\n",
    "print(\"Thus, your Zn for Time Shift is: \", Zn)"
   ]
  }
 ],
 "metadata": {
  "kernelspec": {
   "display_name": "Python 3",
   "language": "python",
   "name": "python3"
  },
  "language_info": {
   "codemirror_mode": {
    "name": "ipython",
    "version": 3
   },
   "file_extension": ".py",
   "mimetype": "text/x-python",
   "name": "python",
   "nbconvert_exporter": "python",
   "pygments_lexer": "ipython3",
   "version": "3.13.6"
  }
 },
 "nbformat": 4,
 "nbformat_minor": 5
}

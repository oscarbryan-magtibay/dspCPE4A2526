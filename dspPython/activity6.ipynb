{
 "cells": [
  {
   "cell_type": "code",
   "execution_count": 11,
   "id": "3598b38b",
   "metadata": {},
   "outputs": [
    {
     "name": "stdout",
     "output_type": "stream",
     "text": [
      "Addition Result:\n",
      "[3, 9, 96, 662, 459, 40, 686, 0]\n",
      "--------------------------------------------------\n"
     ]
    }
   ],
   "source": [
    "# Addition Operation\n",
    "add_result = align_and_operate(xn, origin_xn, yn, origin_yn, operator.add)\n",
    "print(\"Addition Result:\")\n",
    "print(add_result)\n",
    "print(\"-\" * 50)"
   ]
  },
  {
   "cell_type": "code",
   "execution_count": 13,
   "id": "1b283b55",
   "metadata": {},
   "outputs": [
    {
     "name": "stdout",
     "output_type": "stream",
     "text": [
      "Modulation (Multiplication) Result:\n",
      "[0, 8, 279, 3285, 3164, 204, 6093, 0]\n",
      "--------------------------------------------------\n"
     ]
    }
   ],
   "source": [
    "\n",
    "# Modulation (Multiplication) Operation\n",
    "def align_and_operate(xn, originX, yn, originY, op):\n",
    "    \n",
    "    # Determine the range of indices we need to cover\n",
    "    initial = min(originX, originY)\n",
    "    final = max(originX + len(xn), originY + len(yn))\n",
    "    \n",
    "    result = []\n",
    "    for n in range(initial, final):\n",
    "        # Get value from xn if available, otherwise 0\n",
    "        x_val = xn[n - originX] if originX <= n < originX + len(xn) else 0\n",
    "        # Get value from yn if available, otherwise 0\n",
    "        y_val = yn[n - originY] if originY <= n < originY + len(yn) else 0\n",
    "        result.append(op(x_val, y_val))\n",
    "    return result\n",
    "\n",
    "import operator\n",
    "\n",
    "mod_result = align_and_operate(xn, origin_xn, yn, origin_yn, operator.mul)\n",
    "print(\"Modulation (Multiplication) Result:\")\n",
    "print(mod_result)\n",
    "print(\"-\" * 50)"
   ]
  },
  {
   "cell_type": "code",
   "execution_count": 8,
   "id": "9f075668",
   "metadata": {},
   "outputs": [
    {
     "name": "stdout",
     "output_type": "stream",
     "text": [
      "Scalar Multiplication (A = 6) Result:\n",
      "[6, 18, 30, 42, 36, 54]\n",
      "--------------------------------------------------\n"
     ]
    }
   ],
   "source": [
    "# Scalar Multiplication Operation\n",
    "def scalmul(A, xn):\n",
    "    result = []\n",
    "    for i in xn:\n",
    "        result.append(A * i)\n",
    "    return result\n",
    "\n",
    "A = 6\n",
    "scalar_result = scalmul(A, xn)\n",
    "print(f\"Scalar Multiplication (A = {A}) Result:\")\n",
    "print(scalar_result)\n",
    "print(\"-\" * 50)"
   ]
  },
  {
   "cell_type": "code",
   "execution_count": 9,
   "id": "f55a76f5",
   "metadata": {},
   "outputs": [
    {
     "name": "stdout",
     "output_type": "stream",
     "text": [
      "Time Shift (right by 2) Result:\n",
      "Shifted sequence: [0, 0, 1, 3, 5, 7, 6, 9]\n",
      "New origin index: 4\n",
      "--------------------------------------------------\n",
      "Time Shift (left by 1) Result:\n",
      "Shifted sequence: [3, 5, 7, 6, 9]\n",
      "New origin index: 1\n",
      "--------------------------------------------------\n"
     ]
    }
   ],
   "source": [
    "# Time Shift Operation\n",
    "def time_shift(seq, shift, origin_index):\n",
    "    \n",
    "    if shift > 0:\n",
    "        # Right shift: add zeros to the beginning\n",
    "        new_seq = [0] * shift + seq\n",
    "    else:\n",
    "        # Left shift: remove elements from the beginning\n",
    "        new_seq = seq[-shift:] if -shift < len(seq) else []\n",
    "        # If we shift left beyond the sequence length, return empty list\n",
    "        if len(new_seq) < len(seq) + shift:\n",
    "            new_seq = []\n",
    "    \n",
    "    new_origin = origin_index + shift\n",
    "    return new_seq, new_origin\n",
    "\n",
    "# Right shift example\n",
    "n_shift = 2\n",
    "shifted_xn, new_origin_xn = time_shift(xn, n_shift, origin_xn)\n",
    "print(f\"Time Shift (right by {n_shift}) Result:\")\n",
    "print(f\"Shifted sequence: {shifted_xn}\")\n",
    "print(f\"New origin index: {new_origin_xn}\")\n",
    "print(\"-\" * 50)\n",
    "\n",
    "# Left shift example\n",
    "n_left_shift = -1\n",
    "left_shifted_xn, new_left_origin_xn = time_shift(xn, n_left_shift, origin_xn)\n",
    "print(f\"Time Shift (left by {abs(n_left_shift)}) Result:\")\n",
    "print(f\"Shifted sequence: {left_shifted_xn}\")\n",
    "print(f\"New origin index: {new_left_origin_xn}\")\n",
    "print(\"-\" * 50)"
   ]
  }
 ],
 "metadata": {
  "kernelspec": {
   "display_name": "Python 3",
   "language": "python",
   "name": "python3"
  },
  "language_info": {
   "codemirror_mode": {
    "name": "ipython",
    "version": 3
   },
   "file_extension": ".py",
   "mimetype": "text/x-python",
   "name": "python",
   "nbconvert_exporter": "python",
   "pygments_lexer": "ipython3",
   "version": "3.13.6"
  }
 },
 "nbformat": 4,
 "nbformat_minor": 5
}

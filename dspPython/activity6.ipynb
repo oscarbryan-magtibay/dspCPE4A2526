{
 "cells": [
  {
   "cell_type": "code",
   "execution_count": 16,
   "id": "0c0a8c9f",
   "metadata": {},
   "outputs": [
    {
     "name": "stdout",
     "output_type": "stream",
     "text": [
      "-----------------------------------------------------------\n",
      "Modulation Result    : [0, 8, 279, 3285, 3164, 204, 6093, 0]\n",
      "Addition Result      : [3, 9, 96, 662, 459, 40, 686, 0]\n",
      "-----------------------------------------------------------\n"
     ]
    }
   ],
   "source": [
    "# Modulation andd Addition\n",
    "\n",
    "xn = [1, 3, 5, 7, 6, 9]\n",
    "yn = [3, 8, 93, 657, 452, 34, 677, 0]\n",
    "\n",
    "originX = 2  \n",
    "originY = 1  \n",
    "\n",
    "def align_and_operate(xn, originX, yn, originY, op):\n",
    "   \n",
    "    initial = min(originX, originY)\n",
    "    final = max(originX + len(xn), originY + len(yn))\n",
    "\n",
    "    result = []\n",
    "    for n in range(initial, final):\n",
    "        x_val = xn[n - originX] if originX <= n < originX + len(xn) else 0\n",
    "        y_val = yn[n - originY] if originY <= n < originY + len(yn) else 0\n",
    "        result.append(op(x_val, y_val))\n",
    "    return result\n",
    "\n",
    "import operator\n",
    "\n",
    "sum_seq = align_and_operate(xn, originX, yn, originY, operator.add)\n",
    "prod_seq = align_and_operate(xn, originX, yn, originY, operator.mul)\n",
    "\n",
    "print(\"-----------------------------------------------------------\")\n",
    "print(\"Modulation Result    :\", prod_seq)\n",
    "print(\"Addition Result      :\", sum_seq)\n",
    "print(\"-----------------------------------------------------------\")\n",
    "\n"
   ]
  },
  {
   "cell_type": "code",
   "execution_count": null,
   "id": "6f9493ab",
   "metadata": {},
   "outputs": [
    {
     "name": "stdout",
     "output_type": "stream",
     "text": [
      "-----------------------------------------------------------\n",
      "Scalar Multiplication result: [6, 18, 30, 42, 36, 54]\n",
      "-----------------------------------------------------------\n"
     ]
    }
   ],
   "source": [
    "# Scalar multiplication\n",
    "\n",
    "xn = [1, 3, 5, 7, 6, 9]\n",
    "A = 6\n",
    "\n",
    "def scalmul(A,xn):\n",
    "    result = []\n",
    "    for i in xn:\n",
    "        result.append(A*i)\n",
    "    return result\n",
    "\n",
    "\n",
    "result = scalmul(A,xn)\n",
    "\n",
    "print(\"-----------------------------------------------------------\")\n",
    "print(\"Scalar Multiplication result:\", result)\n",
    "print(\"-----------------------------------------------------------\")\n",
    "\n",
    "    "
   ]
  },
  {
   "cell_type": "code",
   "execution_count": 36,
   "id": "6f650953",
   "metadata": {},
   "outputs": [
    {
     "name": "stdout",
     "output_type": "stream",
     "text": [
      "-------------------------------------------------------------\n",
      "Time Shifted Result: [0, 0, 1, 3, 5, 7, 6, 9]\n",
      "new origin index: {4}\n",
      "-------------------------------------------------------------\n"
     ]
    }
   ],
   "source": [
    "# Time switch\n",
    "\n",
    "xn = [1, 3, 5, 7, 6, 9]\n",
    "\n",
    "originX = -3  \n",
    "n_shift = 2  \n",
    "\n",
    "def time_shift(seq, shift, origin_index):\n",
    "    new_seq = [0]*abs(shift) + seq if shift > 0 else seq[abs(shift):]\n",
    "    new_origin = origin_index + shift\n",
    "    return new_seq, new_origin\n",
    "\n",
    "print(\"-------------------------------------------------------------\")\n",
    "shifted_xn, new_origin_xn = time_shift(xn, n_shift, origin_xn)\n",
    "print(f\"Time Shifted Result: {shifted_xn}\")\n",
    "print(\"new origin index:\", {new_origin_xn})\n",
    "print(\"-------------------------------------------------------------\")\n",
    "    "
   ]
  }
 ],
 "metadata": {
  "kernelspec": {
   "display_name": "Python 3",
   "language": "python",
   "name": "python3"
  },
  "language_info": {
   "codemirror_mode": {
    "name": "ipython",
    "version": 3
   },
   "file_extension": ".py",
   "mimetype": "text/x-python",
   "name": "python",
   "nbconvert_exporter": "python",
   "pygments_lexer": "ipython3",
   "version": "3.12.8"
  }
 },
 "nbformat": 4,
 "nbformat_minor": 5
}

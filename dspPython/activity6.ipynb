{
 "cells": [
  {
   "cell_type": "code",
   "execution_count": null,
   "id": "3598b38b",
   "metadata": {},
   "outputs": [],
   "source": [
    "\n",
    "xn = [2, 4, 6, 8, 10]\n",
    "origin_xn = 1\n",
    "\n",
    "yn = [1, 2, 3, 4, 5, 6]\n",
    "origin_yn = 2"
   ]
  },
  {
   "cell_type": "code",
   "execution_count": 15,
   "id": "ec17f619",
   "metadata": {},
   "outputs": [
    {
     "name": "stdout",
     "output_type": "stream",
     "text": [
      "Addition Result:\n",
      "[2, 5, 8, 11, 14, 5, 6]\n",
      "--------------------------------------------------\n"
     ]
    }
   ],
   "source": [
    "# Addition\n",
    "add_result = align_and_operate(xn, origin_xn, yn, origin_yn, operator.add)\n",
    "print(\"Addition Result:\")\n",
    "print(add_result)\n",
    "print(\"-\" * 50)"
   ]
  },
  {
   "cell_type": "code",
   "execution_count": 16,
   "id": "1b283b55",
   "metadata": {},
   "outputs": [
    {
     "name": "stdout",
     "output_type": "stream",
     "text": [
      "Modulation (Multiplication) Result:\n",
      "[0, 4, 12, 24, 40, 0, 0]\n",
      "--------------------------------------------------\n"
     ]
    }
   ],
   "source": [
    "# Modulation (Multiplication)\n",
    "import operator\n",
    "mod_result = align_and_operate(xn, origin_xn, yn, origin_yn, operator.mul)\n",
    "print(\"Modulation (Multiplication) Result:\")\n",
    "print(mod_result)\n",
    "print(\"-\" * 50)"
   ]
  },
  {
   "cell_type": "code",
   "execution_count": 17,
   "id": "9f075668",
   "metadata": {},
   "outputs": [
    {
     "name": "stdout",
     "output_type": "stream",
     "text": [
      "Scalar Multiplication (A = 3) Result:\n",
      "[6, 12, 18, 24, 30]\n",
      "--------------------------------------------------\n"
     ]
    }
   ],
   "source": [
    "# Scalar Multiplication\n",
    "A = 3\n",
    "scalar_result = scalmul(A, xn)\n",
    "print(f\"Scalar Multiplication (A = {A}) Result:\")\n",
    "print(scalar_result)\n",
    "print(\"-\" * 50)"
   ]
  },
  {
   "cell_type": "code",
   "execution_count": 18,
   "id": "f55a76f5",
   "metadata": {},
   "outputs": [
    {
     "name": "stdout",
     "output_type": "stream",
     "text": [
      "Time Shift (right by 2) Result:\n",
      "Shifted x[n]: [0, 0, 2, 4, 6, 8, 10]\n",
      "Origin index: 3\n",
      "--------------------------------------------------\n"
     ]
    }
   ],
   "source": [
    "# Time Shift (Right)\n",
    "n_shift = 2\n",
    "shifted_xn, new_origin_xn = time_shift(xn, n_shift, origin_xn)\n",
    "print(f\"Time Shift (right by {n_shift}) Result:\")\n",
    "print_sequence(shifted_xn, new_origin_xn, \"Shifted x[n]\")"
   ]
  }
 ],
 "metadata": {
  "kernelspec": {
   "display_name": "Python 3",
   "language": "python",
   "name": "python3"
  },
  "language_info": {
   "codemirror_mode": {
    "name": "ipython",
    "version": 3
   },
   "file_extension": ".py",
   "mimetype": "text/x-python",
   "name": "python",
   "nbconvert_exporter": "python",
   "pygments_lexer": "ipython3",
   "version": "3.13.6"
  }
 },
 "nbformat": 4,
 "nbformat_minor": 5
}

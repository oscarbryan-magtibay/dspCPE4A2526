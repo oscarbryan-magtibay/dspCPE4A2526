{
 "cells": [
  {
   "cell_type": "code",
   "execution_count": 31,
   "id": "c4702a48",
   "metadata": {},
   "outputs": [
    {
     "name": "stdout",
     "output_type": "stream",
     "text": [
      "Product: [21, 9, 3, 6, 18]\n"
     ]
    }
   ],
   "source": [
    "# Scalar Product Function\n",
    "\n",
    "xn = [7, 3, 1, 2, 6]     \n",
    "X = 3                   \n",
    "\n",
    "def ScalarProduct(X, xn):\n",
    "\n",
    "    wn = []\n",
    "    \n",
    "    for w in xn:\n",
    "        wn.append(X * w)\n",
    "    return wn\n",
    "\n",
    "wn = ScalarProduct(X, xn)\n",
    "print(\"Product:\", wn)"
   ]
  },
  {
   "cell_type": "code",
   "execution_count": 30,
   "id": "e3d93207",
   "metadata": {},
   "outputs": [
    {
     "name": "stdout",
     "output_type": "stream",
     "text": [
      "Sum: [6, 34, 70, 65, 90, 16, 14, 1]\n"
     ]
    }
   ],
   "source": [
    "# Addition with 0 index/Origin Point\n",
    "\n",
    "xn = [6, 2, 3, 9, 8, 7, 4, 1]\n",
    "yn = [32, 67, 56, 82, 9, 10]\n",
    "\n",
    "# This part tells what the origin point is by declaring a value for first number in range\n",
    "originX = -2\n",
    "originY = -1\n",
    "\n",
    "def additionFunction(xn, originX, yn, originY):\n",
    "    initial = min(originX, originY)\n",
    "    final = max(originX + len(xn), originY + len(yn))\n",
    "\n",
    "    wn = []\n",
    "\n",
    "    for n in range(initial, final):\n",
    "        if originX <= n < originX + len(xn):\n",
    "            valueX = xn[n - originX]\n",
    "        else:\n",
    "            valueX = 0\n",
    "\n",
    "        if originY <= n < originY + len(yn):\n",
    "            valueY = yn[n - originY]\n",
    "        else:\n",
    "            valueY = 0\n",
    "\n",
    "        wn.append(valueX + valueY)\n",
    "    return wn\n",
    "\n",
    "wn = additionFunction(xn, originX, yn, originY)\n",
    "print(\"Sum:\", wn)"
   ]
  },
  {
   "cell_type": "code",
   "execution_count": 29,
   "id": "399a3348",
   "metadata": {},
   "outputs": [
    {
     "name": "stdout",
     "output_type": "stream",
     "text": [
      "Difference: [32, 61, 54, 79, 0, 2, -7, -4, -1]\n"
     ]
    }
   ],
   "source": [
    "# Subtraction with 0 index/Origin Point\n",
    "\n",
    "xn = [32, 67, 56, 82, 9, 10]\n",
    "yn = [6, 2, 3, 9, 8, 7, 4, 1]\n",
    "\n",
    "# This part tells what the origin point is by declaring a value for first number in range\n",
    "originX = -2\n",
    "originY = -1\n",
    "\n",
    "def subtractionFunction(xn, originX, yn, originY):\n",
    "    initial = min(originX, originY)\n",
    "    final = max(originX + len(xn), originY + len(yn))\n",
    "\n",
    "    wn = []\n",
    "\n",
    "    for n in range(initial, final):\n",
    "        if originX <= n < originX + len(xn):\n",
    "            valueX = xn[n - originX]\n",
    "        else:\n",
    "            valueX = 0\n",
    "\n",
    "        if originY <= n < originY + len(yn):\n",
    "            valueY = yn[n - originY]\n",
    "        else:\n",
    "            valueY = 0\n",
    "\n",
    "        wn.append(valueX - valueY)\n",
    "    return wn\n",
    "\n",
    "wn = subtractionFunction(xn, originX, yn, originY)\n",
    "print(\"Difference:\", wn)"
   ]
  },
  {
   "cell_type": "code",
   "execution_count": 28,
   "id": "be353def",
   "metadata": {},
   "outputs": [
    {
     "name": "stdout",
     "output_type": "stream",
     "text": [
      "Product: [32, 61, 54, 79, 0, 2, -7, -4, -1]\n"
     ]
    }
   ],
   "source": [
    "# Multiplicaton with 0 index/Origin Point\n",
    "\n",
    "xn = [32, 67, 56, 82, 9, 10]\n",
    "yn = [6, 2, 3, 9, 8, 7, 4, 1]\n",
    "\n",
    "# This part tells what the origin point is by declaring a value for first number in range\n",
    "originX = -2\n",
    "originY = -1\n",
    "\n",
    "def multiplicationFunction(xn, originX, yn, originY):\n",
    "    initial = min(originX, originY)\n",
    "    final = max(originX + len(xn), originY + len(yn))\n",
    "\n",
    "    wn = []\n",
    "\n",
    "    for n in range(initial, final):\n",
    "        if originX <= n < originX + len(xn):\n",
    "            valueX = xn[n - originX]\n",
    "        else:\n",
    "            valueX = 0\n",
    "\n",
    "        if originY <= n < originY + len(yn):\n",
    "            valueY = yn[n - originY]\n",
    "        else:\n",
    "            valueY = 0\n",
    "\n",
    "        wn.append(valueX - valueY)\n",
    "    return wn\n",
    "\n",
    "wn = multiplicationFunction(xn, originX, yn, originY)\n",
    "print(\"Product:\", wn)"
   ]
  },
  {
   "cell_type": "code",
   "execution_count": null,
   "id": "2b9d4902",
   "metadata": {},
   "outputs": [
    {
     "name": "stdout",
     "output_type": "stream",
     "text": [
      "Delayed Signal: [32, 67, 56, 82, 9, 10]\n",
      "New Origin: 1\n"
     ]
    }
   ],
   "source": [
    "# Time Shift Function\n",
    "\n",
    "xn = [32, 67, 56, 82, 9, 10]\n",
    "originX = -2                       # This is the 0 index/Origin\n",
    "\n",
    "timeShift = 3                      # This is how much we want to delay \n",
    "\n",
    "def timeShiftFunction(xn, originX, timeShift):\n",
    "    newOrigin = originX + timeShift\n",
    "    return xn, newOrigin\n",
    "\n",
    "\n",
    "wn, newOrigin = timeShiftFunction(xn, originX, timeShift)\n",
    "print(\"Delayed Signal:\", wn)               # Printing the range along with the New Origin Point\n",
    "print(\"New Origin:\", newOrigin)\n",
    "\n",
    "# The signal started with point -2 originally, then updated to start at point 1 after the Time Shifting Function\n",
    "\n"
   ]
  }
 ],
 "metadata": {
  "kernelspec": {
   "display_name": "Python 3",
   "language": "python",
   "name": "python3"
  },
  "language_info": {
   "codemirror_mode": {
    "name": "ipython",
    "version": 3
   },
   "file_extension": ".py",
   "mimetype": "text/x-python",
   "name": "python",
   "nbconvert_exporter": "python",
   "pygments_lexer": "ipython3",
   "version": "3.13.6"
  }
 },
 "nbformat": 4,
 "nbformat_minor": 5
}

{
 "cells": [
  {
   "cell_type": "code",
   "execution_count": null,
   "id": "655465f4",
   "metadata": {},
   "outputs": [
    {
     "name": "stdout",
     "output_type": "stream",
     "text": [
      "The Modulation Product is: [25, 60, 105, 160, 225, 300, 385, 480, 585, 700, 825]\n"
     ]
    }
   ],
   "source": [
    "#MODULATION\n",
    "xn = [5, 6, 7, 8, 9, 10, 11, 12, 13, 14, 15]\n",
    "yn = [5, 10, 15, 20, 25, 30, 35, 40, 45, 50 ,55]\n",
    "wn = []\n",
    "\n",
    "def modulationProduct(xn, yn):\n",
    "    for n in range(len(xn)):\n",
    "        w = xn[n] * yn[n]\n",
    "        wn.append(w)\n",
    "    return wn\n",
    "wn = modulationProduct(xn, yn)\n",
    "print(\"The Modulation Product is:\", wn)"
   ]
  },
  {
   "cell_type": "code",
   "execution_count": null,
   "id": "3f2107fd",
   "metadata": {},
   "outputs": [
    {
     "name": "stdout",
     "output_type": "stream",
     "text": [
      "The Addition Product is: [10, 16, 22, 28, 34, 40, 46, 52, 58, 64, 70]\n"
     ]
    }
   ],
   "source": [
    "#ADDITION\n",
    "xn = [5, 6, 7, 8, 9, 10, 11, 12, 13, 14, 15]\n",
    "yn = [5, 10, 15, 20, 25, 30, 35, 40, 45, 50 ,55]\n",
    "wn = []\n",
    "\n",
    "def additionProduct(xn, yn):\n",
    "    for n in range(len(xn)):\n",
    "        w = xn[n] + yn[n]\n",
    "        wn.append(w)\n",
    "    return wn\n",
    "wn = additionProduct(xn, yn)\n",
    "print(\"The Addition Product is:\", wn)"
   ]
  },
  {
   "cell_type": "code",
   "execution_count": null,
   "id": "f92a9e51",
   "metadata": {},
   "outputs": [
    {
     "name": "stdout",
     "output_type": "stream",
     "text": [
      "The Scalar Product is: [25, 30, 35, 40, 45, 50, 55, 60, 65, 70, 75]\n"
     ]
    }
   ],
   "source": [
    "#SCALAR\n",
    "xn = [5, 6, 7, 8, 9, 10, 11, 12, 13, 14, 15]\n",
    "a = 5\n",
    "wn = []\n",
    "\n",
    "def scalarProduct(a, xn):\n",
    "    for w in xn:\n",
    "        w = a * w\n",
    "        wn.append(w)\n",
    "    return wn\n",
    "wn = scalarProduct(a, xn)\n",
    "print(\"The Scalar Product is:\", wn)"
   ]
  },
  {
   "cell_type": "code",
   "execution_count": 5,
   "id": "0f5b383a",
   "metadata": {},
   "outputs": [
    {
     "name": "stdout",
     "output_type": "stream",
     "text": [
      "The Time Shift Product is: [1, 1, 1, 1, 1, 5, 6, 7, 8, 9, 10, 11, 12, 13, 14, 15]\n"
     ]
    }
   ],
   "source": [
    "#TIME SHIFT\n",
    "xn = [5, 6, 7, 8, 9, 10, 11, 12, 13, 14, 15]\n",
    "a = 5\n",
    "wn = []\n",
    "\n",
    "def timeShiftProduct(xn, a):\n",
    "    for n in range(a):\n",
    "        wn.append(1)\n",
    "    for w in xn:\n",
    "        wn.append(w)\n",
    "    return wn\n",
    "wn = timeShiftProduct(xn, a)\n",
    "print(\"The Time Shift Product is:\", wn)"
   ]
  }
 ],
 "metadata": {
  "kernelspec": {
   "display_name": "Python 3",
   "language": "python",
   "name": "python3"
  },
  "language_info": {
   "codemirror_mode": {
    "name": "ipython",
    "version": 3
   },
   "file_extension": ".py",
   "mimetype": "text/x-python",
   "name": "python",
   "nbconvert_exporter": "python",
   "pygments_lexer": "ipython3",
   "version": "3.13.0"
  }
 },
 "nbformat": 4,
 "nbformat_minor": 5
}

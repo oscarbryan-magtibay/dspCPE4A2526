{
 "cells": [
  {
   "cell_type": "code",
   "execution_count": 12,
   "id": "ec11af57",
   "metadata": {},
   "outputs": [
    {
     "name": "stdout",
     "output_type": "stream",
     "text": [
      "Modulation product: [45, 0, 510, 4500, 5460, 630, 700]\n"
     ]
    }
   ],
   "source": [
    "# MODULATION \n",
    "\n",
    "xn = [15, 0, 6, 45, 780, 21, 25]\n",
    "yn = [3, 70, 85, 100, 7, 30, 28]\n",
    "\n",
    "def modulationProduct(xn, yn):\n",
    "   \n",
    "    return [x * y for x, y in zip(xn, yn)]\n",
    "\n",
    "wn = modulationProduct(xn, yn)\n",
    "print(\"Modulation product:\", wn)\n"
   ]
  },
  {
   "cell_type": "code",
   "execution_count": 4,
   "id": "1f13d46e",
   "metadata": {},
   "outputs": [
    {
     "name": "stdout",
     "output_type": "stream",
     "text": [
      " Scalar Product: [15, 21, 27, 9, 3]\n"
     ]
    }
   ],
   "source": [
    "# Scalar\n",
    "\n",
    "xn = [5, 7, 9, 3, 1]     \n",
    "y = 3                   \n",
    "\n",
    "def ScalarProduct(y, xn):\n",
    "\n",
    "    wn = []\n",
    "    \n",
    "    for w in xn:\n",
    "        wn.append(y * w)\n",
    "    return wn\n",
    "\n",
    "wn = ScalarProduct(y, xn)\n",
    "print(\" Scalar Product:\", wn)"
   ]
  },
  {
   "cell_type": "code",
   "execution_count": 11,
   "id": "a100a96a",
   "metadata": {},
   "outputs": [
    {
     "name": "stdout",
     "output_type": "stream",
     "text": [
      "Sum: [3, 7, 11, 15, 19, 23]\n"
     ]
    }
   ],
   "source": [
    "# ADDITION \n",
    "\n",
    "xn = [1, 3, 5, 7, 9, 11]\n",
    "yn = [2, 4, 6, 8, 10, 12, 14, 16]\n",
    "\n",
    "def additionProduct(xn, yn):\n",
    "   \n",
    "    return [x + y for x, y in zip(xn, yn)]\n",
    "\n",
    "wn = additionProduct(xn, yn)\n",
    "print(\"Sum:\", wn)\n"
   ]
  },
  {
   "cell_type": "code",
   "execution_count": 10,
   "id": "d9f0ea78",
   "metadata": {},
   "outputs": [
    {
     "name": "stdout",
     "output_type": "stream",
     "text": [
      "Time ShiftProduct: [5, 5, 5, 5, 5, 5, 7, 9, 11, 13, 15, 17, 19, 21, 23, 25, 27, 30]\n"
     ]
    }
   ],
   "source": [
    "# TIME SHIFT \n",
    "\n",
    "xn = [5, 7, 9, 11, 13, 15, 17, 19, 21, 23, 25, 27, 30]\n",
    "a = 5 \n",
    "\n",
    "def timeShiftProduct(xn, a):\n",
    "    delay = [5] * a  \n",
    "    return delay + xn\n",
    "\n",
    "wn = timeShiftProduct(xn, a)\n",
    "print(\"Time ShiftProduct:\", wn)\n"
   ]
  }
 ],
 "metadata": {
  "kernelspec": {
   "display_name": "Python 3",
   "language": "python",
   "name": "python3"
  },
  "language_info": {
   "codemirror_mode": {
    "name": "ipython",
    "version": 3
   },
   "file_extension": ".py",
   "mimetype": "text/x-python",
   "name": "python",
   "nbconvert_exporter": "python",
   "pygments_lexer": "ipython3",
   "version": "3.13.1"
  }
 },
 "nbformat": 4,
 "nbformat_minor": 5
}

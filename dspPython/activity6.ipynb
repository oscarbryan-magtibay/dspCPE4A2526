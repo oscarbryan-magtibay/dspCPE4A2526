{
 "cells": [
  {
   "cell_type": "code",
   "execution_count": null,
   "id": "d5e7d8c7",
   "metadata": {},
   "outputs": [
    {
     "name": "stdout",
     "output_type": "stream",
     "text": [
      "Sequence xn: [12, 13, 14, 17, 19, 15]\n",
      "Sequence yn: [1, 2, 3, 4, 5, 6]\n",
      "Modulation (xn * hn): [12, 26, 42, 68, 95, 90]\n"
     ]
    }
   ],
   "source": [
    "# Modulation\n",
    "xn = [12, 13, 14, 17, 19, 15]\n",
    "yn = [1, 2, 3, 4, 5, 6]\n",
    "\n",
    "def modulation(xn, yn):\n",
    "    wn = []\n",
    "    for i in range(len(xn)):\n",
    "        wn.append(xn[i] * yn[i])\n",
    "    return wn\n",
    "\n",
    "# Run operation\n",
    "wn = modulation(xn, yn)\n",
    "print(\"Sequence xn:\", xn)\n",
    "print(\"Sequence yn:\", yn)\n",
    "print(\"Modulation (xn * hn):\", wn)\n"
   ]
  },
  {
   "cell_type": "code",
   "execution_count": null,
   "id": "4b26ca1d",
   "metadata": {},
   "outputs": [
    {
     "name": "stdout",
     "output_type": "stream",
     "text": [
      "Sequence xn: [12, 13, 14, 17, 19, 15]\n",
      "Sequence yn: [1, 2, 3, 4, 5, 6]\n",
      "Addition (xn + hn): [13, 15, 17, 21, 24, 21]\n"
     ]
    }
   ],
   "source": [
    "# Addition\n",
    "xn = [12, 13, 14, 17, 19, 15]\n",
    "yn = [1, 2, 3, 4, 5, 6]\n",
    "\n",
    "def addSequences(xn, yn):\n",
    "    wn = []\n",
    "    for i in range(len(xn)):\n",
    "        wn.append(xn[i] + yn[i])\n",
    "    return wn\n",
    "\n",
    "# Run operation\n",
    "wn = addSequences(xn, yn)\n",
    "print(\"Sequence xn:\", xn)\n",
    "print(\"Sequence yn:\", yn)\n",
    "print(\"Addition (xn + hn):\", wn)\n"
   ]
  },
  {
   "cell_type": "code",
   "execution_count": null,
   "id": "802f349d",
   "metadata": {},
   "outputs": [
    {
     "name": "stdout",
     "output_type": "stream",
     "text": [
      "Original sequence xn: [12, 13, 14, 17, 19, 15]\n",
      "Scalar Multiplication (A*xn): [120, 130, 140, 170, 190, 150]\n"
     ]
    }
   ],
   "source": [
    "# Scalar \n",
    "xn = [12, 13, 14, 17, 19, 15]\n",
    "A = 10  # Scalar constant\n",
    "\n",
    "def scalarProduct(A, xn):\n",
    "    wm = []\n",
    "    for w in xn:\n",
    "        wm.append(A * w)\n",
    "    return wm\n",
    "\n",
    "# Run operation\n",
    "wn = scalarProduct(A, xn)\n",
    "print(\"Original sequence xn:\", xn)\n",
    "print(\"Scalar Multiplication (A*xn):\", wn)\n"
   ]
  },
  {
   "cell_type": "code",
   "execution_count": null,
   "id": "ec00c880",
   "metadata": {},
   "outputs": [
    {
     "name": "stdout",
     "output_type": "stream",
     "text": [
      "Original sequence xn: [16, 22, 23, 14, 15, 36, 10]\n",
      "Time Shift (xn delayed by {k}): [0, 0, 16, 22, 23, 14, 15, 36, 10]\n"
     ]
    }
   ],
   "source": [
    "# Time Shift \n",
    "xn = [16, 22, 23, 14, 15, 36,10]\n",
    "k = 2  \n",
    "\n",
    "def timeShift(xn, k):\n",
    "    wn = [0]*k + xn   \n",
    "    return wn\n",
    "\n",
    "# Run operation\n",
    "wn =  timeShift(xn, k)\n",
    "print(\"Original sequence xn:\", xn)\n",
    "print(\"Time Shift (xn delayed by {k}):\", wn)"
   ]
  }
 ],
 "metadata": {
  "kernelspec": {
   "display_name": "Python 3",
   "language": "python",
   "name": "python3"
  },
  "language_info": {
   "codemirror_mode": {
    "name": "ipython",
    "version": 3
   },
   "file_extension": ".py",
   "mimetype": "text/x-python",
   "name": "python",
   "nbconvert_exporter": "python",
   "pygments_lexer": "ipython3",
   "version": "3.13.1"
  }
 },
 "nbformat": 4,
 "nbformat_minor": 5
}

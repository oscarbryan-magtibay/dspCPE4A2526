{
 "cells": [
  {
   "cell_type": "code",
   "execution_count": 14,
   "id": "0c0a8c9f",
   "metadata": {},
   "outputs": [
    {
     "name": "stdout",
     "output_type": "stream",
     "text": [
      "-----------------------------------------------------------\n",
      "Modulation Result    : [0, 402, 112, 246, 81, 80, 0, 0, 0]\n",
      "Addition Result      : [32, 73, 58, 85, 18, 18, 7, 4, 1]\n",
      "-----------------------------------------------------------\n"
     ]
    }
   ],
   "source": [
    "# Modulation andd Addition\n",
    "\n",
    "xn = [6, 2, 3, 9, 8, 7, 4, 1]\n",
    "yn = [32, 67, 56, 82, 9, 10]\n",
    "\n",
    "originX = 2  \n",
    "originY = 1  \n",
    "\n",
    "def align_and_operate(xn, originX, yn, originY, op):\n",
    "   \n",
    "    initial = min(originX, originY)\n",
    "    final = max(originX + len(xn), originY + len(yn))\n",
    "\n",
    "    result = []\n",
    "    for n in range(initial, final):\n",
    "        x_val = xn[n - originX] if originX <= n < originX + len(xn) else 0\n",
    "        y_val = yn[n - originY] if originY <= n < originY + len(yn) else 0\n",
    "        result.append(op(x_val, y_val))\n",
    "    return result\n",
    "\n",
    "import operator\n",
    "\n",
    "sum_seq = align_and_operate(xn, originX, yn, originY, operator.add)\n",
    "prod_seq = align_and_operate(xn, originX, yn, originY, operator.mul)\n",
    "\n",
    "print(\"-----------------------------------------------------------\")\n",
    "print(\"Modulation Result    :\", prod_seq)\n",
    "print(\"Addition Result      :\", sum_seq)\n",
    "print(\"-----------------------------------------------------------\")\n",
    "\n"
   ]
  },
  {
   "cell_type": "code",
   "execution_count": 13,
   "id": "6f9493ab",
   "metadata": {},
   "outputs": [
    {
     "name": "stdout",
     "output_type": "stream",
     "text": [
      "-----------------------------------------------------------\n",
      "Scalar Multiplication result: [6, 18, 30, 42, 36, 54]\n",
      "-----------------------------------------------------------\n"
     ]
    }
   ],
   "source": [
    "# Scalar multiplication\n",
    "\n",
    "xn = [1, 3, 5, 7, 6, 9]\n",
    "A = 6\n",
    "\n",
    "def scalmul(A,xn):\n",
    "    result = []\n",
    "    for i in xn:\n",
    "        result.append(A*i)\n",
    "    return result\n",
    "\n",
    "print(\"-----------------------------------------------------------\")\n",
    "result = scalmul(A,xn)\n",
    "print(\"Scalar Multiplication result:\", result)\n",
    "print(\"-----------------------------------------------------------\")\n",
    "\n",
    "    "
   ]
  },
  {
   "cell_type": "code",
   "execution_count": null,
   "id": "6f650953",
   "metadata": {},
   "outputs": [],
   "source": [
    "# Time switch\n",
    "\n",
    "xn = [1, 3, 5, 7, 6, 9]\n",
    "A = 5\n",
    "\n",
    "def scalmul(A,xn):\n",
    "    result = []\n",
    "    for i in xn:\n",
    "        result.append(A*i)\n",
    "    return result\n",
    "\n",
    "result = scalmul(A,xn)\n",
    "print(\"Scalar Multiplication result:\", result)\n",
    "    "
   ]
  }
 ],
 "metadata": {
  "kernelspec": {
   "display_name": "Python 3",
   "language": "python",
   "name": "python3"
  },
  "language_info": {
   "codemirror_mode": {
    "name": "ipython",
    "version": 3
   },
   "file_extension": ".py",
   "mimetype": "text/x-python",
   "name": "python",
   "nbconvert_exporter": "python",
   "pygments_lexer": "ipython3",
   "version": "3.12.8"
  }
 },
 "nbformat": 4,
 "nbformat_minor": 5
}

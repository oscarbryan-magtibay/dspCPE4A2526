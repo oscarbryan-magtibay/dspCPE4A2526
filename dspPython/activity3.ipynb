{
 "cells": [
  {
   "cell_type": "code",
   "execution_count": null,
   "id": "0c1657b7",
   "metadata": {},
   "outputs": [],
   "source": [
    "import cv2\n",
    "import numpy as np\n",
    "import matplotlib.pyplot as plt\n",
    "# Load the image\n",
    "image = cv2.imread('coin.png')\n",
    "image = cv2.resize(image, (640, 480))  # Resize if needed\n",
    "\n",
    "# Convert to HSV\n",
    "image_rgb = cv2.cvtColor(image,cv2.COLOR_BGR2RGB)\n",
    "hsv = cv2.cvtColor(image, cv2.COLOR_BGR2HSV)\n",
    "\n",
    "# Define the red color range in HSV\n",
    "# Red can span across the 0 and 180 boundaries, so we need two ranges\n",
    "lower_red1 = np.array([0, 100, 100])\n",
    "upper_red1 = np.array([10, 255, 255])\n",
    "\n",
    "lower_red2 = np.array([160, 100, 100])\n",
    "upper_red2 = np.array([180, 255, 255])\n",
    "\n",
    "# Create masks\n",
    "mask1 = cv2.inRange(hsv, lower_red1, upper_red1)\n",
    "mask2 = cv2.inRange(hsv, lower_red2, upper_red2)\n",
    "\n",
    "# Combine both masks\n",
    "red_mask = cv2.bitwise_or(mask1, mask2)\n",
    "\n",
    "# Apply the mask to the original image\n",
    "red_result = cv2.bitwise_and(image, image, mask=red_mask)\n",
    "\n",
    "fig, axs = plt.subplots(1, 3, figsize=(18, 12))\n",
    "# Display the results\n",
    "axs[0].imshow(image_rgb)\n",
    "axs[1].imshow(red_mask)\n",
    "axs[2].imshow(red_result)\n"
   ]
  }
 ],
 "metadata": {
  "kernelspec": {
   "display_name": "Python 3",
   "language": "python",
   "name": "python3"
  },
  "language_info": {
   "codemirror_mode": {
    "name": "ipython",
    "version": 3
   },
   "file_extension": ".py",
   "mimetype": "text/x-python",
   "name": "python",
   "nbconvert_exporter": "python",
   "pygments_lexer": "ipython3",
   "version": "3.13.1"
  }
 },
 "nbformat": 4,
 "nbformat_minor": 5
}

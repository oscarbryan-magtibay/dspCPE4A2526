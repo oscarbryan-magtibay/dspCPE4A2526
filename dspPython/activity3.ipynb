{
 "cells": [
  {
   "cell_type": "code",
   "execution_count": 1,
   "id": "91f21a7e",
   "metadata": {},
   "outputs": [
    {
     "name": "stdout",
     "output_type": "stream",
     "text": [
      "Stopped by user.\n"
     ]
    },
    {
     "data": {
      "image/png": "[encoded data removed]",
      "text/plain": [
       "<Figure size 1000x600 with 1 Axes>"
      ]
     },
     "metadata": {},
     "output_type": "display_data"
    }
   ],
   "source": [
    "import cv2\n",
    "import numpy as np\n",
    "from matplotlib import pyplot as plt\n",
    "from IPython.display import clear_output\n",
    "\n",
    "def classify_coin(radius):\n",
    "    if 10 <= radius < 18:\n",
    "        return 'PHP 0.01', 0.01\n",
    "    elif 18 <= radius < 25:\n",
    "        return 'PHP 0.25', 0.25\n",
    "    elif 25 <= radius < 33:\n",
    "        return 'PHP 1', 1\n",
    "    elif 33 <= radius < 40:\n",
    "        return 'PHP 5', 5\n",
    "    elif 40 <= radius < 50:\n",
    "        return 'PHP 10', 10\n",
    "    else:\n",
    "        return None, 0\n",
    "\n",
    "cap = cv2.VideoCapture(1)  \n",
    "\n",
    "if not cap.isOpened():\n",
    "    print(\"Cannot open camera\")\n",
    "    exit()\n",
    "\n",
    "try:\n",
    "    while True:\n",
    "        ret, frame = cap.read()\n",
    "        if not ret:\n",
    "            print(\"Failed to grab frame\")\n",
    "            break\n",
    "\n",
    "        frame = cv2.resize(frame, (640, 480))\n",
    "        output = frame.copy()\n",
    "        gray = cv2.cvtColor(frame, cv2.COLOR_BGR2GRAY)\n",
    "\n",
    "        blurred = cv2.medianBlur(gray, 7)\n",
    "\n",
    "        circles = cv2.HoughCircles(\n",
    "            blurred,\n",
    "            cv2.HOUGH_GRADIENT,\n",
    "            dp=1.2,\n",
    "            minDist=30,\n",
    "            param1=50,\n",
    "            param2=30,\n",
    "            minRadius=10,\n",
    "            maxRadius=50\n",
    "        )\n",
    "\n",
    "        coin_count = 0\n",
    "        total_value = 0.0\n",
    "\n",
    "        if circles is not None:\n",
    "            circles = np.round(circles[0, :]).astype(\"int\")\n",
    "            for (x, y, r) in circles:\n",
    "                label, value = classify_coin(r)\n",
    "                if value > 0:\n",
    "                    coin_count += 1\n",
    "                    total_value += value\n",
    "                    cv2.circle(output, (x, y), r, (0, 255, 0), 2)\n",
    "                    cv2.putText(output, f\"{label}\", (x - 40, y),\n",
    "                                cv2.FONT_HERSHEY_SIMPLEX, 0.7, (0, 0, 255), 2)\n",
    "\n",
    "        cv2.putText(output, f\"Total coins: {coin_count}\", (10, 30),\n",
    "                    cv2.FONT_HERSHEY_SIMPLEX, 1, (255, 255, 0), 2)\n",
    "        cv2.putText(output, f\"Total value: PHP {total_value:.2f}\", (10, 70),\n",
    "                    cv2.FONT_HERSHEY_SIMPLEX, 1, (255, 255, 0), 2)\n",
    "\n",
    "        plt.figure(figsize=(10, 6))\n",
    "        plt.imshow(cv2.cvtColor(output, cv2.COLOR_BGR2RGB))\n",
    "        plt.axis(\"off\")\n",
    "        plt.title(f\"Coins: {coin_count} | Total: PHP {total_value:.2f}\")\n",
    "        plt.show()\n",
    "\n",
    "        clear_output(wait=True)\n",
    "\n",
    "except KeyboardInterrupt:\n",
    "    print(\"Stopped by user.\")\n",
    "\n",
    "finally:\n",
    "    cap.release()\n"
   ]
  }
 ],
 "metadata": {
  "kernelspec": {
   "display_name": "Python 3",
   "language": "python",
   "name": "python3"
  },
  "language_info": {
   "codemirror_mode": {
    "name": "ipython",
    "version": 3
   },
   "file_extension": ".py",
   "mimetype": "text/x-python",
   "name": "python",
   "nbconvert_exporter": "python",
   "pygments_lexer": "ipython3",
   "version": "3.12.8"
  }
 },
 "nbformat": 4,
 "nbformat_minor": 5
}

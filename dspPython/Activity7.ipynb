{
 "cells": [
  {
   "cell_type": "code",
   "execution_count": null,
   "id": "a6defe76",
   "metadata": {},
   "outputs": [],
   "source": [
    "import numpy as np\n",
    "import matplotlib.pyplot as plt\n",
    "\n",
    "xn = np.array([int(x) for x in input(\"Enter your sequence: \").split()])\n",
    "n = np.arange(-(len(xn)//2), len(xn)//2 + len(xn)%2)\n",
    "\n",
    "x_folded = xn[::-1]\n",
    "x_even = 0.5 * (xn + x_folded)\n",
    "x_odd = 0.5 * (xn - x_folded)\n",
    "\n",
    "plt.figure(figsize=(10, 10))\n",
    "\n",
    "plt.subplot(4, 1, 1); plt.stem(n, xn, linefmt='#87CEEB', markerfmt='o', basefmt='k-'); plt.title('Original')\n",
    "plt.subplot(4, 1, 2); plt.stem(n, x_folded, linefmt='#FF7F50', markerfmt='o', basefmt='k-'); plt.title('Folded')\n",
    "plt.subplot(4, 1, 3); plt.stem(n, x_even, linefmt=\"#A19C7C\", markerfmt='o', basefmt='k-'); plt.title('Even')\n",
    "plt.subplot(4, 1, 4); plt.stem(n, x_odd, linefmt='#9DC183', markerfmt='o', basefmt='k-'); plt.title('Odd')\n",
    "\n",
    "plt.tight_layout(); plt.show()\n",
    "\n",
    "x_reconstructed = x_even + x_odd\n",
    "print(f\"Reconstruction error: {np.max(np.abs(xn - x_reconstructed)):.2e}\")\n",
    "print(f\"Even symmetry: {np.allclose(x_even, x_even[::-1])}\")\n",
    "print(f\"Odd symmetry: {np.allclose(x_odd, -x_odd[::-1])}\")\n"
   ]
  }
 ],
 "metadata": {
  "kernelspec": {
   "display_name": "Python 3",
   "language": "python",
   "name": "python3"
  },
  "language_info": {
   "codemirror_mode": {
    "name": "ipython",
    "version": 3
   },
   "file_extension": ".py",
   "mimetype": "text/x-python",
   "name": "python",
   "nbconvert_exporter": "python",
   "pygments_lexer": "ipython3",
   "version": "3.12.8"
  }
 },
 "nbformat": 4,
 "nbformat_minor": 5
}

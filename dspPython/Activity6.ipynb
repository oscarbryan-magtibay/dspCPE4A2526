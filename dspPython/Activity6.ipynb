{
 "cells": [
  {
   "cell_type": "code",
   "execution_count": null,
   "metadata": {
    "vscode": {
     "languageId": "plaintext"
    }
   },
   "outputs": [],
   "source": [
    "#SEQUENCE OPERATION: MODULATION\n",
    "\n",
    "xn = [51, 52, 53, 54, 55]\n",
    "yn = [1, 2, 3, 4, 5]\n",
    "def modulation(x, y):\n",
    "    wn = []  \n",
    "    for i in range(len(x)):\n",
    "        wn.append(x[i] * y[i])\n",
    "    return wn\n",
    "wn = modulation(xn, yn)\n",
    "print(\"Modulation Product:\", wn)"
   ]
  },
  {
   "cell_type": "code",
   "execution_count": null,
   "metadata": {
    "vscode": {
     "languageId": "plaintext"
    }
   },
   "outputs": [],
   "source": []
  }
 ],
 "metadata": {
  "kernelspec": {
   "display_name": "Python 3",
   "language": "python",
   "name": "python3"
  },
  "language_info": {
   "codemirror_mode": {
    "name": "ipython",
    "version": 3
   },
   "file_extension": ".py",
   "mimetype": "text/x-python",
   "name": "python",
   "nbconvert_exporter": "python",
   "pygments_lexer": "ipython3",
   "version": "3.13.6"
  }
 },
 "nbformat": 4,
 "nbformat_minor": 2
}

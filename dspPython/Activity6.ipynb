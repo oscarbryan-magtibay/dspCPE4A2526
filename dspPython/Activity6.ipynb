{
 "cells": [
  {
   "cell_type": "code",
   "execution_count": 79,
   "metadata": {},
   "outputs": [
    {
     "name": "stdout",
     "output_type": "stream",
     "text": [
      "Modulation / Product Operation\n",
      "\n",
      "The Modulated / Product is:  [242, 1452, 3630, 6776, 9900, 13542]\n"
     ]
    }
   ],
   "source": [
    "print(\"Modulation / Product Operation\")\n",
    "print()\n",
    "\n",
    "xn = [22, 44, 66, 88, 100, 122] \n",
    "yn = [11, 33, 55, 77, 99, 111] \n",
    "wn = []\n",
    "\n",
    "def modulationProduct(xn, yn):\n",
    "    for mp in range(len(xn)):\n",
    "        wn.append(xn[mp] * yn[mp])\n",
    "    return wn\n",
    "\n",
    "wn = modulationProduct(xn, yn)\n",
    "print(\"The Modulated / Product is: \", wn)\n"
   ]
  },
  {
   "cell_type": "code",
   "execution_count": 91,
   "metadata": {},
   "outputs": [
    {
     "name": "stdout",
     "output_type": "stream",
     "text": [
      "Addition Operation\n",
      "\n",
      "The Addition Sum is:  [33, 77, 121, 165, 199, 233]\n"
     ]
    }
   ],
   "source": [
    "print(\"Addition Operation\")\n",
    "print()\n",
    "\n",
    "xn = [22, 44, 66, 88, 100, 122] \n",
    "yn = [11, 33, 55, 77, 99, 111]    \n",
    "wn = []\n",
    "\n",
    "def additionOperation(xn, yn):\n",
    "    for ao in range(len(xn)):\n",
    "        wn.append(xn[ao] + yn[ao])\n",
    "    return wn\n",
    "\n",
    "wn = additionOperation(xn, yn)\n",
    "print(\"The Addition Sum is: \", wn)\n"
   ]
  },
  {
   "cell_type": "code",
   "execution_count": 83,
   "metadata": {},
   "outputs": [
    {
     "name": "stdout",
     "output_type": "stream",
     "text": [
      "Scalar Multiplication\n",
      "\n",
      "The Scalar Product is:  [110, 220, 330, 440, 500, 610]\n"
     ]
    }
   ],
   "source": [
    "print(\"Scalar Multiplication\")\n",
    "print()\n",
    "\n",
    "xn = [22, 44, 66, 88, 100, 122]\n",
    "S = 5\n",
    "wn = []\n",
    "\n",
    "def scalarProduct(S,xn):\n",
    "    for sm in xn:\n",
    "        sm = S*sm\n",
    "        wn.append(sm)\n",
    "    return wn\n",
    "\n",
    "wn = scalarProduct(S,xn)\n",
    "print (\"The Scalar Product is: \", wn)\n"
   ]
  },
  {
   "cell_type": "code",
   "execution_count": 92,
   "metadata": {},
   "outputs": [
    {
     "name": "stdout",
     "output_type": "stream",
     "text": [
      "Time Shifting Operation\n",
      "\n",
      "Delay by 2: [0, 0, 22, 44, 66, 88, 100, 122]\n",
      "Advance by 2: [66, 88, 100, 122]\n"
     ]
    }
   ],
   "source": [
    "print(\"Time Shifting Operation\")\n",
    "print()\n",
    "\n",
    "xn = [22, 44, 66, 88, 100, 122]\n",
    "\n",
    "def timeShift(xn, ts):\n",
    "    if ts > 0:\n",
    "        return [0]*ts + xn\n",
    "    elif ts < 0:\n",
    "        return xn[abs(ts):]\n",
    "    else:\n",
    "        return xn\n",
    "\n",
    "delay = timeShift(xn, 2)\n",
    "print(\"Delay by 2:\", delay)\n",
    "\n",
    "advance = timeShift(xn, -2)\n",
    "print(\"Advance by 2:\", advance)\n"
   ]
  },
  {
   "cell_type": "code",
   "execution_count": 104,
   "metadata": {},
   "outputs": [
    {
     "name": "stdout",
     "output_type": "stream",
     "text": [
      "Modulation / Product Operation with Index\n",
      "\n",
      "The Modulated / Product is:  [1210, 3388, 6534, 9768]\n"
     ]
    }
   ],
   "source": [
    "print(\"Modulation / Product Operation with Index\")\n",
    "print()\n",
    "\n",
    "xn = [22, 44, 66, 88, 100, 122] \n",
    "yn = [11, 33, 55, 77, 99, 111]    \n",
    "wn = []\n",
    "\n",
    "xnstarts = -4\n",
    "xystarts = -6\n",
    "\n",
    "def modulationOperation(xn, yn, xnstarts, xystarts):\n",
    "    xnIndex = list(range(xnstarts, xnstarts + len(xn)))\n",
    "    ynIndex = list(range(xystarts, xystarts + len(yn)))\n",
    "    commonIndex = sorted(set(xnIndex).intersection(ynIndex))\n",
    "\n",
    "    for mp in commonIndex:\n",
    "        wn.append(xn[xnIndex.index(mp)] * yn[ynIndex.index(mp)])\n",
    "    return wn\n",
    "\n",
    "wn = modulationOperation(xn, yn, xnstarts, xystarts)\n",
    "print(\"The Modulated / Product is: \", wn)\n"
   ]
  },
  {
   "cell_type": "code",
   "execution_count": 106,
   "metadata": {},
   "outputs": [
    {
     "name": "stdout",
     "output_type": "stream",
     "text": [
      "Addition Operation with Index\n",
      "\n",
      "The Addition Sum is:  [77, 121, 165, 199]\n"
     ]
    }
   ],
   "source": [
    "print(\"Addition Operation with Index\")\n",
    "print()\n",
    "\n",
    "xn = [22, 44, 66, 88, 100, 122] \n",
    "yn = [11, 33, 55, 77, 99, 111]    \n",
    "wn = []\n",
    "\n",
    "xnstarts = -4\n",
    "xystarts = -6\n",
    "\n",
    "def additionOperation(xn, yn, xnstarts, xystarts):\n",
    "    xnIndex = list(range(xnstarts, xnstarts + len(xn)))\n",
    "    ynIndex = list(range(xystarts, xystarts + len(yn)))\n",
    "    commonIndex = sorted(set(xnIndex).intersection(ynIndex))\n",
    "\n",
    "    for ao in commonIndex:\n",
    "        wn.append(xn[xnIndex.index(ao)] + yn[ynIndex.index(ao)])\n",
    "    return wn\n",
    "\n",
    "wn = additionOperation(xn, yn, xnstarts, xystarts)\n",
    "print(\"The Addition Sum is: \", wn)\n"
   ]
  },
  {
   "cell_type": "code",
   "execution_count": 108,
   "metadata": {},
   "outputs": [
    {
     "name": "stdout",
     "output_type": "stream",
     "text": [
      "Scalar Multiplication Operation with Index\n",
      "\n",
      "The Scalar Multiplication is:  [110, 220, 330, 440, 500, 610]\n"
     ]
    }
   ],
   "source": [
    "print(\"Scalar Multiplication Operation with Index\")\n",
    "print()\n",
    "\n",
    "xn = [22, 44, 66, 88, 100, 122] \n",
    "S = 5\n",
    "wn = []\n",
    "\n",
    "xnstarts = -4     \n",
    "\n",
    "def scalarOperation(xn, S, xnstarts):\n",
    "    xnIndex = list(range(xnstarts, xnstarts + len(xn)))\n",
    "\n",
    "    for sm in xnIndex:\n",
    "        wn.append(xn[xnIndex.index(sm)] * S)\n",
    "    return wn\n",
    "\n",
    "wn = scalarOperation(xn, S, xnstarts)\n",
    "print(\"The Scalar Multiplication is: \", wn)\n"
   ]
  },
  {
   "cell_type": "code",
   "execution_count": 109,
   "metadata": {},
   "outputs": [
    {
     "name": "stdout",
     "output_type": "stream",
     "text": [
      "Time Shifting Operation with Index\n",
      "\n",
      "Delay by 2: [0, 0, 22, 44, 66, 88, 100, 122]\n",
      "Advance by 2: [66, 88, 100, 122]\n"
     ]
    }
   ],
   "source": [
    "print(\"Time Shifting Operation with Index\")\n",
    "print()\n",
    "\n",
    "xn = [22, 44, 66, 88, 100, 122]\n",
    "xnstarts = -4 \n",
    "\n",
    "def timeShift(xn, ts, xnstarts):\n",
    "    xnIndex = list(range(xnstarts, xnstarts + len(xn)))\n",
    "\n",
    "    if ts > 0:\n",
    "        xn = [0]*ts + xn\n",
    "        xnIndex = list(range(xnstarts + ts, xnstarts + ts + len(xn)))\n",
    "    elif ts < 0:\n",
    "        xn = xn[abs(ts):]\n",
    "        xnIndex = list(range(xnstarts + ts, xnstarts + ts + len(xn)))\n",
    "    else:\n",
    "        xnIndex = list(range(xnstarts, xnstarts + len(xn)))\n",
    "    return xn, xnIndex\n",
    "\n",
    "delay, delayIndex = timeShift(xn, 2, xnstarts)\n",
    "print(\"Delay by 2:\", delay)\n",
    "advance, advanceIndex = timeShift(xn, -2, xnstarts)\n",
    "print(\"Advance by 2:\", advance)\n"
   ]
  }
 ],
 "metadata": {
  "kernelspec": {
   "display_name": "Python 3",
   "language": "python",
   "name": "python3"
  },
  "language_info": {
   "codemirror_mode": {
    "name": "ipython",
    "version": 3
   },
   "file_extension": ".py",
   "mimetype": "text/x-python",
   "name": "python",
   "nbconvert_exporter": "python",
   "pygments_lexer": "ipython3",
   "version": "3.12.10"
  }
 },
 "nbformat": 4,
 "nbformat_minor": 2
}

{
 "cells": [
  {
   "cell_type": "code",
   "execution_count": 1,
   "id": "2b25f5f2",
   "metadata": {},
   "outputs": [
    {
     "name": "stdout",
     "output_type": "stream",
     "text": [
      "Error opening serial port: could not open port 'COM5': FileNotFoundError(2, 'The system cannot find the file specified.', None, 2)\n",
      "Command Sent: CENTER with step 0\n"
     ]
    },
    {
     "ename": "KeyboardInterrupt",
     "evalue": "",
     "output_type": "error",
     "traceback": [
      "\u001b[1;31m---------------------------------------------------------------------------\u001b[0m",
      "\u001b[1;31mKeyboardInterrupt\u001b[0m                         Traceback (most recent call last)",
      "Cell \u001b[1;32mIn[1], line 55\u001b[0m\n\u001b[0;32m     52\u001b[0m upper \u001b[38;5;241m=\u001b[39m np\u001b[38;5;241m.\u001b[39marray([uh, us, uv])\n\u001b[0;32m     54\u001b[0m mask \u001b[38;5;241m=\u001b[39m cv2\u001b[38;5;241m.\u001b[39minRange(hsv, lower, upper)\n\u001b[1;32m---> 55\u001b[0m result \u001b[38;5;241m=\u001b[39m \u001b[43mcv2\u001b[49m\u001b[38;5;241;43m.\u001b[39;49m\u001b[43mbitwise_and\u001b[49m\u001b[43m(\u001b[49m\u001b[43mframe\u001b[49m\u001b[43m,\u001b[49m\u001b[43m \u001b[49m\u001b[43mframe\u001b[49m\u001b[43m,\u001b[49m\u001b[43m \u001b[49m\u001b[43mmask\u001b[49m\u001b[38;5;241;43m=\u001b[39;49m\u001b[43mmask\u001b[49m\u001b[43m)\u001b[49m\n\u001b[0;32m     57\u001b[0m contours, _ \u001b[38;5;241m=\u001b[39m cv2\u001b[38;5;241m.\u001b[39mfindContours(mask, cv2\u001b[38;5;241m.\u001b[39mRETR_EXTERNAL, cv2\u001b[38;5;241m.\u001b[39mCHAIN_APPROX_SIMPLE)\n\u001b[0;32m     59\u001b[0m direction \u001b[38;5;241m=\u001b[39m \u001b[38;5;124m\"\u001b[39m\u001b[38;5;124mCENTER\u001b[39m\u001b[38;5;124m\"\u001b[39m\n",
      "\u001b[1;31mKeyboardInterrupt\u001b[0m: "
     ]
    }
   ],
   "source": [
    "import cv2\n",
    "import numpy as np\n",
    "import serial\n",
    "import time\n",
    "\n",
    "cap = cv2.VideoCapture(1) \n",
    "if not cap.isOpened():\n",
    "    raise IOError(\"Cannot open webcam\")\n",
    "\n",
    "def nothing(x):\n",
    "    pass\n",
    "\n",
    "cv2.namedWindow(\"HSV Slider Tool\", cv2.WINDOW_NORMAL)\n",
    "cv2.resizeWindow(\"HSV Slider Tool\", 400, 300)\n",
    "cv2.createTrackbar(\"LH\", \"HSV Slider Tool\", 25, 179, nothing)\n",
    "cv2.createTrackbar(\"LS\", \"HSV Slider Tool\", 30, 255, nothing)\n",
    "cv2.createTrackbar(\"LV\", \"HSV Slider Tool\", 50, 255, nothing)\n",
    "cv2.createTrackbar(\"UH\", \"HSV Slider Tool\", 35, 179, nothing)\n",
    "cv2.createTrackbar(\"US\", \"HSV Slider Tool\", 60, 255, nothing)\n",
    "cv2.createTrackbar(\"UV\", \"HSV Slider Tool\", 90, 255, nothing) \n",
    "try:\n",
    "    arduino = serial.Serial('COM5', 115200) \n",
    "    time.sleep(2) \n",
    "except serial.SerialException as e:\n",
    "    print(f\"Error opening serial port: {e}\")\n",
    "    arduino = None\n",
    "\n",
    "def send_command(direction, step):\n",
    "    if arduino and arduino.is_open:\n",
    "        cmd = f\"{direction}:{step}\"\n",
    "        arduino.write((cmd + \"\\n\").encode())\n",
    "\n",
    "last_direction = \"\"\n",
    "\n",
    "while True:\n",
    "    ret, frame = cap.read()\n",
    "    if not ret:\n",
    "        break\n",
    "\n",
    "    frame = cv2.flip(frame, 1)\n",
    "    height, width, _ = frame.shape\n",
    "    center_x = width // 2\n",
    "\n",
    "    hsv = cv2.cvtColor(frame, cv2.COLOR_BGR2HSV)\n",
    "    lh = cv2.getTrackbarPos(\"LH\", \"HSV Slider Tool\")\n",
    "    ls = cv2.getTrackbarPos(\"LS\", \"HSV Slider Tool\")\n",
    "    lv = cv2.getTrackbarPos(\"LV\", \"HSV Slider Tool\")\n",
    "    uh = cv2.getTrackbarPos(\"UH\", \"HSV Slider Tool\")\n",
    "    us = cv2.getTrackbarPos(\"US\", \"HSV Slider Tool\")\n",
    "    uv = cv2.getTrackbarPos(\"UV\", \"HSV Slider Tool\") \n",
    "    lower = np.array([lh, ls, lv])\n",
    "    upper = np.array([uh, us, uv])\n",
    "\n",
    "    mask = cv2.inRange(hsv, lower, upper)\n",
    "    result = cv2.bitwise_and(frame, frame, mask=mask)\n",
    "\n",
    "    contours, _ = cv2.findContours(mask, cv2.RETR_EXTERNAL, cv2.CHAIN_APPROX_SIMPLE)\n",
    "    \n",
    "    direction = \"CENTER\"\n",
    "    step = 0\n",
    "\n",
    "    if contours:\n",
    "        c = max(contours, key=cv2.contourArea)\n",
    "        area = cv2.contourArea(c)\n",
    "\n",
    "        if area > 1000: \n",
    "            x, y, w, h = cv2.boundingRect(c)\n",
    "            cx = x + w // 2\n",
    "            \n",
    "            cv2.rectangle(frame, (x, y), (x + w, y + h), (0, 255, 0), 2)\n",
    "            cv2.circle(frame, (cx, y + h // 2), 5, (255, 0, 0), -1)\n",
    "            cv2.line(frame, (center_x, 0), (center_x, height), (0, 255, 255), 2)\n",
    "            cv2.line(frame, (cx, 0), (cx, height), (0, 255, 255), 2) \n",
    "            \n",
    "            error = cx - center_x\n",
    "            deadband = 20 \n",
    "            \n",
    "            if error > deadband:\n",
    "                direction = \"RIGHT\"\n",
    "                step = int(abs(error) * 0.05) \n",
    "                step = min(step, 10) \n",
    "            elif error < -deadband:\n",
    "                direction = \"LEFT\"\n",
    "                step = int(abs(error) * 0.05)\n",
    "                step = min(step, 10)\n",
    "            else:\n",
    "                direction = \"CENTER\"\n",
    "                step = 0\n",
    "    \n",
    "    cv2.putText(frame, f\"Direction: {direction}\", (20, 50), cv2.FONT_HERSHEY_SIMPLEX, 1, (0, 255, 255), 2)\n",
    "    cv2.putText(frame, f\"Step: {step}\", (20, 80), cv2.FONT_HERSHEY_SIMPLEX, 1, (0, 255, 255), 2)\n",
    "\n",
    "    if direction != last_direction or step > 0:\n",
    "        send_command(direction, step)\n",
    "        print(f\"Command Sent: {direction} with step {step}\")\n",
    "        last_direction = direction\n",
    "\n",
    "    cv2.imshow(\"Webcam Feed\", frame)\n",
    "    cv2.imshow(\"Mask\", mask)\n",
    "    cv2.imshow(\"Result\", result)\n",
    "\n",
    "    if cv2.waitKey(1) & 0xFF == ord('q'):\n",
    "        break\n",
    "\n",
    "cap.release()\n",
    "cv2.destroyAllWindows()"
   ]
  },
  {
   "cell_type": "code",
   "execution_count": 8,
   "id": "01d55fb2",
   "metadata": {},
   "outputs": [
    {
     "name": "stdout",
     "output_type": "stream",
     "text": [
      "Defaulting to user installation because normal site-packages is not writeable\n",
      "Requirement already satisfied: opencv-python in c:\\users\\matthew\\appdata\\roaming\\python\\python312\\site-packages (4.12.0.88)\n",
      "Requirement already satisfied: numpy in c:\\users\\matthew\\appdata\\roaming\\python\\python312\\site-packages (2.2.2)\n",
      "Requirement already satisfied: pyserial in c:\\users\\matthew\\appdata\\roaming\\python\\python312\\site-packages (3.5)\n"
     ]
    },
    {
     "name": "stderr",
     "output_type": "stream",
     "text": [
      "\n",
      "[notice] A new release of pip is available: 24.3.1 -> 25.2\n",
      "[notice] To update, run: python.exe -m pip install --upgrade pip\n"
     ]
    }
   ],
   "source": [
    "!pip install opencv-python numpy pyserial\n"
   ]
  }
 ],
 "metadata": {
  "kernelspec": {
   "display_name": "Python 3",
   "language": "python",
   "name": "python3"
  },
  "language_info": {
   "codemirror_mode": {
    "name": "ipython",
    "version": 3
   },
   "file_extension": ".py",
   "mimetype": "text/x-python",
   "name": "python",
   "nbconvert_exporter": "python",
   "pygments_lexer": "ipython3",
   "version": "3.12.8"
  }
 },
 "nbformat": 4,
 "nbformat_minor": 5
}

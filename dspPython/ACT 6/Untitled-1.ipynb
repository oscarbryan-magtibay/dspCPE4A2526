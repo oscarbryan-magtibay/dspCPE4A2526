{
 "cells": [
  {
   "cell_type": "code",
   "execution_count": 5,
   "id": "435d777b",
   "metadata": {},
   "outputs": [
    {
     "name": "stdout",
     "output_type": "stream",
     "text": [
      "x(n): [1, 2, 3, 4]\n",
      "Origin of x(n): 2\n",
      "y(n): [1, 2, 3, 4]\n",
      "Origin of y(n): 4\n",
      "Modulated Result: [0, 0, 3, 8, 0, 0]\n",
      "Origin index in result: 4\n"
     ]
    }
   ],
   "source": [
    "#MODULATION\n",
    "x = list(map(int, input(\"Enter x(n): \").split()))\n",
    "y = list(map(int, input(\"Enter y(n): \").split()))\n",
    "ox = int(input(\"Origin index of x(n): \"))\n",
    "oy = int(input(\"Origin index of y(n): \"))\n",
    "\n",
    "print(\"x(n):\", x)\n",
    "print(\"Origin of x(n):\", ox)\n",
    "print(\"y(n):\", y)\n",
    "print(\"Origin of y(n):\", oy)\n",
    "\n",
    "left = max(ox, oy)\n",
    "right = max(len(x)-ox-1, len(y)-oy-1)\n",
    "\n",
    "x_new = [0]*(left - ox) + x + [0]*(right - (len(x)-ox-1))\n",
    "y_new = [0]*(left - oy) + y + [0]*(right - (len(y)-oy-1))\n",
    "\n",
    "result = []\n",
    "for i in range(len(x_new)):\n",
    "    result.append(x_new[i] * y_new[i])\n",
    "\n",
    "print(\"Modulated Result:\", result)\n",
    "print(\"Origin index in result:\", left)\n",
    "\n"
   ]
  },
  {
   "cell_type": "code",
   "execution_count": 6,
   "id": "fb011f13",
   "metadata": {},
   "outputs": [
    {
     "name": "stdout",
     "output_type": "stream",
     "text": [
      "x(n): [1, 2, 3, 4]\n",
      "Origin of x(n): 2\n",
      "y(n): [1, 2, 3, 4]\n",
      "Origin of y(n): 4\n",
      "Added Result: [1, 2, 4, 6, 3, 4]\n",
      "Origin index in result: 4\n"
     ]
    }
   ],
   "source": [
    "#ADDITION\n",
    "x = list(map(int, input(\"Enter x(n): \").split()))\n",
    "y = list(map(int, input(\"Enter y(n): \").split()))\n",
    "ox = int(input(\"Origin index of x(n): \"))\n",
    "oy = int(input(\"Origin index of y(n): \"))\n",
    "\n",
    "print(\"x(n):\", x)\n",
    "print(\"Origin of x(n):\", ox)\n",
    "print(\"y(n):\", y)\n",
    "print(\"Origin of y(n):\", oy)\n",
    "\n",
    "left = max(ox, oy)\n",
    "right = max(len(x)-ox-1, len(y)-oy-1)\n",
    "\n",
    "x_new = [0]*(left - ox) + x + [0]*(right - (len(x)-ox-1))\n",
    "y_new = [0]*(left - oy) + y + [0]*(right - (len(y)-oy-1))\n",
    "\n",
    "result = []\n",
    "for i in range(len(x_new)):\n",
    "    result.append(x_new[i] + y_new[i])\n",
    "\n",
    "print(\"Added Result:\", result)\n",
    "print(\"Origin index in result:\", left)\n"
   ]
  },
  {
   "cell_type": "code",
   "execution_count": 8,
   "id": "b4705671",
   "metadata": {},
   "outputs": [
    {
     "name": "stdout",
     "output_type": "stream",
     "text": [
      "x(n): [1, 2, 3, 4]\n",
      "Origin of x(n): 3\n",
      "Scalar A: 2\n",
      "Scalar Multiplication Result: [2, 4, 6, 8]\n",
      "Origin index in result: 3\n"
     ]
    }
   ],
   "source": [
    "#SCALAR\n",
    "x = list(map(int, input(\"Enter x(n): \").split()))\n",
    "origin = int(input(\"Origin index of x(n): \"))\n",
    "A = int(input(\"Enter scalar A: \"))\n",
    "\n",
    "print(\"x(n):\", x)\n",
    "print(\"Origin of x(n):\", origin)\n",
    "print(\"Scalar A:\", A)\n",
    "\n",
    "result = []\n",
    "for i in range(len(x)):\n",
    "    result.append(x[i] * A)\n",
    "\n",
    "print(\"Scalar Multiplication Result:\", result)\n",
    "print(\"Origin index in result:\", origin)\n"
   ]
  },
  {
   "cell_type": "code",
   "execution_count": 4,
   "id": "a238aedb",
   "metadata": {},
   "outputs": [
    {
     "name": "stdout",
     "output_type": "stream",
     "text": [
      "x(n): [-6, -4, -2, 0, 2, 4, 6]\n",
      "Origin of x(n): 4\n",
      "N (shift value): 2\n",
      "w4(n) = x(n - N): [0, 0, -6, -4, -2, 0, 2, 4, 6]\n",
      "New origin index in result: 6\n"
     ]
    }
   ],
   "source": [
    "#TIMESHIFT\n",
    "x = list(map(int, input(\"Enter x(n): \").split()))\n",
    "origin = int(input(\"Enter origin index of x(n): \"))\n",
    "N = int(input(\"Enter value of N (positive = delay, negative = advance): \"))\n",
    "\n",
    "print(\"x(n):\", x)\n",
    "print(\"Origin of x(n):\", origin)\n",
    "print(\"N (shift value):\", N)\n",
    "\n",
    "if N > 0:\n",
    "    # Delay: shift right\n",
    "    x_new = [0]*N + x\n",
    "    new_origin = origin + N\n",
    "elif N < 0:\n",
    "    # Advance: shift left\n",
    "    N = abs(N)\n",
    "    if N >= len(x):\n",
    "        x_new = []\n",
    "        new_origin = 0\n",
    "    else:\n",
    "        x_new = x[N:]\n",
    "        new_origin = origin - N\n",
    "else:\n",
    "    x_new = x.copy()\n",
    "    new_origin = origin\n",
    "\n",
    "print(\"w4(n) = x(n - N):\", x_new)\n",
    "print(\"New origin index in result:\", new_origin)\n"
   ]
  }
 ],
 "metadata": {
  "kernelspec": {
   "display_name": "Python 3",
   "language": "python",
   "name": "python3"
  },
  "language_info": {
   "codemirror_mode": {
    "name": "ipython",
    "version": 3
   },
   "file_extension": ".py",
   "mimetype": "text/x-python",
   "name": "python",
   "nbconvert_exporter": "python",
   "pygments_lexer": "ipython3",
   "version": "3.13.7"
  }
 },
 "nbformat": 4,
 "nbformat_minor": 5
}

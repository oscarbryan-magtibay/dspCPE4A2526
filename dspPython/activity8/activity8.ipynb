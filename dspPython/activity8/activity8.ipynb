{
 "cells": [
  {
   "cell_type": "code",
   "execution_count": 9,
   "id": "2492080c",
   "metadata": {},
   "outputs": [
    {
     "name": "stdout",
     "output_type": "stream",
     "text": [
      "Requirement already satisfied: ultralytics in c:\\users\\oscar\\appdata\\local\\programs\\python\\python312\\lib\\site-packages (8.3.159)\n",
      "Requirement already satisfied: numpy>=1.23.0 in c:\\users\\oscar\\appdata\\local\\programs\\python\\python312\\lib\\site-packages (from ultralytics) (2.2.1)\n",
      "Requirement already satisfied: matplotlib>=3.3.0 in c:\\users\\oscar\\appdata\\local\\programs\\python\\python312\\lib\\site-packages (from ultralytics) (3.10.1)\n",
      "Requirement already satisfied: opencv-python>=4.6.0 in c:\\users\\oscar\\appdata\\local\\programs\\python\\python312\\lib\\site-packages (from ultralytics) (4.11.0.86)\n",
      "Requirement already satisfied: pillow>=7.1.2 in c:\\users\\oscar\\appdata\\local\\programs\\python\\python312\\lib\\site-packages (from ultralytics) (11.1.0)\n",
      "Requirement already satisfied: pyyaml>=5.3.1 in c:\\users\\oscar\\appdata\\local\\programs\\python\\python312\\lib\\site-packages (from ultralytics) (6.0.2)\n",
      "Requirement already satisfied: requests>=2.23.0 in c:\\users\\oscar\\appdata\\local\\programs\\python\\python312\\lib\\site-packages (from ultralytics) (2.32.3)\n",
      "Requirement already satisfied: scipy>=1.4.1 in c:\\users\\oscar\\appdata\\local\\programs\\python\\python312\\lib\\site-packages (from ultralytics) (1.15.1)\n",
      "Requirement already satisfied: torch>=1.8.0 in c:\\users\\oscar\\appdata\\local\\programs\\python\\python312\\lib\\site-packages (from ultralytics) (2.7.1)\n",
      "Requirement already satisfied: torchvision>=0.9.0 in c:\\users\\oscar\\appdata\\local\\programs\\python\\python312\\lib\\site-packages (from ultralytics) (0.22.1)\n",
      "Requirement already satisfied: tqdm>=4.64.0 in c:\\users\\oscar\\appdata\\local\\programs\\python\\python312\\lib\\site-packages (from ultralytics) (4.67.1)\n",
      "Requirement already satisfied: psutil in c:\\users\\oscar\\appdata\\roaming\\python\\python312\\site-packages (from ultralytics) (6.1.1)\n",
      "Requirement already satisfied: py-cpuinfo in c:\\users\\oscar\\appdata\\local\\programs\\python\\python312\\lib\\site-packages (from ultralytics) (9.0.0)\n",
      "Requirement already satisfied: pandas>=1.1.4 in c:\\users\\oscar\\appdata\\local\\programs\\python\\python312\\lib\\site-packages (from ultralytics) (2.2.3)\n",
      "Requirement already satisfied: ultralytics-thop>=2.0.0 in c:\\users\\oscar\\appdata\\local\\programs\\python\\python312\\lib\\site-packages (from ultralytics) (2.0.14)\n",
      "Requirement already satisfied: contourpy>=1.0.1 in c:\\users\\oscar\\appdata\\local\\programs\\python\\python312\\lib\\site-packages (from matplotlib>=3.3.0->ultralytics) (1.3.1)\n",
      "Requirement already satisfied: cycler>=0.10 in c:\\users\\oscar\\appdata\\local\\programs\\python\\python312\\lib\\site-packages (from matplotlib>=3.3.0->ultralytics) (0.12.1)\n",
      "Requirement already satisfied: fonttools>=4.22.0 in c:\\users\\oscar\\appdata\\local\\programs\\python\\python312\\lib\\site-packages (from matplotlib>=3.3.0->ultralytics) (4.56.0)\n",
      "Requirement already satisfied: kiwisolver>=1.3.1 in c:\\users\\oscar\\appdata\\local\\programs\\python\\python312\\lib\\site-packages (from matplotlib>=3.3.0->ultralytics) (1.4.8)\n",
      "Requirement already satisfied: packaging>=20.0 in c:\\users\\oscar\\appdata\\local\\programs\\python\\python312\\lib\\site-packages (from matplotlib>=3.3.0->ultralytics) (24.2)\n",
      "Requirement already satisfied: pyparsing>=2.3.1 in c:\\users\\oscar\\appdata\\local\\programs\\python\\python312\\lib\\site-packages (from matplotlib>=3.3.0->ultralytics) (3.2.3)\n",
      "Requirement already satisfied: python-dateutil>=2.7 in c:\\users\\oscar\\appdata\\roaming\\python\\python312\\site-packages (from matplotlib>=3.3.0->ultralytics) (2.9.0.post0)\n",
      "Requirement already satisfied: pytz>=2020.1 in c:\\users\\oscar\\appdata\\local\\programs\\python\\python312\\lib\\site-packages (from pandas>=1.1.4->ultralytics) (2024.2)\n",
      "Requirement already satisfied: tzdata>=2022.7 in c:\\users\\oscar\\appdata\\local\\programs\\python\\python312\\lib\\site-packages (from pandas>=1.1.4->ultralytics) (2024.2)\n",
      "Requirement already satisfied: charset-normalizer<4,>=2 in c:\\users\\oscar\\appdata\\local\\programs\\python\\python312\\lib\\site-packages (from requests>=2.23.0->ultralytics) (3.4.1)\n",
      "Requirement already satisfied: idna<4,>=2.5 in c:\\users\\oscar\\appdata\\local\\programs\\python\\python312\\lib\\site-packages (from requests>=2.23.0->ultralytics) (3.10)\n",
      "Requirement already satisfied: urllib3<3,>=1.21.1 in c:\\users\\oscar\\appdata\\local\\programs\\python\\python312\\lib\\site-packages (from requests>=2.23.0->ultralytics) (2.3.0)\n",
      "Requirement already satisfied: certifi>=2017.4.17 in c:\\users\\oscar\\appdata\\local\\programs\\python\\python312\\lib\\site-packages (from requests>=2.23.0->ultralytics) (2024.12.14)\n",
      "Requirement already satisfied: filelock in c:\\users\\oscar\\appdata\\local\\programs\\python\\python312\\lib\\site-packages (from torch>=1.8.0->ultralytics) (3.16.1)\n",
      "Requirement already satisfied: typing-extensions>=4.10.0 in c:\\users\\oscar\\appdata\\local\\programs\\python\\python312\\lib\\site-packages (from torch>=1.8.0->ultralytics) (4.12.2)\n",
      "Requirement already satisfied: sympy>=1.13.3 in c:\\users\\oscar\\appdata\\local\\programs\\python\\python312\\lib\\site-packages (from torch>=1.8.0->ultralytics) (1.13.3)\n",
      "Requirement already satisfied: networkx in c:\\users\\oscar\\appdata\\local\\programs\\python\\python312\\lib\\site-packages (from torch>=1.8.0->ultralytics) (3.4.2)\n",
      "Requirement already satisfied: jinja2 in c:\\users\\oscar\\appdata\\local\\programs\\python\\python312\\lib\\site-packages (from torch>=1.8.0->ultralytics) (3.1.5)\n",
      "Requirement already satisfied: fsspec in c:\\users\\oscar\\appdata\\local\\programs\\python\\python312\\lib\\site-packages (from torch>=1.8.0->ultralytics) (2024.12.0)\n",
      "Requirement already satisfied: setuptools in c:\\users\\oscar\\appdata\\local\\programs\\python\\python312\\lib\\site-packages (from torch>=1.8.0->ultralytics) (75.8.0)\n",
      "Requirement already satisfied: colorama in c:\\users\\oscar\\appdata\\local\\programs\\python\\python312\\lib\\site-packages (from tqdm>=4.64.0->ultralytics) (0.4.6)\n",
      "Requirement already satisfied: six>=1.5 in c:\\users\\oscar\\appdata\\roaming\\python\\python312\\site-packages (from python-dateutil>=2.7->matplotlib>=3.3.0->ultralytics) (1.17.0)\n",
      "Requirement already satisfied: mpmath<1.4,>=1.1.0 in c:\\users\\oscar\\appdata\\local\\programs\\python\\python312\\lib\\site-packages (from sympy>=1.13.3->torch>=1.8.0->ultralytics) (1.3.0)\n",
      "Requirement already satisfied: MarkupSafe>=2.0 in c:\\users\\oscar\\appdata\\local\\programs\\python\\python312\\lib\\site-packages (from jinja2->torch>=1.8.0->ultralytics) (3.0.2)\n",
      "Note: you may need to restart the kernel to use updated packages.\n"
     ]
    },
    {
     "name": "stderr",
     "output_type": "stream",
     "text": [
      "DEPRECATION: Loading egg at c:\\users\\oscar\\appdata\\local\\programs\\python\\python312\\lib\\site-packages\\jwcrypto-1.5.6-py3.12.egg is deprecated. pip 25.1 will enforce this behaviour change. A possible replacement is to use pip for package installation. Discussion can be found at https://github.com/pypa/pip/issues/12330\n",
      "DEPRECATION: Loading egg at c:\\users\\oscar\\appdata\\local\\programs\\python\\python312\\lib\\site-packages\\redis-6.2.0-py3.12.egg is deprecated. pip 25.1 will enforce this behaviour change. A possible replacement is to use pip for package installation. Discussion can be found at https://github.com/pypa/pip/issues/12330\n",
      "DEPRECATION: Loading egg at c:\\users\\oscar\\appdata\\local\\programs\\python\\python312\\lib\\site-packages\\websockify-0.13.0-py3.12.egg is deprecated. pip 25.1 will enforce this behaviour change. A possible replacement is to use pip for package installation. Discussion can be found at https://github.com/pypa/pip/issues/12330\n",
      "\n",
      "[notice] A new release of pip is available: 24.3.1 -> 25.2\n",
      "[notice] To update, run: python.exe -m pip install --upgrade pip\n"
     ]
    }
   ],
   "source": [
    "pip install ultralytics"
   ]
  },
  {
   "cell_type": "code",
   "execution_count": 1,
   "id": "47051ff9",
   "metadata": {},
   "outputs": [],
   "source": [
    "import cv2\n",
    "from ultralytics import YOLO\n",
    "import numpy as np\n",
    "import matplotlib.pyplot as plt"
   ]
  },
  {
   "cell_type": "code",
   "execution_count": 3,
   "id": "009b66de",
   "metadata": {},
   "outputs": [
    {
     "name": "stdout",
     "output_type": "stream",
     "text": [
      "Collecting roboflow\n",
      "  Downloading roboflow-1.2.9-py3-none-any.whl.metadata (9.7 kB)\n",
      "Requirement already satisfied: certifi in c:\\users\\username\\appdata\\local\\programs\\python\\python313\\lib\\site-packages (from roboflow) (2025.8.3)\n",
      "Collecting idna==3.7 (from roboflow)\n",
      "  Downloading idna-3.7-py3-none-any.whl.metadata (9.9 kB)\n",
      "Requirement already satisfied: cycler in c:\\users\\username\\appdata\\local\\programs\\python\\python313\\lib\\site-packages (from roboflow) (0.12.1)\n",
      "Requirement already satisfied: kiwisolver>=1.3.1 in c:\\users\\username\\appdata\\local\\programs\\python\\python313\\lib\\site-packages (from roboflow) (1.4.9)\n",
      "Requirement already satisfied: matplotlib in c:\\users\\username\\appdata\\local\\programs\\python\\python313\\lib\\site-packages (from roboflow) (3.10.6)\n",
      "Requirement already satisfied: numpy>=1.18.5 in c:\\users\\username\\appdata\\local\\programs\\python\\python313\\lib\\site-packages (from roboflow) (2.2.6)\n",
      "Collecting opencv-python-headless==4.10.0.84 (from roboflow)\n",
      "  Downloading opencv_python_headless-4.10.0.84-cp37-abi3-win_amd64.whl.metadata (20 kB)\n",
      "Requirement already satisfied: Pillow>=7.1.2 in c:\\users\\username\\appdata\\local\\programs\\python\\python313\\lib\\site-packages (from roboflow) (11.3.0)\n",
      "Collecting pi-heif<2 (from roboflow)\n",
      "  Downloading pi_heif-1.1.0-cp313-cp313-win_amd64.whl.metadata (6.7 kB)\n",
      "Collecting pillow-avif-plugin<2 (from roboflow)\n",
      "  Downloading pillow_avif_plugin-1.5.2-cp313-cp313-win_amd64.whl.metadata (2.2 kB)\n",
      "Requirement already satisfied: python-dateutil in c:\\users\\username\\appdata\\local\\programs\\python\\python313\\lib\\site-packages (from roboflow) (2.9.0.post0)\n",
      "Collecting python-dotenv (from roboflow)\n",
      "  Downloading python_dotenv-1.1.1-py3-none-any.whl.metadata (24 kB)\n",
      "Requirement already satisfied: requests in c:\\users\\username\\appdata\\local\\programs\\python\\python313\\lib\\site-packages (from roboflow) (2.32.5)\n",
      "Requirement already satisfied: six in c:\\users\\username\\appdata\\local\\programs\\python\\python313\\lib\\site-packages (from roboflow) (1.17.0)\n",
      "Requirement already satisfied: urllib3>=1.26.6 in c:\\users\\username\\appdata\\local\\programs\\python\\python313\\lib\\site-packages (from roboflow) (2.5.0)\n",
      "Collecting tqdm>=4.41.0 (from roboflow)\n",
      "  Downloading tqdm-4.67.1-py3-none-any.whl.metadata (57 kB)\n",
      "Requirement already satisfied: PyYAML>=5.3.1 in c:\\users\\username\\appdata\\local\\programs\\python\\python313\\lib\\site-packages (from roboflow) (6.0.2)\n",
      "Collecting requests-toolbelt (from roboflow)\n",
      "  Downloading requests_toolbelt-1.0.0-py2.py3-none-any.whl.metadata (14 kB)\n",
      "Collecting filetype (from roboflow)\n",
      "  Downloading filetype-1.2.0-py2.py3-none-any.whl.metadata (6.5 kB)\n",
      "Requirement already satisfied: colorama in c:\\users\\username\\appdata\\local\\programs\\python\\python313\\lib\\site-packages (from tqdm>=4.41.0->roboflow) (0.4.6)\n",
      "Requirement already satisfied: contourpy>=1.0.1 in c:\\users\\username\\appdata\\local\\programs\\python\\python313\\lib\\site-packages (from matplotlib->roboflow) (1.3.3)\n",
      "Requirement already satisfied: fonttools>=4.22.0 in c:\\users\\username\\appdata\\local\\programs\\python\\python313\\lib\\site-packages (from matplotlib->roboflow) (4.59.2)\n",
      "Requirement already satisfied: packaging>=20.0 in c:\\users\\username\\appdata\\local\\programs\\python\\python313\\lib\\site-packages (from matplotlib->roboflow) (25.0)\n",
      "Requirement already satisfied: pyparsing>=2.3.1 in c:\\users\\username\\appdata\\local\\programs\\python\\python313\\lib\\site-packages (from matplotlib->roboflow) (3.2.3)\n",
      "Requirement already satisfied: charset_normalizer<4,>=2 in c:\\users\\username\\appdata\\local\\programs\\python\\python313\\lib\\site-packages (from requests->roboflow) (3.4.3)\n",
      "Downloading roboflow-1.2.9-py3-none-any.whl (88 kB)\n",
      "Downloading idna-3.7-py3-none-any.whl (66 kB)\n",
      "Downloading opencv_python_headless-4.10.0.84-cp37-abi3-win_amd64.whl (38.8 MB)\n",
      "   ---------------------------------------- 0.0/38.8 MB ? eta -:--:--\n",
      "   ---------------------------------------- 0.0/38.8 MB ? eta -:--:--\n",
      "   ---------------------------------------- 0.3/38.8 MB ? eta -:--:--\n",
      "    --------------------------------------- 0.8/38.8 MB 2.2 MB/s eta 0:00:18\n",
      "   -- ------------------------------------- 2.1/38.8 MB 3.2 MB/s eta 0:00:12\n",
      "   ---- ----------------------------------- 4.2/38.8 MB 5.2 MB/s eta 0:00:07\n",
      "   ---------- ----------------------------- 9.7/38.8 MB 9.6 MB/s eta 0:00:04\n",
      "   ---------- ----------------------------- 10.2/38.8 MB 10.0 MB/s eta 0:00:03\n",
      "   --------------- ------------------------ 14.7/38.8 MB 10.5 MB/s eta 0:00:03\n",
      "   --------------- ------------------------ 14.7/38.8 MB 10.5 MB/s eta 0:00:03\n",
      "   --------------- ------------------------ 14.9/38.8 MB 9.0 MB/s eta 0:00:03\n",
      "   --------------- ------------------------ 15.5/38.8 MB 8.0 MB/s eta 0:00:03\n",
      "   ------------------ --------------------- 17.8/38.8 MB 8.2 MB/s eta 0:00:03\n",
      "   -------------------- ------------------- 19.4/38.8 MB 8.0 MB/s eta 0:00:03\n",
      "   --------------------- ------------------ 21.2/38.8 MB 8.2 MB/s eta 0:00:03\n",
      "   ---------------------- ----------------- 22.3/38.8 MB 7.8 MB/s eta 0:00:03\n",
      "   ----------------------- ---------------- 23.1/38.8 MB 8.1 MB/s eta 0:00:02\n",
      "   ----------------------- ---------------- 23.1/38.8 MB 8.1 MB/s eta 0:00:02\n",
      "   ----------------------- ---------------- 23.1/38.8 MB 8.1 MB/s eta 0:00:02\n",
      "   ----------------------- ---------------- 23.1/38.8 MB 8.1 MB/s eta 0:00:02\n",
      "   ----------------------- ---------------- 23.1/38.8 MB 8.1 MB/s eta 0:00:02\n",
      "   ----------------------- ---------------- 23.1/38.8 MB 8.1 MB/s eta 0:00:02\n",
      "   ----------------------- ---------------- 23.1/38.8 MB 8.1 MB/s eta 0:00:02\n",
      "   ----------------------- ---------------- 23.1/38.8 MB 8.1 MB/s eta 0:00:02\n",
      "   ----------------------- ---------------- 23.1/38.8 MB 8.1 MB/s eta 0:00:02\n",
      "   ----------------------- ---------------- 23.1/38.8 MB 8.1 MB/s eta 0:00:02\n",
      "   ------------------------ --------------- 23.3/38.8 MB 4.7 MB/s eta 0:00:04\n",
      "   ------------------------ --------------- 23.3/38.8 MB 4.7 MB/s eta 0:00:04\n",
      "   ------------------------ --------------- 23.6/38.8 MB 4.4 MB/s eta 0:00:04\n",
      "   ------------------------ --------------- 24.1/38.8 MB 4.3 MB/s eta 0:00:04\n",
      "   ------------------------- -------------- 24.4/38.8 MB 4.2 MB/s eta 0:00:04\n",
      "   ------------------------- -------------- 25.2/38.8 MB 4.1 MB/s eta 0:00:04\n",
      "   --------------------------- ------------ 26.5/38.8 MB 4.2 MB/s eta 0:00:03\n",
      "   --------------------------- ------------ 27.0/38.8 MB 4.1 MB/s eta 0:00:03\n",
      "   ---------------------------- ----------- 27.8/38.8 MB 4.1 MB/s eta 0:00:03\n",
      "   ----------------------------- ---------- 28.6/38.8 MB 4.1 MB/s eta 0:00:03\n",
      "   ------------------------------ --------- 29.4/38.8 MB 4.1 MB/s eta 0:00:03\n",
      "   ------------------------------ --------- 29.9/38.8 MB 4.1 MB/s eta 0:00:03\n",
      "   ------------------------------- -------- 30.7/38.8 MB 4.1 MB/s eta 0:00:02\n",
      "   -------------------------------- ------- 31.2/38.8 MB 4.0 MB/s eta 0:00:02\n",
      "   -------------------------------- ------- 31.5/38.8 MB 4.0 MB/s eta 0:00:02\n",
      "   --------------------------------- ------ 32.0/38.8 MB 4.0 MB/s eta 0:00:02\n",
      "   --------------------------------- ------ 32.2/38.8 MB 3.9 MB/s eta 0:00:02\n",
      "   --------------------------------- ------ 32.5/38.8 MB 3.8 MB/s eta 0:00:02\n",
      "   --------------------------------- ------ 32.8/38.8 MB 3.8 MB/s eta 0:00:02\n",
      "   ----------------------------------- ---- 34.1/38.8 MB 3.8 MB/s eta 0:00:02\n",
      "   ---------------------------------------  38.5/38.8 MB 4.2 MB/s eta 0:00:01\n",
      "   ---------------------------------------- 38.8/38.8 MB 4.2 MB/s  0:00:09\n",
      "Downloading pi_heif-1.1.0-cp313-cp313-win_amd64.whl (1.9 MB)\n",
      "   ---------------------------------------- 0.0/1.9 MB ? eta -:--:--\n",
      "   ---------------------------------------- 1.9/1.9 MB 23.0 MB/s  0:00:00\n",
      "Downloading pillow_avif_plugin-1.5.2-cp313-cp313-win_amd64.whl (9.9 MB)\n",
      "   ---------------------------------------- 0.0/9.9 MB ? eta -:--:--\n",
      "   ------ --------------------------------- 1.6/9.9 MB 28.7 MB/s eta 0:00:01\n",
      "   --------------------- ------------------ 5.2/9.9 MB 16.8 MB/s eta 0:00:01\n",
      "   ---------------------------------- ----- 8.4/9.9 MB 14.0 MB/s eta 0:00:01\n",
      "   ------------------------------------- -- 9.2/9.9 MB 11.5 MB/s eta 0:00:01\n",
      "   -------------------------------------- - 9.4/9.9 MB 10.4 MB/s eta 0:00:01\n",
      "   ---------------------------------------- 9.9/9.9 MB 8.1 MB/s  0:00:01\n",
      "Downloading tqdm-4.67.1-py3-none-any.whl (78 kB)\n",
      "Downloading filetype-1.2.0-py2.py3-none-any.whl (19 kB)\n",
      "Downloading python_dotenv-1.1.1-py3-none-any.whl (20 kB)\n",
      "Downloading requests_toolbelt-1.0.0-py2.py3-none-any.whl (54 kB)\n",
      "Installing collected packages: pillow-avif-plugin, filetype, tqdm, python-dotenv, pi-heif, opencv-python-headless, idna, requests-toolbelt, roboflow\n",
      "\n",
      "   ---- ----------------------------------- 1/9 [filetype]\n",
      "   ---- ----------------------------------- 1/9 [filetype]\n",
      "   -------- ------------------------------- 2/9 [tqdm]\n",
      "   -------- ------------------------------- 2/9 [tqdm]\n",
      "   ------------- -------------------------- 3/9 [python-dotenv]\n",
      "   ----------------- ---------------------- 4/9 [pi-heif]\n",
      "   ---------------------- ----------------- 5/9 [opencv-python-headless]\n",
      "\n",
      "Note: you may need to restart the kernel to use updated packages.\n"
     ]
    },
    {
     "name": "stderr",
     "output_type": "stream",
     "text": [
      "ERROR: Could not install packages due to an OSError: [WinError 5] Access is denied: 'c:\\\\Users\\\\Username\\\\AppData\\\\Local\\\\Programs\\\\Python\\\\Python313\\\\Lib\\\\site-packages\\\\cv2\\\\cv2.pyd'\n",
      "Consider using the `--user` option or check the permissions.\n",
      "\n"
     ]
    }
   ],
   "source": [
    "pip install roboflow"
   ]
  },
  {
   "cell_type": "code",
   "execution_count": 11,
   "id": "bb7f107f",
   "metadata": {},
   "outputs": [
    {
     "name": "stdout",
     "output_type": "stream",
     "text": [
      "Python executable: c:\\Users\\Username\\AppData\\Local\\Programs\\Python\\Python313\\python.exe\n",
      "Python version: 3.13.7 (tags/v3.13.7:bcee1c3, Aug 14 2025, 14:15:11) [MSC v.1944 64 bit (AMD64)]\n"
     ]
    }
   ],
   "source": [
    "import sys\n",
    "print(\"Python executable:\", sys.executable)\n",
    "print(\"Python version:\", sys.version)"
   ]
  },
  {
   "cell_type": "code",
   "execution_count": 7,
   "id": "d794b52b",
   "metadata": {},
   "outputs": [],
   "source": [
    "model = YOLO(\"yolov8s.pt\")"
   ]
  },
  {
   "cell_type": "code",
   "execution_count": 8,
   "id": "f911c83a",
   "metadata": {},
   "outputs": [
    {
     "name": "stdout",
     "output_type": "stream",
     "text": [
      "\n",
      "image 1/1 c:\\Users\\Username\\Documents\\GitHub\\dspCPE4A2526\\dspPython\\activity8\\ball.webp: 480x640 1 sports ball, 100.1ms\n",
      "Speed: 2.3ms preprocess, 100.1ms inference, 1.1ms postprocess per image at shape (1, 3, 480, 640)\n"
     ]
    }
   ],
   "source": [
    "# Path to your test image (change this to your own image path)\n",
    "image_path = \"ball.webp\"\n",
    "\n",
    "# Run detection\n",
    "results = model(image_path, conf=0.5)  # confidence threshold 50%\n",
    "\n",
    "# results[0] contains detections for the first (and only) image\n",
    "results[0].show()   # OpenCV popup (if supported)"
   ]
  },
  {
   "cell_type": "code",
   "execution_count": 11,
   "id": "e07d2db0",
   "metadata": {},
   "outputs": [],
   "source": [
    "import cv2\n",
    "from ultralytics import YOLO\n",
    "\n",
    "model = YOLO(\"yolov8s.pt\") \n",
    "cap = cv2.VideoCapture(1)\n",
    "\n",
    "while True:\n",
    "    ret, frame = cap.read()\n",
    "    if not ret:\n",
    "        break\n",
    "\n",
    "    results = model(frame, conf=0.4)\n",
    "    boxes = results[0].boxes\n",
    "    names = model.names\n",
    "    \n",
    "    if boxes is not None:\n",
    "        for box in boxes:\n",
    "            cls = int(box.cls[0])\n",
    "            if names[cls] == \"sports ball\":\n",
    "                x1, y1, x2, y2 = box.xyxy[0].cpu().numpy()\n",
    "                conf = float(box.conf[0])\n",
    "                cv2.rectangle(frame, (int(x1), int(y1)), (int(x2), int(y2)), (0, 255, 0), 2)\n",
    "                label = f\"Ball {conf:.2f}\"\n",
    "                cv2.putText(frame, label, (int(x1), int(y1) - 10), cv2.FONT_HERSHEY_SIMPLEX, 0.7, (0, 255, 0), 2)\n",
    "\n",
    "    cv2.imshow(\"Ball Detection\", frame)\n",
    "\n",
    "    if cv2.waitKey(1) & 0xFF == ord(\"q\"):\n",
    "        break\n",
    "\n",
    "cap.release()\n",
    "cv2.destroyAllWindows()"
   ]
  },
  {
   "cell_type": "code",
   "execution_count": 12,
   "id": "7a02660e",
   "metadata": {},
   "outputs": [
    {
     "name": "stdout",
     "output_type": "stream",
     "text": [
      "\n",
      "image 1/1 c:\\Users\\Username\\Documents\\GitHub\\dspCPE4A2526\\dspPython\\activity8\\ball.webp: 480x640 1 sports ball, 93.5ms\n",
      "Speed: 1.6ms preprocess, 93.5ms inference, 0.9ms postprocess per image at shape (1, 3, 480, 640)\n",
      "Detected 1 ball(s).\n"
     ]
    }
   ],
   "source": [
    "# Path to your image\n",
    "image_path = \"ball.webp\"\n",
    "\n",
    "# Run detection\n",
    "results = model(image_path, conf=0.5)\n",
    "\n",
    "# Get detection results for first (and only) image\n",
    "boxes = results[0].boxes\n",
    "names = model.names  # class names (COCO dataset: 'ball' is typically class 32)\n",
    "\n",
    "# Filter only \"ball\" detections\n",
    "ball_boxes = []\n",
    "for box in boxes:\n",
    "    cls = int(box.cls[0])\n",
    "    if names[cls] == \"sports ball\":  # COCO class name for ball is \"sports ball\"\n",
    "        ball_boxes.append(box)\n",
    "\n",
    "print(f\"Detected {len(ball_boxes)} ball(s).\")"
   ]
  },
  {
   "cell_type": "code",
   "execution_count": 14,
   "id": "7f58faf4",
   "metadata": {},
   "outputs": [],
   "source": [
    "img = cv2.imread(image_path)\n",
    "\n",
    "# Draw only ball detections\n",
    "for box in boxes:\n",
    "    cls = int(box.cls[0])\n",
    "    if names[cls] == \"sports ball\":  \n",
    "        x1, y1, x2, y2 = box.xyxy[0].cpu().numpy()\n",
    "        conf = float(box.conf[0])\n",
    "        label = f\"Ball {conf:.2f}\"  \n",
    "\n",
    "        cv2.rectangle(img, (int(x1), int(y1)), (int(x2), int(y2)), (0, 255, 0), 2)\n",
    "        cv2.putText(img, label, (int(x1), int(y1) - 10),\n",
    "                    cv2.FONT_HERSHEY_SIMPLEX, 0.7, (0, 255, 0), 2)\n",
    "\n",
    "# Show in OpenCV window\n",
    "cv2.imshow(\"Ball Detection\", img)  # Changed window title\n",
    "cv2.waitKey(0)\n",
    "cv2.destroyAllWindows()"
   ]
  }
 ],
 "metadata": {
  "kernelspec": {
   "display_name": "Python 3",
   "language": "python",
   "name": "python3"
  },
  "language_info": {
   "codemirror_mode": {
    "name": "ipython",
    "version": 3
   },
   "file_extension": ".py",
   "mimetype": "text/x-python",
   "name": "python",
   "nbconvert_exporter": "python",
   "pygments_lexer": "ipython3",
   "version": "3.13.7"
  }
 },
 "nbformat": 4,
 "nbformat_minor": 5
}

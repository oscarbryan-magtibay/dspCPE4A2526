{
 "cells": [
  {
   "cell_type": "code",
   "execution_count": 1,
   "id": "e688c07d",
   "metadata": {},
   "outputs": [
    {
     "name": "stdout",
     "output_type": "stream",
     "text": [
      "Answer for Addition: [7, 13, 17, 26, 37, 49, 61]\n"
     ]
    }
   ],
   "source": [
    "#For SEQUENCE ADDITION\n",
    "xn = [3, 7, 9, 16, 25, 35, 45]\n",
    "yn = [4, 6, 8, 10, 12, 14, 16,]\n",
    "wn = []\n",
    "\n",
    "def additionProduct(xn, yn):\n",
    "    for n in range(len(xn)):\n",
    "        w = xn[n] + yn[n]\n",
    "        wn.append(w)\n",
    "    return wn\n",
    "wn = additionProduct(xn, yn)\n",
    "print(\"Answer for Addition:\", wn)"
   ]
  },
  {
   "cell_type": "code",
   "execution_count": 2,
   "id": "d21e3edf",
   "metadata": {},
   "outputs": [
    {
     "name": "stdout",
     "output_type": "stream",
     "text": [
      "Answer for Modulation: [12, 42, 72, 160, 300, 490, 720]\n"
     ]
    }
   ],
   "source": [
    "#For SEQUENCE MODULATION\n",
    "xn = [3, 7, 9, 16, 25, 35, 45]\n",
    "yn = [4, 6, 8, 10, 12, 14, 16,]\n",
    "wn = []\n",
    "\n",
    "def modulationProduct(xn, yn):\n",
    "    for n in range(len(xn)):\n",
    "        w = xn[n] * yn[n]\n",
    "        wn.append(w)\n",
    "    return wn\n",
    "wn = modulationProduct(xn, yn)\n",
    "print(\"Answer for Modulation:\", wn)"
   ]
  },
  {
   "cell_type": "code",
   "execution_count": 3,
   "id": "e7db4e98",
   "metadata": {},
   "outputs": [
    {
     "name": "stdout",
     "output_type": "stream",
     "text": [
      "Answer for Scalar: [15, 35, 45, 80, 125, 175, 225]\n"
     ]
    }
   ],
   "source": [
    "#For SEQUENCE SCALAR\n",
    "xn = [3, 7, 9, 16, 25, 35, 45]\n",
    "A = 5\n",
    "wn = []\n",
    "\n",
    "def scalarProduct(A, xn):\n",
    "    for w in xn:\n",
    "        w = A * w\n",
    "        wn.append(w)\n",
    "    return wn\n",
    "        \n",
    "wn = scalarProduct(A, xn)\n",
    "print(\"Answer for Scalar:\", wn)"
   ]
  },
  {
   "cell_type": "code",
   "execution_count": 4,
   "id": "7d78f66a",
   "metadata": {},
   "outputs": [
    {
     "name": "stdout",
     "output_type": "stream",
     "text": [
      "Answer for Time Shift: [5, 5, 5, 5, 5, 3, 7, 9, 16, 25, 35, 45]\n"
     ]
    }
   ],
   "source": [
    "# For TIME SHIFT\n",
    "xn = [3, 7, 9, 16, 25, 35, 45]\n",
    "a = 5  \n",
    "wn = []\n",
    "\n",
    "def timeShiftProduct(xn, a):\n",
    "    for n in range(a):\n",
    "        wn.append(5) \n",
    "    for w in xn:\n",
    "        wn.append(w)\n",
    "    return wn\n",
    "\n",
    "wn = timeShiftProduct(xn, a)\n",
    "print(\"Answer for Time Shift:\", wn)"
   ]
  }
 ],
 "metadata": {
  "kernelspec": {
   "display_name": "Python 3",
   "language": "python",
   "name": "python3"
  },
  "language_info": {
   "codemirror_mode": {
    "name": "ipython",
    "version": 3
   },
   "file_extension": ".py",
   "mimetype": "text/x-python",
   "name": "python",
   "nbconvert_exporter": "python",
   "pygments_lexer": "ipython3",
   "version": "3.13.1"
  }
 },
 "nbformat": 4,
 "nbformat_minor": 5
}

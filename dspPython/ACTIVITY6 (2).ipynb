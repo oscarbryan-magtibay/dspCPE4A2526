{
 "cells": [
  {
   "cell_type": "code",
   "execution_count": 2,
   "id": "b07c5148",
   "metadata": {},
   "outputs": [
    {
     "name": "stdout",
     "output_type": "stream",
     "text": [
      "Modulation Product: [10, 40, 90, 160, 250]\n"
     ]
    }
   ],
   "source": [
    "#SEQUENCE OPERATION: MODULATION\n",
    "\n",
    "xn = [1, 2, 3, 4, 5]\n",
    "yn = [10, 20, 30, 40, 50]\n",
    "def modulation(x, y):\n",
    "    wn = []  \n",
    "    for i in range(len(x)):\n",
    "        wn.append(x[i] * y[i])\n",
    "    return wn\n",
    "wn = modulation(xn, yn)\n",
    "print(\"Modulation Product:\", wn)\n"
   ]
  },
  {
   "cell_type": "code",
   "execution_count": 19,
   "id": "0aea8312",
   "metadata": {},
   "outputs": [
    {
     "name": "stdout",
     "output_type": "stream",
     "text": [
      "Addition Product: [11, 22, 33, 44, 55]\n"
     ]
    }
   ],
   "source": [
    "#SEQUENCE OPERATION: ADDITION\n",
    "\n",
    "xn = [1, 2, 3, 4, 5]\n",
    "yn = [10, 20, 30, 40, 50]\n",
    "\n",
    "def addition(x, y):\n",
    "    return [x[i] + y[i] for i in range(len(x))]\n",
    "\n",
    "wn = addition(xn, yn)\n",
    "print(\"Addition Product:\", wn)\n"
   ]
  },
  {
   "cell_type": "code",
   "execution_count": 21,
   "id": "a7d289fd",
   "metadata": {},
   "outputs": [
    {
     "name": "stdout",
     "output_type": "stream",
     "text": [
      "The scalar product is: [4, 8, 12, 16, 20]\n"
     ]
    }
   ],
   "source": [
    "#SCALAR MULTIPLICATION\n",
    "\n",
    "xn = [1, 2, 3, 4, 5]\n",
    "a = 4 \n",
    "def scalarProduct(a, xn):\n",
    "    wn = []\n",
    "    for n in range(len(xn)):\n",
    "        wn.append(a * xn[n])\n",
    "    return wn\n",
    "wn = scalarProduct(a, xn)\n",
    "print(\"The scalar product is:\", wn)\n"
   ]
  },
  {
   "cell_type": "code",
   "execution_count": 22,
   "id": "d43e9a6c",
   "metadata": {},
   "outputs": [
    {
     "name": "stdout",
     "output_type": "stream",
     "text": [
      "The time shift product is: [0, 0, 5, 10, 15, 20, 25, 30]\n"
     ]
    }
   ],
   "source": [
    "#SEQUENCE OPERATION: TIME SHIFT\n",
    " \n",
    "xn = [5, 10, 15, 20, 25, 30,]\n",
    "a = 2   # number of delay steps\n",
    "def timeShift(xn, a):\n",
    "    wn = []\n",
    "    for n in range(a):\n",
    "        wn.append(0)\n",
    "    for n in xn:\n",
    "        wn.append(n)\n",
    "    return wn\n",
    "wn = timeShift(xn, a)\n",
    "print(\"The time shift product is:\", wn)\n"
   ]
  }
 ],
 "metadata": {
  "kernelspec": {
   "display_name": "Python 3",
   "language": "python",
   "name": "python3"
  },
  "language_info": {
   "codemirror_mode": {
    "name": "ipython",
    "version": 3
   },
   "file_extension": ".py",
   "mimetype": "text/x-python",
   "name": "python",
   "nbconvert_exporter": "python",
   "pygments_lexer": "ipython3",
   "version": "3.13.6"
  }
 },
 "nbformat": 4,
 "nbformat_minor": 5
}

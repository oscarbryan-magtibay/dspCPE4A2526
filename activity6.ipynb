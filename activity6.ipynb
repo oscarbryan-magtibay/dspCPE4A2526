{
 "cells": [
  {
   "cell_type": "code",
   "execution_count": 103,
   "id": "ee3387e2",
   "metadata": {},
   "outputs": [
    {
     "name": "stdout",
     "output_type": "stream",
     "text": [
      "xn: [1, 3, 5, 7, 6, 9, 11, 13]\n",
      "yn: [3, 8, 4, 6, 9, 7, 0]\n",
      "Original Index of x: -4\n",
      "Original Index of y: -3\n",
      "\n",
      "Product:\n",
      " [0, 9, 40, 28, 36, 81, 77, 0]\n"
     ]
    }
   ],
   "source": [
    "#MODULATION\n",
    "\n",
    "xn = [1, 3, 5, 7, 6, 9, 11, 13]\n",
    "yn = [3, 8, 4, 6, 9, 7, 0]\n",
    "oix = -4  # Origin index of xn\n",
    "oiy = -3  # Origin index of yn\n",
    "\n",
    "def multiplicationFunction(xn, oix, yn, oiy):\n",
    "    start = min(oix, oiy)\n",
    "    end = max(oix + len(xn), oiy + len(yn))\n",
    "    \n",
    "    result = []\n",
    "\n",
    "    for n in range(start, end):\n",
    "        valuex = xn[n - oix] if oix <= n < oix + len(xn) else 0\n",
    "        valuey = yn[n - oiy] if oiy <= n < oiy + len(yn) else 0\n",
    "        result.append(valuex * valuey)\n",
    "    return result\n",
    "\n",
    "product_result = multiplicationFunction(xn, oix, yn, oiy)\n",
    "\n",
    "print(\"xn:\", xn)\n",
    "print(\"yn:\", yn)\n",
    "print(\"Original Index of x:\", oix)\n",
    "print(\"Original Index of y:\", oiy)\n",
    "print(\"\\nProduct:\\n\", product_result)\n"
   ]
  },
  {
   "cell_type": "code",
   "execution_count": 102,
   "id": "8ed9833a",
   "metadata": {},
   "outputs": [
    {
     "name": "stdout",
     "output_type": "stream",
     "text": [
      "xn: [1, 3, 5, 7, 6, 9, 11, 13]\n",
      "yn: [3, 8, 4, 6, 9, 7, 0]\n",
      "Original Index of x: -4\n",
      "Original Index of y: -3\n",
      "\n",
      "Sum:\n",
      " [1, 6, 13, 11, 12, 18, 18, 13]\n"
     ]
    }
   ],
   "source": [
    "#ADDITION\n",
    "\n",
    "xn = [1, 3, 5, 7, 6, 9, 11, 13]\n",
    "yn = [3, 8, 4, 6, 9, 7, 0]\n",
    "oix = -4  # Origin index of xn\n",
    "oiy = -3  # Origin index of yn\n",
    "\n",
    "def additionFunction(xn, oix, yn, oiy):\n",
    "    start = min(oix, oiy)\n",
    "    end = max(oix + len(xn), oiy + len(yn))\n",
    "    \n",
    "    result = []\n",
    "\n",
    "    for n in range(start, end):\n",
    "        valuex = xn[n - oix] if oix <= n < oix + len(xn) else 0\n",
    "        valuey = yn[n - oiy] if oiy <= n < oiy + len(yn) else 0\n",
    "        result.append(valuex + valuey)\n",
    "    return result\n",
    "\n",
    "sum_result = additionFunction(xn, oix, yn, oiy)\n",
    "\n",
    "print(\"xn:\", xn)\n",
    "print(\"yn:\", yn)\n",
    "print(\"Original Index of x:\", oix)\n",
    "print(\"Original Index of y:\", oiy)\n",
    "print(\"\\nSum:\\n\", sum_result)"
   ]
  },
  {
   "cell_type": "code",
   "execution_count": null,
   "id": "efe28cb6",
   "metadata": {},
   "outputs": [
    {
     "name": "stdout",
     "output_type": "stream",
     "text": [
      "xn: [1, 3, 5, 7, 6, 9, 11, 13]\n",
      "a: 11\n",
      "\n",
      "Scalar Product:\n",
      " [11, 33, 55, 77, 66, 99, 121, 143]\n"
     ]
    }
   ],
   "source": [
    "#SCALAR\n",
    "\n",
    "xn = [1, 3, 5, 7, 6, 9, 11, 13]\n",
    "a = 11\n",
    "wn = []\n",
    "\n",
    "def scalarProduct(a, xn):\n",
    "    for w in xn:\n",
    "        wn.append(a*w)\n",
    "    return wn\n",
    "        \n",
    "wn = scalarProduct(a, xn)\n",
    "\n",
    "print(\"xn:\", xn)\n",
    "print(\"a:\", a)\n",
    "print(\"\\nScalar Product:\\n\", wn)"
   ]
  },
  {
   "cell_type": "code",
   "execution_count": 114,
   "id": "f57f3e80",
   "metadata": {},
   "outputs": [
    {
     "name": "stdout",
     "output_type": "stream",
     "text": [
      "xn: [1, 3, 5, 7, 6, 9, 11, 13]\n",
      "Delay: 3\n",
      "\n",
      "Time Shift Result:\n",
      " [0, 0, 0, 1, 3, 5, 7, 6, 9, 11, 13]\n"
     ]
    }
   ],
   "source": [
    "# TIME SHIFT\n",
    "\n",
    "xn = [1, 3, 5, 7, 6, 9, 11, 13]\n",
    "a = 3     # delay\n",
    "wn = []\n",
    "\n",
    "def timeShiftProduct(xn, a):\n",
    "    return [0] * a + xn     # insert 0 for each delay in xn\n",
    "\n",
    "wn = timeShiftProduct(xn, a)\n",
    "\n",
    "print(\"xn:\", xn)\n",
    "print(\"Delay:\", a)\n",
    "print(\"\\nTime Shift Result:\\n\", wn)"
   ]
  }
 ],
 "metadata": {
  "kernelspec": {
   "display_name": "Python 3",
   "language": "python",
   "name": "python3"
  },
  "language_info": {
   "codemirror_mode": {
    "name": "ipython",
    "version": 3
   },
   "file_extension": ".py",
   "mimetype": "text/x-python",
   "name": "python",
   "nbconvert_exporter": "python",
   "pygments_lexer": "ipython3",
   "version": "3.11.9"
  }
 },
 "nbformat": 4,
 "nbformat_minor": 5
}

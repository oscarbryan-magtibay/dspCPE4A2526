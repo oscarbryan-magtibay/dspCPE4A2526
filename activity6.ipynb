{
 "cells": [
  {
   "cell_type": "code",
   "execution_count": null,
   "id": "072a5930",
   "metadata": {},
   "outputs": [
    {
     "name": "stdout",
     "output_type": "stream",
     "text": [
      "Final aligned sequences:\n",
      "origin of xn: 2\n",
      "origin of yn: 2\n",
      "xn: [1, 2, 3, 0, 0, 0]\n",
      "yn: [0, 1, 2, 3, 4, 5]\n"
     ]
    }
   ],
   "source": [
    "#ALLIGNMENT using Modulation formula wn = xn * yn\n",
    "xn = list(map(int, input(\"Enter sequence xn (comma-separated): \").split(\",\")))\n",
    "yn = list(map(int, input(\"Enter sequence yn (comma-separated): \").split(\",\")))\n",
    "\n",
    "origin_xn = int(input(\"Enter origin of xn: \"))\n",
    "origin_yn = int(input(\"Enter origin of yn: \"))\n",
    "\n",
    "if origin_xn > origin_yn:\n",
    "    diff = origin_xn - origin_yn\n",
    "    yn = [0]*diff + yn\n",
    "    origin_yn += diff\n",
    "elif origin_yn > origin_xn:\n",
    "    diff = origin_yn - origin_xn\n",
    "    xn = [0]*diff + xn\n",
    "    origin_xn += diff\n",
    "\n",
    "last_xn = len(xn) - origin_xn\n",
    "last_yn = len(yn) - origin_yn\n",
    "diff_last = abs(last_xn - last_yn)\n",
    "\n",
    "if last_xn > last_yn:\n",
    "    yn = yn + [0] * diff_last\n",
    "else:\n",
    "    xn = xn + [0] * diff_last\n",
    "\n",
    "print(\"Final aligned sequences:\")\n",
    "print(\"origin of xn:\", origin_xn)\n",
    "print(\"origin of yn:\", origin_yn)\n",
    "print(\"xn:\", xn)\n",
    "print(\"yn:\", yn)\n"
   ]
  },
  {
   "cell_type": "code",
   "execution_count": null,
   "id": "a938133e",
   "metadata": {},
   "outputs": [
    {
     "name": "stdout",
     "output_type": "stream",
     "text": [
      "Final aligned sequences:\n",
      "origin of xn: 4\n",
      "origin of yn: 2\n",
      "xn: [1, 2, 3, 4, 5, 6, 0, 0, 0, 0, 0]\n",
      "yn: [0, 0, 1, 2, 3, 4, 5, 6, 7, 8, 9]\n",
      "The Modulation is: [0, 0, 3, 8, 15, 24, 0, 0, 0, 0, 0]\n"
     ]
    }
   ],
   "source": [
    "#Modulation formula: wn = xn * yn\n",
    "def Modulation(xn, yn):\n",
    "    wn = []\n",
    "    for i in range(len(xn)):\n",
    "        wn.append(xn[i] * yn[i])\n",
    "    return wn\n",
    "\n",
    "xn = list(map(int, input(\"Enter xn (put comma): \").split(\",\")))\n",
    "yn = list(map(int, input(\"Enter yn (put comma): \").split(\",\")))\n",
    "\n",
    "input_origin_xn = int(input(\"Enter origin of xn: \"))\n",
    "input_origin_yn = int(input(\"Enter origin of yn: \"))\n",
    "\n",
    "xn_origin = input_origin_xn\n",
    "yn_origin = input_origin_yn\n",
    "\n",
    "if xn_origin > yn_origin:\n",
    "    zeroes = xn_origin - yn_origin\n",
    "    yn = [0] * zeroes + yn\n",
    "    yn_origin += zeroes\n",
    "elif yn_origin > xn_origin:\n",
    "    zeroes = yn_origin - xn_origin\n",
    "    xn = [0] * zeroes + xn\n",
    "    xn_origin += zeroes\n",
    "\n",
    "last_xn = len(xn) - xn_origin\n",
    "last_yn = len(yn) - yn_origin\n",
    "diff_last = abs(last_xn - last_yn)\n",
    "\n",
    "if last_xn > last_yn:\n",
    "    yn += [0] * diff_last\n",
    "else:\n",
    "    xn += [0] * diff_last\n",
    "\n",
    "wn = Modulation(xn, yn)\n",
    "\n",
    "print(\"Final aligned sequences:\")\n",
    "print(\"origin of xn:\", input_origin_xn)\n",
    "print(\"origin of yn:\", input_origin_yn)\n",
    "print(\"xn:\", xn)\n",
    "print(\"yn:\", yn)\n",
    "print(\"The Modulation is:\", wn)\n"
   ]
  },
  {
   "cell_type": "code",
   "execution_count": null,
   "id": "f46a6bce",
   "metadata": {},
   "outputs": [
    {
     "name": "stdout",
     "output_type": "stream",
     "text": [
      "Final aligned sequences:\n",
      "origin of xn: 1\n",
      "origin of yn: 2\n",
      "xn: [0, 1, 2, 3, 4, 5]\n",
      "yn: [1, 2, 3, 4, 0, 0]\n",
      "The Sum is: [1, 3, 5, 7, 4, 5]\n"
     ]
    }
   ],
   "source": [
    "#Addition formula is xn + yn\n",
    "def Modulation(xn, yn):\n",
    "    wn = []\n",
    "    for i in range(len(xn)):\n",
    "        wn.append(xn[i] + yn[i])\n",
    "    return wn\n",
    "\n",
    "xn = list(map(int, input(\"Enter xn (put comma): \").split(\",\")))\n",
    "yn = list(map(int, input(\"Enter yn (put comma): \").split(\",\")))\n",
    "\n",
    "input_origin_xn = int(input(\"Enter origin of xn: \"))\n",
    "input_origin_yn = int(input(\"Enter origin of yn: \"))\n",
    "\n",
    "xn_origin = input_origin_xn\n",
    "yn_origin = input_origin_yn\n",
    "\n",
    "if xn_origin > yn_origin:\n",
    "    zeroes = xn_origin - yn_origin\n",
    "    yn = [0] * zeroes + yn\n",
    "    yn_origin += zeroes\n",
    "elif yn_origin > xn_origin:\n",
    "    zeroes = yn_origin - xn_origin\n",
    "    xn = [0] * zeroes + xn\n",
    "    xn_origin += zeroes\n",
    "\n",
    "last_xn = len(xn) - xn_origin\n",
    "last_yn = len(yn) - yn_origin\n",
    "diff_last = abs(last_xn - last_yn)\n",
    "\n",
    "if last_xn > last_yn:\n",
    "    yn += [0] * diff_last\n",
    "else:\n",
    "    xn += [0] * diff_last\n",
    "\n",
    "wn = Modulation(xn, yn)\n",
    "\n",
    "print(\"Final aligned sequences:\")\n",
    "print(\"origin of xn:\", input_origin_xn)\n",
    "print(\"origin of yn:\", input_origin_yn)\n",
    "print(\"xn:\", xn)\n",
    "print(\"yn:\", yn)\n",
    "print(\"The Sum is:\", wn)\n"
   ]
  },
  {
   "cell_type": "code",
   "execution_count": null,
   "id": "222c0584",
   "metadata": {},
   "outputs": [
    {
     "name": "stdout",
     "output_type": "stream",
     "text": [
      "Original sequence: [1, 2, 3, 4, 5]\n",
      "Scalar A: 5\n",
      "The scalar product is: [5, 10, 15, 20, 25]\n"
     ]
    }
   ],
   "source": [
    "# Scalar formula: wn = A * xn\n",
    "def ScalarMultiplication(A, xn):\n",
    "    wn = []\n",
    "    for value in xn:\n",
    "        wn.append(A * value)\n",
    "    return wn\n",
    "\n",
    "xn = list(map(int, input(\"Enter sequence x (put comma): \").split(\",\")))\n",
    "A = int(input(\"Enter scalar A: \"))\n",
    "\n",
    "wn = ScalarMultiplication(A, xn)\n",
    "\n",
    "print(\"Original sequence:\", xn)\n",
    "print(\"Scalar A:\", A)\n",
    "print(\"The scalar product is:\", wn)\n"
   ]
  },
  {
   "cell_type": "code",
   "execution_count": null,
   "id": "531c65e4",
   "metadata": {},
   "outputs": [
    {
     "name": "stdout",
     "output_type": "stream",
     "text": [
      "Original sequence z(n): {-2: -2, -1: -1, 0: 0, 1: 1, 2: 2}\n",
      "Origin: 0\n",
      "Shift N: 2\n",
      "Time-shifted sequence w(n) = z(n - {N}): {-2: 0, -1: 0, 0: -2, 1: -1, 2: 0}\n"
     ]
    }
   ],
   "source": [
    "# Time Shift formula: w(n)=x(n-N)\n",
    "def TimeShift(z, N):\n",
    "    return {n: z.get(n - N, 0) for n in z}\n",
    "\n",
    "vals = list(map(int, input(\"Enter sequence values (put comma): \").split(\",\")))\n",
    "origin = int(input(\"Enter Origin:\"))\n",
    "N = int(input(\"Enter N:\"))\n",
    "\n",
    "mid = len(vals) // 2\n",
    "start_index = origin - mid\n",
    "\n",
    "z = {start_index + i: v for i, v in enumerate(vals)}\n",
    "\n",
    "w = TimeShift(z, N)\n",
    "\n",
    "print(\"Original sequence z(n):\", z)\n",
    "print(\"Origin:\", origin)\n",
    "print(\"Shift N:\", N)\n",
    "print(\"Time-shifted sequence w(n)=x(n-{N}):\", w)\n"
   ]
  },
  {
   "cell_type": "code",
   "execution_count": null,
   "id": "bcc1671b",
   "metadata": {},
   "outputs": [],
   "source": []
  }
 ],
 "metadata": {
  "kernelspec": {
   "display_name": "Python 3",
   "language": "python",
   "name": "python3"
  },
  "language_info": {
   "codemirror_mode": {
    "name": "ipython",
    "version": 3
   },
   "file_extension": ".py",
   "mimetype": "text/x-python",
   "name": "python",
   "nbconvert_exporter": "python",
   "pygments_lexer": "ipython3",
   "version": "3.13.1"
  }
 },
 "nbformat": 4,
 "nbformat_minor": 5
}

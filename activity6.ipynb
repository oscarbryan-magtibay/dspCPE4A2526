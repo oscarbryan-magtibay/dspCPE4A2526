{
 "cells": [
  {
   "cell_type": "code",
   "execution_count": null,
   "id": "99854f30",
   "metadata": {},
   "outputs": [
    {
     "name": "stdout",
     "output_type": "stream",
     "text": [
      "the modulation product is: [10, 30, 60, 100, 150, 210, 280, 360]\n"
     ]
    }
   ],
   "source": [
    "#MODULATION\n",
    "xn = [2, 3, 4, 5, 6, 7, 8, 9]\n",
    "yn = [5, 10, 15, 20, 25, 30, 35, 40]\n",
    "wn = []\n",
    "\n",
    "def modulationProduct(xn, yn):\n",
    "    for n in range(len(xn)):\n",
    "        w = xn[n] * yn[n]\n",
    "        wn.append(w)\n",
    "    return wn\n",
    "wn = modulationProduct(xn, yn)\n",
    "print(\"the modulation product is:\", wn)\n"
   ]
  },
  {
   "cell_type": "code",
   "execution_count": 3,
   "id": "b371a554",
   "metadata": {},
   "outputs": [
    {
     "name": "stdout",
     "output_type": "stream",
     "text": [
      "the addition product is: [7, 13, 19, 25, 31, 37, 43, 49]\n"
     ]
    }
   ],
   "source": [
    "#ADDITION\n",
    "xn = [2, 3, 4, 5, 6, 7, 8, 9]\n",
    "yn = [5, 10, 15, 20, 25, 30, 35, 40]\n",
    "wn = []\n",
    "\n",
    "def additionProduct(xn, yn):\n",
    "    for n in range(len(xn)):\n",
    "        w = xn[n] + yn[n]\n",
    "        wn.append(w)\n",
    "    return wn\n",
    "wn = additionProduct(xn, yn)\n",
    "print(\"the addition product is:\", wn)"
   ]
  },
  {
   "cell_type": "code",
   "execution_count": 9,
   "id": "2eb44010",
   "metadata": {},
   "outputs": [
    {
     "name": "stdout",
     "output_type": "stream",
     "text": [
      "the scalar product is: [6, 9, 12, 15, 18, 21, 24, 27]\n"
     ]
    }
   ],
   "source": [
    "#SCALAR\n",
    "xn = [2, 3, 4, 5, 6, 7, 8, 9]\n",
    "a = 3\n",
    "wn = []\n",
    "\n",
    "def scalarProduct(a, xn):\n",
    "    for w in xn:\n",
    "        w = a * w\n",
    "        wn.append(w)\n",
    "    return wn\n",
    "        \n",
    "wn = scalarProduct(a, xn)\n",
    "print(\"the scalar product is:\", wn)"
   ]
  },
  {
   "cell_type": "code",
   "execution_count": 16,
   "id": "ed7ea1a6",
   "metadata": {},
   "outputs": [
    {
     "name": "stdout",
     "output_type": "stream",
     "text": [
      "the timeShiftProduct is: [1, 1, 1, 1, 1, 2, 3, 4, 5, 6, 7, 8, 9, 10, 11, 12, 13, 14, 15, 16, 17, 18, 19, 20]\n"
     ]
    }
   ],
   "source": [
    "# TIME SHIFT\n",
    "xn = [2, 3, 4, 5, 6, 7, 8, 9, 10, 11, 12, 13, 14, 15, 16, 17, 18, 19, 20]\n",
    "a = 5  # this value if for the number of delay that we want\n",
    "wn = []\n",
    "\n",
    "def timeShiftProduct(xn, a):\n",
    "    for n in range(a):\n",
    "        wn.append(1) # this value if for the exact digit of the delay\n",
    "    for w in xn:\n",
    "        wn.append(w)\n",
    "    return wn\n",
    "\n",
    "wn = timeShiftProduct(xn, a)\n",
    "print(\"the timeShiftProduct is:\", wn)\n"
   ]
  }
 ],
 "metadata": {
  "kernelspec": {
   "display_name": "Python 3",
   "language": "python",
   "name": "python3"
  },
  "language_info": {
   "codemirror_mode": {
    "name": "ipython",
    "version": 3
   },
   "file_extension": ".py",
   "mimetype": "text/x-python",
   "name": "python",
   "nbconvert_exporter": "python",
   "pygments_lexer": "ipython3",
   "version": "3.13.7"
  }
 },
 "nbformat": 4,
 "nbformat_minor": 5
}

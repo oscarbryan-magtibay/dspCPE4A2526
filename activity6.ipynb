{
 "cells": [
  {
   "cell_type": "code",
   "execution_count": 14,
   "id": "072a5930",
   "metadata": {},
   "outputs": [
    {
     "name": "stdout",
     "output_type": "stream",
     "text": [
      "Final aligned sequences:\n",
      "origin of xn: 2\n",
      "origin of yn: 2\n",
      "xn: [1, 2, 3, 0, 0, 0]\n",
      "yn: [0, 1, 2, 3, 4, 5]\n"
     ]
    }
   ],
   "source": [
    "#ALLIGNMENT using Modulation formula wn = xn * yn\n",
    "\n",
    "xn = list(map(int, input(\"Enter sequence xn (comma-separated): \").split(\",\")))\n",
    "yn = list(map(int, input(\"Enter sequence yn (comma-separated): \").split(\",\")))\n",
    "\n",
    "origin_xn = int(input(\"Enter origin of xn: \"))\n",
    "origin_yn = int(input(\"Enter origin of yn: \"))\n",
    "\n",
    "if origin_xn > origin_yn:\n",
    "    diff = origin_xn - origin_yn\n",
    "    yn = [0]*diff + yn\n",
    "    origin_yn += diff\n",
    "elif origin_yn > origin_xn:\n",
    "    diff = origin_yn - origin_xn\n",
    "    xn = [0]*diff + xn\n",
    "    origin_xn += diff\n",
    "\n",
    "last_xn = len(xn) - origin_xn\n",
    "last_yn = len(yn) - origin_yn\n",
    "diff_last = abs(last_xn - last_yn)\n",
    "\n",
    "if last_xn > last_yn:\n",
    "    yn = yn + [0] * diff_last\n",
    "else:\n",
    "    xn = xn + [0] * diff_last\n",
    "\n",
    "print(\"Final aligned sequences:\")\n",
    "print(\"origin of xn:\", origin_xn)\n",
    "print(\"origin of yn:\", origin_yn)\n",
    "print(\"xn:\", xn)\n",
    "print(\"yn:\", yn)\n"
   ]
  },
  {
   "cell_type": "code",
   "execution_count": null,
   "id": "a938133e",
   "metadata": {},
   "outputs": [
    {
     "name": "stdout",
     "output_type": "stream",
     "text": [
      "Final aligned sequences:\n",
      "origin of xn: 3\n",
      "origin of yn: 1\n",
      "xn: [1, 2, 3, 4, 5, 0, 0, 0]\n",
      "yn: [0, 0, 1, 2, 3, 4, 5, 6]\n",
      "The Modulation is: [0, 0, 3, 8, 15, 0, 0, 0]\n"
     ]
    },
    {
     "ename": "",
     "evalue": "",
     "output_type": "error",
     "traceback": [
      "\u001b[1;31mThe Kernel crashed while executing code in the current cell or a previous cell. \n",
      "\u001b[1;31mPlease review the code in the cell(s) to identify a possible cause of the failure. \n",
      "\u001b[1;31mClick <a href='https://aka.ms/vscodeJupyterKernelCrash'>here</a> for more info. \n",
      "\u001b[1;31mView Jupyter <a href='command:jupyter.viewOutput'>log</a> for further details."
     ]
    }
   ],
   "source": [
    "#Modulation formula: wn = xn * yn\n",
    "\n",
    "def Modulation(xn, yn):\n",
    "    wn = []\n",
    "    for i in range(len(xn)):\n",
    "        wn.append(xn[i] * yn[i])\n",
    "    return wn\n",
    "\n",
    "xn = list(map(int, input(\"Enter sequence xn (comma-separated): \").split(\",\")))\n",
    "yn = list(map(int, input(\"Enter sequence yn (comma-separated): \").split(\",\")))\n",
    "\n",
    "input_origin_xn = int(input(\"Enter origin of xn: \"))\n",
    "input_origin_yn = int(input(\"Enter origin of yn: \"))\n",
    "\n",
    "xn_origin = input_origin_xn\n",
    "yn_origin = input_origin_yn\n",
    "\n",
    "if xn_origin > yn_origin:\n",
    "    add_zeroes = xn_origin - yn_origin\n",
    "    yn = [0] * add_zeroes + yn\n",
    "    yn_origin += add_zeroes\n",
    "elif yn_origin > xn_origin:\n",
    "    add_zeroes = yn_origin - xn_origin\n",
    "    xn = [0] * add_zeroes + xn\n",
    "    xn_origin += add_zeroes\n",
    "\n",
    "last_xn = len(xn) - xn_origin\n",
    "last_yn = len(yn) - yn_origin\n",
    "diff_last = abs(last_xn - last_yn)\n",
    "\n",
    "if last_xn > last_yn:\n",
    "    yn += [0] * diff_last\n",
    "else:\n",
    "    xn += [0] * diff_last\n",
    "\n",
    "wn = Modulation(xn, yn)\n",
    "\n",
    "print(\"Final aligned sequences:\")\n",
    "print(\"origin of xn:\", input_origin_xn)\n",
    "print(\"origin of yn:\", input_origin_yn)\n",
    "print(\"xn:\", xn)\n",
    "print(\"yn:\", yn)\n",
    "print(\"The Modulation is:\", wn)\n"
   ]
  },
  {
   "cell_type": "code",
   "execution_count": null,
   "id": "f46a6bce",
   "metadata": {},
   "outputs": [],
   "source": [
    "#Addition formula is\n",
    "\n"
   ]
  },
  {
   "cell_type": "code",
   "execution_count": null,
   "id": "222c0584",
   "metadata": {},
   "outputs": [
    {
     "name": "stdout",
     "output_type": "stream",
     "text": [
      "The scalar product is: [10, 15, 20, 35, 45, 25]\n"
     ]
    }
   ],
   "source": [
    "#Scalar Multiplication formula is wn = A * xn\n",
    "xn = [2,3,4,7,9,5]\n",
    "A = 5\n",
    "wn = []\n",
    "\n",
    "def ScalarMultiplication(A,xn):\n",
    "    for w in xn:\n",
    "        w = A*w\n",
    "        wn.append(w)\n",
    "    return wn\n",
    "    \n",
    "wn = ScalarMultiplication(A,xn)\n",
    "print(\"The scalar product is:\", wn)    "
   ]
  }
 ],
 "metadata": {
  "kernelspec": {
   "display_name": "Python 3",
   "language": "python",
   "name": "python3"
  },
  "language_info": {
   "codemirror_mode": {
    "name": "ipython",
    "version": 3
   },
   "file_extension": ".py",
   "mimetype": "text/x-python",
   "name": "python",
   "nbconvert_exporter": "python",
   "pygments_lexer": "ipython3",
   "version": "3.13.1"
  }
 },
 "nbformat": 4,
 "nbformat_minor": 5
}

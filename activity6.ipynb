{
 "cells": [
  {
   "cell_type": "code",
   "execution_count": 13,
   "id": "9e89b009",
   "metadata": {},
   "outputs": [
    {
     "name": "stdout",
     "output_type": "stream",
     "text": [
      "the modulation product is: [30, 72, 126, 192, 270, 360, 462, 576, 702, 840, 990]\n"
     ]
    }
   ],
   "source": [
    "#MODULATION\n",
    "xn = [5, 6, 7, 8, 9, 10, 11, 12, 13, 14, 15]\n",
    "yn = [6, 12, 18, 24, 30, 36, 42, 48, 54, 60, 66]\n",
    "wn = []\n",
    "\n",
    "def modulationProduct(xn, yn):\n",
    "    for n in range(len(xn)):\n",
    "     w = xn[n] * yn[n]\n",
    "     wn.append(w)\n",
    "    return wn\n",
    "wn = modulationProduct(xn, yn)\n",
    "print(\"the modulation product is:\", wn)\n"
   ]
  },
  {
   "cell_type": "code",
   "execution_count": 14,
   "id": "ba66eaa0",
   "metadata": {},
   "outputs": [
    {
     "name": "stdout",
     "output_type": "stream",
     "text": [
      "the addition product is: [11, 18, 25, 32, 39, 46, 53, 60, 67, 74, 81]\n"
     ]
    }
   ],
   "source": [
    "#ADDITION\n",
    "xn = [5, 6, 7, 8, 9, 10, 11, 12, 13, 14, 15]\n",
    "yn = [6, 12, 18, 24, 30, 36, 42, 48, 54, 60, 66]\n",
    "wn = []\n",
    "\n",
    "def additionProduct(xn, yn):\n",
    "    for n in range(len(xn)):\n",
    "     w = xn[n] + yn[n]\n",
    "     wn.append(w)\n",
    "    return wn\n",
    "wn = additionProduct(xn, yn)\n",
    "print(\"the addition product is:\", wn)"
   ]
  },
  {
   "cell_type": "code",
   "execution_count": 15,
   "id": "efd5aa20",
   "metadata": {},
   "outputs": [
    {
     "name": "stdout",
     "output_type": "stream",
     "text": [
      "the scalar product is: [25, 30, 35, 40, 45, 50, 55, 60, 65, 70, 75]\n"
     ]
    }
   ],
   "source": [
    "#SCALAR\n",
    "xn = [5, 6, 7, 8, 9, 10, 11, 12, 13, 14, 15]\n",
    "a = 5\n",
    "wn = []\n",
    "\n",
    "def scalarProduct(a, xn):\n",
    "    for w in xn:\n",
    "     w = a * w\n",
    "     wn.append(w)\n",
    "    return wn\n",
    "\n",
    "wn = scalarProduct(a, xn)\n",
    "print(\"the scalar product is:\", wn)"
   ]
  },
  {
   "cell_type": "code",
   "execution_count": 11,
   "id": "3ed8f4b1",
   "metadata": {},
   "outputs": [
    {
     "name": "stdout",
     "output_type": "stream",
     "text": [
      "the timeShiftProduct is: [2, 2, 2, 2, 2, 2, 5, 6, 7, 8, 9, 10, 11, 12, 13, 14, 15, 16, 17, 18, 19, 20, 21, 22, 23, 24, 25]\n"
     ]
    }
   ],
   "source": [
    "# TIME SHIFT\n",
    "xn = [5, 6, 7, 8, 9, 10, 11, 12, 13, 14, 15, 16, 17, 18, 19, 20, 21, 22, 23, 24, 25]\n",
    "a = 6\n",
    "wn = []\n",
    "\n",
    "def timeShiftProduct(xn, a):\n",
    "    for n in range(a):\n",
    "     wn.append(2)\n",
    "    for w in xn:\n",
    "     wn.append(w)\n",
    "    return wn\n",
    "\n",
    "wn = timeShiftProduct(xn, a)\n",
    "print(\"the timeShiftProduct is:\", wn)"
   ]
  }
 ],
 "metadata": {
  "kernelspec": {
   "display_name": "Python 3",
   "language": "python",
   "name": "python3"
  },
  "language_info": {
   "codemirror_mode": {
    "name": "ipython",
    "version": 3
   },
   "file_extension": ".py",
   "mimetype": "text/x-python",
   "name": "python",
   "nbconvert_exporter": "python",
   "pygments_lexer": "ipython3",
   "version": "3.13.3"
  }
 },
 "nbformat": 4,
 "nbformat_minor": 5
}
